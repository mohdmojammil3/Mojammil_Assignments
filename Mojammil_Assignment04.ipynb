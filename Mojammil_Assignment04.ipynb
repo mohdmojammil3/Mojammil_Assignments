{
 "cells": [
  {
   "cell_type": "markdown",
   "id": "afedb303",
   "metadata": {},
   "source": [
    "1. What exactly is [ ]?"
   ]
  },
  {
   "cell_type": "markdown",
   "id": "6e8f8ec2",
   "metadata": {},
   "source": [
    "Ans.The empty list value, which is a list value that contains no items. This is similar to how '' is the empty string value."
   ]
  },
  {
   "cell_type": "code",
   "execution_count": 3,
   "id": "c55aa318",
   "metadata": {},
   "outputs": [
    {
     "name": "stdout",
     "output_type": "stream",
     "text": [
      "[]\n"
     ]
    }
   ],
   "source": [
    "# Example :\n",
    "l = [] # this is empty\n",
    "print(l)"
   ]
  },
  {
   "cell_type": "markdown",
   "id": "e0c1610b",
   "metadata": {},
   "source": [
    "2. In a list of values stored in a variable called spam,\n",
    "how would you assign the value 'hello' as the third value? (Assume [2, 4, 6, 8, 10] are in spam.)\n",
    "Let's pretend the spam includes the list ['a', 'b', 'c', 'd'] for the next three queries."
   ]
  },
  {
   "cell_type": "markdown",
   "id": "91044b13",
   "metadata": {},
   "source": [
    "Ans : spam[2] = 'hello' (Notice that the third value in a list is at index 2 because the first index is 0.)"
   ]
  },
  {
   "cell_type": "code",
   "execution_count": 5,
   "id": "027153aa",
   "metadata": {},
   "outputs": [
    {
     "name": "stdout",
     "output_type": "stream",
     "text": [
      "[2, 4, 8, 10]\n",
      "[2, 4, 'hello', 10]\n"
     ]
    }
   ],
   "source": [
    "# Ans We do this through Indexing\n",
    "spam =[2,4,8,10] #[0,1,2,3]\n",
    "print(spam)\n",
    "spam[2]=\"hello\"\n",
    "print(spam)"
   ]
  },
  {
   "cell_type": "markdown",
   "id": "f537a149",
   "metadata": {},
   "source": [
    "3. What is the value of spam[int(int('3' * 2) / 11)]?"
   ]
  },
  {
   "cell_type": "code",
   "execution_count": null,
   "id": "17501dda",
   "metadata": {},
   "outputs": [],
   "source": [
    "Ans-(Note that '3' * 2 is the string '33', which is passed to int() before being divided by 11.\n",
    "This eventually evaluates to 3. Expressions can be used wherever values are used. But answer to the above expression spam[int(int('3' * 2) / 11)] is 10"
   ]
  },
  {
   "cell_type": "code",
   "execution_count": 16,
   "id": "7cb33c58",
   "metadata": {},
   "outputs": [
    {
     "data": {
      "text/plain": [
       "['33']"
      ]
     },
     "execution_count": 16,
     "metadata": {},
     "output_type": "execute_result"
    }
   ],
   "source": [
    "['3'*2]"
   ]
  },
  {
   "cell_type": "code",
   "execution_count": 23,
   "id": "624e0b06",
   "metadata": {},
   "outputs": [
    {
     "data": {
      "text/plain": [
       "[33]"
      ]
     },
     "execution_count": 23,
     "metadata": {},
     "output_type": "execute_result"
    }
   ],
   "source": [
    "[int('3'*2)]"
   ]
  },
  {
   "cell_type": "code",
   "execution_count": 24,
   "id": "6e7752cd",
   "metadata": {},
   "outputs": [
    {
     "data": {
      "text/plain": [
       "[3]"
      ]
     },
     "execution_count": 24,
     "metadata": {},
     "output_type": "execute_result"
    }
   ],
   "source": [
    "[int(int('3' * 2) / 11)]"
   ]
  },
  {
   "cell_type": "code",
   "execution_count": 32,
   "id": "a5963298",
   "metadata": {},
   "outputs": [
    {
     "data": {
      "text/plain": [
       "10"
      ]
     },
     "execution_count": 32,
     "metadata": {},
     "output_type": "execute_result"
    }
   ],
   "source": [
    "spam[int(int('3' * 2) / 11)]"
   ]
  },
  {
   "cell_type": "markdown",
   "id": "b8797c75",
   "metadata": {},
   "source": [
    "4. What is the value of spam[-1]?"
   ]
  },
  {
   "cell_type": "code",
   "execution_count": 35,
   "id": "a49f0ae1",
   "metadata": {},
   "outputs": [
    {
     "data": {
      "text/plain": [
       "10"
      ]
     },
     "execution_count": 35,
     "metadata": {},
     "output_type": "execute_result"
    }
   ],
   "source": [
    "spam[-1]"
   ]
  },
  {
   "cell_type": "code",
   "execution_count": 36,
   "id": "c8b5efb1",
   "metadata": {},
   "outputs": [
    {
     "data": {
      "text/plain": [
       "[-1]"
      ]
     },
     "execution_count": 36,
     "metadata": {},
     "output_type": "execute_result"
    }
   ],
   "source": [
    "# if we run Like this the should be (negative of 1 eg...-1)\n",
    "[-1]\n"
   ]
  },
  {
   "cell_type": "markdown",
   "id": "21cd8812",
   "metadata": {},
   "source": [
    "5. What is the value of spam[:2]?\n",
    "Let's pretend bacon has the list [3.14, 'cat,' 11, 'cat,' True] for the next three questions."
   ]
  },
  {
   "cell_type": "markdown",
   "id": "846c449d",
   "metadata": {},
   "source": [
    "Ans- list=[3.14, 'cat', 11, 'cat', True] \n",
    "     print(list[:2]) # here 2 is exclusive, this why \n",
    "    we get an answer after print is\n",
    "    [3.14, 'cat']"
   ]
  },
  {
   "cell_type": "code",
   "execution_count": 42,
   "id": "3fbe5844",
   "metadata": {},
   "outputs": [
    {
     "name": "stdout",
     "output_type": "stream",
     "text": [
      "[3.14, 'cat']\n"
     ]
    }
   ],
   "source": [
    "#example\n",
    "list=[3.14, 'cat', 11, 'cat', True]\n",
    "print(list[:2])"
   ]
  },
  {
   "cell_type": "markdown",
   "id": "42c8c8c2",
   "metadata": {},
   "source": [
    "6. What is the value of bacon.index('cat')?"
   ]
  },
  {
   "cell_type": "markdown",
   "id": "aaf9d2b8",
   "metadata": {},
   "source": [
    "Ans-cat is at index value 1 and 3"
   ]
  },
  {
   "cell_type": "code",
   "execution_count": 47,
   "id": "ed739929",
   "metadata": {},
   "outputs": [
    {
     "name": "stdout",
     "output_type": "stream",
     "text": [
      "cat\n",
      "cat\n"
     ]
    }
   ],
   "source": [
    "# example\n",
    "list=[3.14, 'cat', 11, 'cat', True]\n",
    "list1 =list[1]\n",
    "list2 =list[3]\n",
    "print(list1)\n",
    "print(list2)"
   ]
  },
  {
   "cell_type": "markdown",
   "id": "4b601907",
   "metadata": {},
   "source": [
    "7. How does bacon.append(99) change the look of the list value in bacon?"
   ]
  },
  {
   "cell_type": "markdown",
   "id": "3f894051",
   "metadata": {},
   "source": [
    "Ans-While append() will add values only to the end of a list, insert() can add them anywhere in the list.\n",
    "just like so in example below"
   ]
  },
  {
   "cell_type": "code",
   "execution_count": 59,
   "id": "99d82342",
   "metadata": {},
   "outputs": [
    {
     "name": "stdout",
     "output_type": "stream",
     "text": [
      "[3.14, 'cat', 11, 'cat', True, '99']\n"
     ]
    }
   ],
   "source": [
    "# here is the list\n",
    "list=[3.14, 'cat', 11, 'cat', True]\n",
    "v = \"99\" # v is a variable in 99 (value) is store,so let insert 99 in the ablove list using append\n",
    "list.append(v)\n",
    "print(list)"
   ]
  },
  {
   "cell_type": "code",
   "execution_count": 56,
   "id": "d0a22df5",
   "metadata": {},
   "outputs": [
    {
     "name": "stdout",
     "output_type": "stream",
     "text": [
      "None\n"
     ]
    }
   ],
   "source": [
    "l = [1,2,3]\n",
    "print(l.append(\"5\"))"
   ]
  },
  {
   "cell_type": "code",
   "execution_count": null,
   "id": "5e421fba",
   "metadata": {},
   "outputs": [],
   "source": [
    "8. How does bacon.remove('cat') change the look of the list in bacon?"
   ]
  },
  {
   "cell_type": "code",
   "execution_count": null,
   "id": "daca41c3",
   "metadata": {},
   "outputs": [],
   "source": [
    "Ans. The del statement and the remove() list method are two ways to remove values from a list."
   ]
  },
  {
   "cell_type": "code",
   "execution_count": 60,
   "id": "d431f04d",
   "metadata": {},
   "outputs": [
    {
     "name": "stdout",
     "output_type": "stream",
     "text": [
      "[3.14, 11, 'cat', True]\n"
     ]
    }
   ],
   "source": [
    "list=[3.14, 'cat', 11, 'cat', True]\n",
    "list.remove('cat')\n",
    "print(list)"
   ]
  },
  {
   "cell_type": "code",
   "execution_count": 66,
   "id": "eaad614d",
   "metadata": {},
   "outputs": [
    {
     "name": "stdout",
     "output_type": "stream",
     "text": [
      "<class 'list'>\n"
     ]
    }
   ],
   "source": [
    "list=[3.14, 'cat', 11, 'cat', True]\n",
    "del list\n",
    "print(list)"
   ]
  },
  {
   "cell_type": "markdown",
   "id": "dd44db74",
   "metadata": {},
   "source": [
    "9. What are the list concatenation and list replication operators?"
   ]
  },
  {
   "cell_type": "markdown",
   "id": "26bf20b4",
   "metadata": {},
   "source": [
    "Ans-The operator for list concatenation is +, while the operator for replication is *. (This is the same as for strings.)"
   ]
  },
  {
   "cell_type": "code",
   "execution_count": 71,
   "id": "3a795ff9",
   "metadata": {},
   "outputs": [
    {
     "name": "stdout",
     "output_type": "stream",
     "text": [
      "[1, 2, 3, 4, 5, 6]\n",
      "[1, 2, 3, 1, 2, 3, 1, 2, 3]\n"
     ]
    }
   ],
   "source": [
    "# concatinate\n",
    "l1 = [1,2,3]\n",
    "l2 = [4,5,6]\n",
    "print(l1+l2)\n",
    "\n",
    "#Replication\n",
    "print(l1*3)"
   ]
  },
  {
   "cell_type": "markdown",
   "id": "385ab692",
   "metadata": {},
   "source": [
    "10. What is difference between the list methods append() and insert()?"
   ]
  },
  {
   "cell_type": "markdown",
   "id": "50a020c7",
   "metadata": {},
   "source": [
    "Ans- While append() will add values only to the end of a list, insert() can add them anywhere in the list."
   ]
  },
  {
   "cell_type": "code",
   "execution_count": 75,
   "id": "a557c50d",
   "metadata": {},
   "outputs": [
    {
     "name": "stdout",
     "output_type": "stream",
     "text": [
      "[1, 2, 3, 4]\n",
      "[5, 2, 6, 7, 8, 9]\n"
     ]
    }
   ],
   "source": [
    "# using append( method)\n",
    "l1 = [1,2,3]\n",
    "l1.append(4)\n",
    "print(l1)\n",
    "\n",
    "# using insert(method)\n",
    "l2 = [5,6,7,8,9]\n",
    "l2.insert(1,2)# insert(index value(place),Number(it can be anything))\n",
    "print(l2)"
   ]
  },
  {
   "cell_type": "markdown",
   "id": "1b98b213",
   "metadata": {},
   "source": [
    "11. What are the two methods for removing items from a list?"
   ]
  },
  {
   "cell_type": "code",
   "execution_count": null,
   "id": "87c5adc8",
   "metadata": {},
   "outputs": [],
   "source": [
    "Ans-The del statement, pop(),clear() and the remove() list method are two ways to remove values from a list.."
   ]
  },
  {
   "cell_type": "code",
   "execution_count": 96,
   "id": "63aeb60a",
   "metadata": {},
   "outputs": [
    {
     "name": "stdout",
     "output_type": "stream",
     "text": [
      "updated list : [1, 2, 3, 4, 5]\n",
      "updated list : [2, 3, 4, 5]\n",
      "updated list : [2, 3, 4]\n",
      "updated list : []\n"
     ]
    }
   ],
   "source": [
    "l1 = [1,2,3,4,5,6]\n",
    "l1.pop()\n",
    "print(\"updated list :\",l1)\n",
    "l1.remove(1)\n",
    "print(\"updated list :\",l1)\n",
    "del l1[3]\n",
    "print(\"updated list :\",l1)\n",
    "l1.clear()\n",
    "print(\"updated list :\",l1)"
   ]
  },
  {
   "cell_type": "markdown",
   "id": "4f2431f5",
   "metadata": {},
   "source": [
    "12. Describe how list values and string values are identical."
   ]
  },
  {
   "cell_type": "markdown",
   "id": "4437e9cc",
   "metadata": {},
   "source": [
    "Ans--Both lists and strings can be passed to len(),\n",
    "have indexes and slices, be used in for loops, \n",
    "be concatenated or replicated, \n",
    "and be used with the in and not in operators."
   ]
  },
  {
   "cell_type": "markdown",
   "id": "dd2b4340",
   "metadata": {},
   "source": [
    "13. What's the difference between tuples and lists?"
   ]
  },
  {
   "cell_type": "markdown",
   "id": "7d6359e9",
   "metadata": {},
   "source": [
    " Lists are mutable; they can have values added, removed, or changed. \n",
    "Tuples are immutable; they cannot be changed at all.\n",
    "Also, tuples are written using parentheses, ( and ), while lists use the square brackets, [ and ]."
   ]
  },
  {
   "cell_type": "code",
   "execution_count": 102,
   "id": "5c756cde",
   "metadata": {},
   "outputs": [
    {
     "name": "stdout",
     "output_type": "stream",
     "text": [
      "<class 'list'> [1, 2, 3, 4, 'Mojammil', 'Student : iNeuron']\n"
     ]
    }
   ],
   "source": [
    "list = [1,2,3,4,\"Mojammil\",\"Student : iNeuron\"]\n",
    "print(type(list),list)"
   ]
  },
  {
   "cell_type": "markdown",
   "id": "aa2067d6",
   "metadata": {},
   "source": [
    "14. How do you type a tuple value that only contains the integer 42?"
   ]
  },
  {
   "cell_type": "code",
   "execution_count": 11,
   "id": "9f5b26e0",
   "metadata": {},
   "outputs": [
    {
     "name": "stdout",
     "output_type": "stream",
     "text": [
      "<class 'tuple'>\n"
     ]
    }
   ],
   "source": [
    "## ans \n",
    "x = (42,) # comma is mandatory\n",
    "print(type(x))"
   ]
  },
  {
   "cell_type": "markdown",
   "id": "9e38d0aa",
   "metadata": {},
   "source": [
    "15. How do you get a list value's tuple form? How do you get a tuple value's list form?"
   ]
  },
  {
   "cell_type": "code",
   "execution_count": 23,
   "id": "e9e5e41c",
   "metadata": {},
   "outputs": [
    {
     "name": "stdout",
     "output_type": "stream",
     "text": [
      "List Into Tuple : (1, 2, 3, 4) <class 'tuple'>\n",
      "get a tuple value's list form : [1, 23, {'Name': 'Mojammil'}] <class 'list'>\n"
     ]
    }
   ],
   "source": [
    "# ANS - The tuple() and list() functions, respectively\n",
    "\n",
    "\n",
    "lst = tuple([1,2,3,4])\n",
    "print(\"List Into Tuple :\",lst,type(lst))\n",
    "\n",
    "\n",
    "t = list((1,23,{'Name':'Mojammil'}))  # by using list constructor or function-list()\n",
    "print(\"get a tuple value's list form :\",t,type(t))"
   ]
  },
  {
   "cell_type": "markdown",
   "id": "15d87fc0",
   "metadata": {},
   "source": [
    "16. Variables that \"contain\" list values are not necessarily lists themselves. Instead, what do they contain?"
   ]
  },
  {
   "cell_type": "markdown",
   "id": "4e807f97",
   "metadata": {},
   "source": [
    "Ans - They contain references to list values."
   ]
  },
  {
   "cell_type": "code",
   "execution_count": 26,
   "id": "7e46f5a9",
   "metadata": {},
   "outputs": [
    {
     "name": "stdout",
     "output_type": "stream",
     "text": [
      "tuple value's list form : [1, 23, 154, 4545] <class 'list'>\n"
     ]
    }
   ],
   "source": [
    "t2 = list((1,23,154,4545))\n",
    "print(\"tuple value's list form :\",t2,type(t))\n"
   ]
  },
  {
   "cell_type": "markdown",
   "id": "eef23075",
   "metadata": {},
   "source": [
    "# 17. How do you distinguish between copy.copy() and copy.deepcopy()?"
   ]
  },
  {
   "cell_type": "markdown",
   "id": "55b39729",
   "metadata": {},
   "source": [
    "# Ans-\n",
    "#  The copy.copy() function will do a shallow copy of a list,\n",
    "# while the copy.deepcopy() function will do a deep copy of a list. \n",
    "# That is, only copy.deepcopy() will duplicate any lists inside the list.\n",
    "\n",
    "# or \n",
    "# In the case of deep copy, a copy of the object is copied into another object. \n",
    "# It means that any changes made to a copy of the object do not reflect in the original object. \n",
    "\n"
   ]
  },
  {
   "cell_type": "markdown",
   "id": "8993b982",
   "metadata": {},
   "source": [
    "# e.g-"
   ]
  },
  {
   "cell_type": "code",
   "execution_count": 35,
   "id": "8a0ef6b2",
   "metadata": {},
   "outputs": [
    {
     "name": "stdout",
     "output_type": "stream",
     "text": [
      "Current list : [1, 2, 3, 4] <class 'list'>\n",
      "Updated list : [1, 2, 3, 4] <class 'list'>\n"
     ]
    }
   ],
   "source": [
    "import copy\n",
    "\n",
    "lst1 = [1,2,3,4]\n",
    "print(\"Current list :\",lst,type(lst))\n",
    "\n",
    "lst2 = copy.copy(lst1)\n",
    "print(\"Updated list :\",lst2,type(lst2))\n",
    "\n",
    "\n",
    "\n"
   ]
  },
  {
   "cell_type": "code",
   "execution_count": 73,
   "id": "fe2b073a",
   "metadata": {},
   "outputs": [
    {
     "name": "stdout",
     "output_type": "stream",
     "text": [
      "The original elements before deep copying\n",
      "1 2 3 4 \r\n",
      "The new list of elements after deep copying \n",
      "1 2 7 4 \r\n",
      "The original elements before deep copying\n",
      "1 2 3 4 "
     ]
    }
   ],
   "source": [
    "# in simple way\n",
    "\n",
    "import copy\n",
    "l1 = [ 1,2,3,4]\n",
    "l2 = copy.deepcopy(l1)\n",
    "print (\"The original elements before deep copying\")\n",
    "for i in range(0,len(l)):\n",
    "    print(l2[i],end=\" \")\n",
    "    \n",
    "print('\\r')\n",
    "\n",
    "# add the value in the list\n",
    "l2[2] = 7\n",
    "\n",
    "# Change is reflected in l2\n",
    "print (\"The new list of elements after deep copying \")\n",
    "for i in range(0,len(l)):\n",
    "    print(l2[i],end=\" \")\n",
    "    \n",
    "print('\\r')\n",
    "\n",
    "\n",
    "print (\"The original elements before deep copying\")\n",
    "for i in range(0,len(l)):\n",
    "    print(l1[i],end=\" \")\n"
   ]
  },
  {
   "cell_type": "code",
   "execution_count": 38,
   "id": "80c0acf9",
   "metadata": {},
   "outputs": [
    {
     "name": "stdout",
     "output_type": "stream",
     "text": [
      "The original elements before deep copying\n",
      "1 2 [3, 5] 4 \r\n",
      "The new list of elements after deep copying \n",
      "1 2 [7, 5] 4 \r\n",
      "The original elements after deep copying\n",
      "1 2 [3, 5] 4 "
     ]
    }
   ],
   "source": [
    "# importing \"copy\" for copy operations\n",
    "import copy\n",
    " \n",
    "# initializing list 1\n",
    "li1 = [1, 2, [3,5], 4]\n",
    " \n",
    "# using deepcopy to deep copy\n",
    "li2 = copy.deepcopy(li1)\n",
    " \n",
    "# original elements of list\n",
    "print (\"The original elements before deep copying\")\n",
    "for i in range(0,len(li1)):\n",
    "    print (li1[i],end=\" \") #end=\" \" thisis for giving space between iteration\n",
    " \n",
    "print(\"\\r\") #Carriage return or \\r is a very unique feature of Python. \n",
    "             #\\r will just work as we have shifted our cursor to the beginning of the string or line.\n",
    " \n",
    "# adding and element to new list\n",
    "li2[2][0] = 7\n",
    " \n",
    "# Change is reflected in l2\n",
    "print (\"The new list of elements after deep copying \")\n",
    "for i in range(0,len( li1)):\n",
    "    print (li2[i],end=\" \")\n",
    " \n",
    "print(\"\\r\")\n",
    " \n",
    "# Change is NOT reflected in original list\n",
    "# as it is a deep copy\n",
    "print (\"The original elements after deep copying\")\n",
    "for i in range(0,len( li1)):\n",
    "    print (li1[i],end=\" \")"
   ]
  }
 ],
 "metadata": {
  "kernelspec": {
   "display_name": "Python 3 (ipykernel)",
   "language": "python",
   "name": "python3"
  },
  "language_info": {
   "codemirror_mode": {
    "name": "ipython",
    "version": 3
   },
   "file_extension": ".py",
   "mimetype": "text/x-python",
   "name": "python",
   "nbconvert_exporter": "python",
   "pygments_lexer": "ipython3",
   "version": "3.10.6"
  }
 },
 "nbformat": 4,
 "nbformat_minor": 5
}
