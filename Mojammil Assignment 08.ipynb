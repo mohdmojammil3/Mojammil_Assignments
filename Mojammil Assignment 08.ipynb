{
 "cells": [
  {
   "cell_type": "markdown",
   "id": "a4afaa49",
   "metadata": {},
   "source": [
    "# 1. In Python, what is the difference between a built-in function and a user-defined function? Provide an\n",
    "# example of each.\n"
   ]
  },
  {
   "cell_type": "markdown",
   "id": "073e42ca",
   "metadata": {},
   "source": [
    "# Ans - Library functions are built-in functions which are defined inside python library or python itself whereas, user-defined functions are declared and defined by the programmer based on their needs."
   ]
  },
  {
   "cell_type": "markdown",
   "id": "bb4219b2",
   "metadata": {},
   "source": [
    "# buit-in function eg,\n",
    "# 1. print()\n",
    "# 2. all()\n",
    "# 3. abs()\n",
    "\n",
    "# User Define function \n",
    "# def add(a,b):\n",
    "#    sum = a+b\n",
    "#    return sum\n",
    "# add(3,4)"
   ]
  },
  {
   "cell_type": "code",
   "execution_count": 4,
   "id": "e51b772a",
   "metadata": {},
   "outputs": [
    {
     "name": "stdout",
     "output_type": "stream",
     "text": [
      "this is in-built function\n"
     ]
    },
    {
     "data": {
      "text/plain": [
       "'This Is User Define Function'"
      ]
     },
     "execution_count": 4,
     "metadata": {},
     "output_type": "execute_result"
    }
   ],
   "source": [
    "print(\"this is in-built function\") # this is in-built function\n",
    "\n",
    "def pr():\n",
    "    return \"This Is User Define Function\"\n",
    "pr()"
   ]
  },
  {
   "cell_type": "markdown",
   "id": "2e8bcab4",
   "metadata": {},
   "source": [
    "# 2. How can you pass arguments to a function in Python? Explain the difference between positional\n",
    "# arguments and keyword arguments.\n"
   ]
  },
  {
   "cell_type": "markdown",
   "id": "d25af8fb",
   "metadata": {},
   "source": [
    "# ans - \n",
    "# def add(a,b): # here undr round bracket we pass an argument\n",
    "#    print(\"Sum :\",a+b)\n",
    "#    return sum\n",
    "# add(3,4)\n",
    "# Python functions can contain two types of arguments: positional arguments and keyword arguments.\n",
    "# Positional arguments must be included in the correct order,\n",
    "# e.g_ term_list = [3, 5]\n",
    "#      complex(*term_list)\n",
    "# while Keyword arguments are included with a keyword and equals sign.\n",
    "# eg. \n",
    "# keyword_dict = {'real': 3, 'imag': 5}\n",
    "# complex(**keyword_dict)"
   ]
  },
  {
   "cell_type": "code",
   "execution_count": 36,
   "id": "bdf1ea11",
   "metadata": {},
   "outputs": [
    {
     "name": "stdout",
     "output_type": "stream",
     "text": [
      "Sum : 7\n"
     ]
    }
   ],
   "source": [
    "def add(x,y): # here i used to pass an argument under round bracket(x,y)\n",
    "    sum = x + y\n",
    "    return sum\n",
    "print(\"Sum :\",add(3,4))"
   ]
  },
  {
   "cell_type": "code",
   "execution_count": 13,
   "id": "b647a77c",
   "metadata": {},
   "outputs": [
    {
     "data": {
      "text/plain": [
       "(3+5j)"
      ]
     },
     "execution_count": 13,
     "metadata": {},
     "output_type": "execute_result"
    }
   ],
   "source": [
    "term_list = [3, 5] # Positional arguments\n",
    "complex(*term_list) # single star*\n"
   ]
  },
  {
   "cell_type": "code",
   "execution_count": 14,
   "id": "3fd4b779",
   "metadata": {},
   "outputs": [
    {
     "data": {
      "text/plain": [
       "(3+5j)"
      ]
     },
     "execution_count": 14,
     "metadata": {},
     "output_type": "execute_result"
    }
   ],
   "source": [
    "keyword_dict = {'real': 3, 'imag': 5} # Keyword arguments\n",
    "complex(**keyword_dict) # double star**\n"
   ]
  },
  {
   "cell_type": "markdown",
   "id": "fa2a390d",
   "metadata": {},
   "source": [
    "# 3. What is the purpose of the return statement in a function? Can a function have multiple return\n",
    "# statements? Explain with an example.\n"
   ]
  },
  {
   "cell_type": "markdown",
   "id": "d23086d8",
   "metadata": {},
   "source": [
    "# Ans- A return statement ends the execution of a function, and returns control to the calling function. \n",
    "# A method can have multiple return statements but only one of them will be executed \n",
    "# because once a return statement is executed,the program control moves back to the caller method \n",
    "# and skipping the remaining statements of the current method."
   ]
  },
  {
   "cell_type": "code",
   "execution_count": 40,
   "id": "fa9e5caa",
   "metadata": {},
   "outputs": [
    {
     "data": {
      "text/plain": [
       "'Hello Mojammil Assignment'"
      ]
     },
     "execution_count": 40,
     "metadata": {},
     "output_type": "execute_result"
    }
   ],
   "source": [
    "def hello():\n",
    "    return \"Hello Mojammil Assignment\"\n",
    "    return \"Hello krish Naiak Sir\" # This statements Not executed\n",
    "    return \"Hello Dr. fukran Sir \" # This statements Not executed\n",
    "hello()"
   ]
  },
  {
   "cell_type": "markdown",
   "id": "813e16e8",
   "metadata": {},
   "source": [
    "# 4. What are lambda functions in Python? \n",
    "# How are they different from regular functions? \n",
    "# Provide an example where a lambda function can be useful.\n"
   ]
  },
  {
   "cell_type": "markdown",
   "id": "8b1a84c8",
   "metadata": {},
   "source": [
    "# Ans - \n",
    "#A lambda function is an anonymous function that can take any number of arguments but,\n",
    "# unlike normal functions, evaluates and returns only one expression\n",
    "# now,\n",
    "#  In Python, the def keyword defines regular functions, whereas the lambda keyword defines anonymous functions. \n",
    "# As a result, lambda functions are another name for anonymous functions.\n",
    "\n"
   ]
  },
  {
   "cell_type": "code",
   "execution_count": 41,
   "id": "4595ce36",
   "metadata": {},
   "outputs": [
    {
     "name": "stdout",
     "output_type": "stream",
     "text": [
      "15\n"
     ]
    }
   ],
   "source": [
    "## lambda function - lambda function,cant having name\n",
    "# creating a function\n",
    "x = lambda a: a+10\n",
    "print(x(5))"
   ]
  },
  {
   "cell_type": "code",
   "execution_count": 42,
   "id": "eedec83b",
   "metadata": {},
   "outputs": [
    {
     "name": "stdout",
     "output_type": "stream",
     "text": [
      "num : 6\n",
      "The factorial of : 6 is : 720\n"
     ]
    }
   ],
   "source": [
    "def factorial(x):\n",
    "    if x == 1:\n",
    "        return 1\n",
    "    else:\n",
    "        return(x*factorial(x-1)) # calling recursion function\n",
    "num = int(input(\"num : \"))\n",
    "print(\"The factorial of :\",num,\"is :\",factorial(num))"
   ]
  },
  {
   "cell_type": "markdown",
   "id": "3f1df2f0",
   "metadata": {},
   "source": [
    "# 5. How does the concept of \"scope\" apply to functions in Python? Explain the difference between local\n",
    "# scope and global scope.\n"
   ]
  },
  {
   "cell_type": "markdown",
   "id": "f8584614",
   "metadata": {},
   "source": [
    "# Ans - Python Global variables are those which are not defined inside any function and have a global scope,\n",
    "# whereas Python local variables are those which are defined inside a function \n",
    "# and their scope is limited to that function only.\n",
    "# In other words, we can say that local variables are accessible only inside the function in which it was initialized \n",
    "# whereas the global variables are accessible throughout the program and inside every function. "
   ]
  },
  {
   "cell_type": "code",
   "execution_count": 44,
   "id": "b94fdb5c",
   "metadata": {},
   "outputs": [
    {
     "name": "stdout",
     "output_type": "stream",
     "text": [
      "12\n",
      "18\n"
     ]
    }
   ],
   "source": [
    "#  Python Global Variables\n",
    "# These are those which are defined outside any function and which are accessible throughout the program,\n",
    "#  i.e., inside and outside of every function.\n",
    "\n",
    "x = 12\n",
    "\n",
    "def add(a):\n",
    "    sum = a + x\n",
    "    return sum\n",
    "print(x) # accessing outside the function\n",
    "print(add(6)) # accessing inside the Function\n"
   ]
  },
  {
   "cell_type": "code",
   "execution_count": 48,
   "id": "d1641f2c",
   "metadata": {},
   "outputs": [
    {
     "data": {
      "text/plain": [
       "10"
      ]
     },
     "execution_count": 48,
     "metadata": {},
     "output_type": "execute_result"
    }
   ],
   "source": [
    "# Python Local Variables\n",
    "# Local variables in Python are those which are initialized inside a function and belong only to that particular function. \n",
    "# It cannot be accessed anywhere outside the function. Let’s see how to create a local variable.\n",
    "def add():\n",
    "    a = 5\n",
    "    b = 5\n",
    "    sum = a + b\n",
    "    return sum\n",
    "add() # calling the function\n"
   ]
  },
  {
   "cell_type": "code",
   "execution_count": 49,
   "id": "85ec0294",
   "metadata": {},
   "outputs": [
    {
     "name": "stdout",
     "output_type": "stream",
     "text": [
      "Enter The Value Of x :4\n",
      "Enter The Value Of y :6\n",
      "10.0\n"
     ]
    }
   ],
   "source": [
    "def sum(): # passing function parameters , this could be made as user input too\n",
    "    x = float(input(\"Enter The Value Of x :\"))\n",
    "    y = float(input(\"Enter The Value Of y :\"))\n",
    "    sum = x+y # how function work or may called local variable\n",
    "    return sum # result used for print\n",
    "print(sum())"
   ]
  },
  {
   "cell_type": "markdown",
   "id": "bf0bb3e8",
   "metadata": {},
   "source": [
    "# 6. How can you use the \"return\" statement in a Python function to return multiple values?\n"
   ]
  },
  {
   "cell_type": "markdown",
   "id": "9fee2674",
   "metadata": {},
   "source": [
    "# Ans - In Python, we can return multiple values from a function."
   ]
  },
  {
   "cell_type": "code",
   "execution_count": 56,
   "id": "b61cd0f0",
   "metadata": {},
   "outputs": [
    {
     "name": "stdout",
     "output_type": "stream",
     "text": [
      "23\n",
      "B-tech\n"
     ]
    }
   ],
   "source": [
    "# by using Class\n",
    "class Mojammil():\n",
    "    def __init__(self):\n",
    "        self.age=23\n",
    "        self.qualification=\"B-tech\"\n",
    "# creating a return function\n",
    "def show():\n",
    "    return Mojammil()\n",
    "\n",
    "obj = show()\n",
    "print(obj.age)\n",
    "print(obj.qualification)"
   ]
  },
  {
   "cell_type": "code",
   "execution_count": 57,
   "id": "fce7b680",
   "metadata": {},
   "outputs": [
    {
     "data": {
      "text/plain": [
       "('Md Mojammil', 23, 'B-tech')"
      ]
     },
     "execution_count": 57,
     "metadata": {},
     "output_type": "execute_result"
    }
   ],
   "source": [
    "# in simple way like \n",
    "def person():\n",
    "    name = 'Md Mojammil'\n",
    "    age = 23\n",
    "    quli = 'B-tech'\n",
    "    return name, age ,quli # here we breturn the multiple values from user define fumction\n",
    "\n",
    "person()"
   ]
  },
  {
   "cell_type": "code",
   "execution_count": 58,
   "id": "6d4aaebe",
   "metadata": {},
   "outputs": [
    {
     "data": {
      "text/plain": [
       "['Md Mojammil', 23, 'B-tech']"
      ]
     },
     "execution_count": 58,
     "metadata": {},
     "output_type": "execute_result"
    }
   ],
   "source": [
    "def person():\n",
    "    name = 'Md Mojammil'\n",
    "    age = 23\n",
    "    quli = 'B-tech'\n",
    "    return [name, age ,quli] # here we breturn the multiple values from user define fumction\n",
    "\n",
    "person()"
   ]
  },
  {
   "cell_type": "markdown",
   "id": "10ef808d",
   "metadata": {},
   "source": [
    "# 7. What is the difference between the \"pass by value\" and \"pass by reference\" concepts when it comes to function arguments in Python?\n"
   ]
  },
  {
   "cell_type": "markdown",
   "id": "2ec162c1",
   "metadata": {},
   "source": [
    "# Ans -The main difference between pass by value and pass by reference is that, \n",
    "# in a pass by value, the parameter value copies to another variable while, \n",
    "# in a pass by reference, the actual parameter passes to the function."
   ]
  },
  {
   "cell_type": "code",
   "execution_count": 88,
   "id": "720e2a2d",
   "metadata": {},
   "outputs": [
    {
     "name": "stdout",
     "output_type": "stream",
     "text": [
      "Before function call  100\n",
      "Inside function call  200\n",
      "After function call  100\n"
     ]
    }
   ],
   "source": [
    "def function(int):\n",
    "  int+=100\n",
    "  print(\"Inside function call \",int)\n",
    "\n",
    "int=100  # pass by value\n",
    "print(\"Before function call \",int)\n",
    "function(int) # pass by reference\n",
    "print(\"After function call \",int)"
   ]
  },
  {
   "cell_type": "markdown",
   "id": "6ca7fb65",
   "metadata": {},
   "source": [
    "# 8. Create a function that can intake integer or decimal value and do following operations:\n",
    "# a. Logarithmic function (log x)\n",
    "# b. Exponential function (exp(x))\n",
    "# c. Power function with base  2 (2x)\n",
    "# d. Square root\n"
   ]
  },
  {
   "cell_type": "code",
   "execution_count": 112,
   "id": "fc019f9b",
   "metadata": {},
   "outputs": [
    {
     "name": "stdout",
     "output_type": "stream",
     "text": [
      "2.302585092994046\n"
     ]
    }
   ],
   "source": [
    "# rough\n",
    "import math\n",
    "\n",
    "# define the log function\n",
    "def log_fn(x):\n",
    "    return math.log(x)\n",
    "\n",
    "print(log_fn(10))"
   ]
  },
  {
   "cell_type": "code",
   "execution_count": 83,
   "id": "e2481e78",
   "metadata": {},
   "outputs": [
    {
     "name": "stdout",
     "output_type": "stream",
     "text": [
      "Select operation.\n",
      "1.Logarithmic function (log x) \n",
      "2.Exponential function  (exp(x))\n",
      "3.Power function with base 2 (2x)\n",
      "4.Square root\n",
      "Enter choice(1/2/3/4): 1\n",
      "Enter the Value of x : 1\n",
      "Value of Logarithmic function (log x) : 0.0\n",
      "Let's do next calculation? (yes/no): no\n"
     ]
    }
   ],
   "source": [
    "# first import math module\n",
    "import math\n",
    "\n",
    "# define the log function\n",
    "def log_fn(x):\n",
    "    return math.log(x)\n",
    "\n",
    "# define the Exponential function \n",
    "def exp_fn(x):\n",
    "    return math.exp(x)\n",
    " \n",
    "# define the Power function with base    \n",
    "def pw_fn(x):\n",
    "    return (math.pow(2,2*x))\n",
    "\n",
    "# define the Square root\n",
    "def sqr_fn(x):\n",
    "    return math.sqrt(x)\n",
    "    \n",
    "print(\"Select operation.\")\n",
    "print(\"1.Logarithmic function (log x) \")\n",
    "print(\"2.Exponential function  (exp(x))\")\n",
    "print(\"3.Power function with base 2 (2x)\")\n",
    "print(\"4.Square root\")\n",
    "\n",
    "while True:\n",
    "    # take input from the user\n",
    "    choice = input(\"Enter choice(1/2/3/4): \")\n",
    "    \n",
    " # check if choice is one of the four options\n",
    "    if choice in ('1', '2', '3', '4'):\n",
    "        try:\n",
    "            x = float(input(\"Enter the Value of x : \"))\n",
    "        except ValueError:\n",
    "            print(\"Invalid input. Please enter a number.\")\n",
    "            continue\n",
    "\n",
    "        if choice == '1':\n",
    "            print(\"Value of Logarithmic function (log x) :\",log_fn(x))\n",
    "\n",
    "        elif choice == '2':\n",
    "            print(\"Value of Exponential function (exp(x)) :\",exp_fn(x))\n",
    "\n",
    "        elif choice == '3':\n",
    "            print(\"Value of Power function with base 2 (2x) :\",pw_fn(x))\n",
    "\n",
    "        elif choice == '4':\n",
    "            print(\"Value of the Square root :\",sqr_fn(x))\n",
    "        \n",
    "        # check if user wants another calculation\n",
    "        # break the while loop if answer is no\n",
    "        next_calculation = input(\"Let's do next calculation? (yes/no): \")\n",
    "        if next_calculation == \"no\":\n",
    "          break\n",
    "    else:\n",
    "        print(\"Invalid Input\")    "
   ]
  },
  {
   "cell_type": "code",
   "execution_count": 103,
   "id": "b3ae58a9",
   "metadata": {},
   "outputs": [
    {
     "name": "stdout",
     "output_type": "stream",
     "text": [
      "The value of 3 to the power 2 is : 81.0\n"
     ]
    }
   ],
   "source": [
    "# rough\n",
    "print (\"The value of 3 to the power 2 is : \", end=\"\")\n",
    "print (math.pow(3,2*2))"
   ]
  },
  {
   "cell_type": "markdown",
   "id": "470b9d42",
   "metadata": {},
   "source": [
    "# 9. Create a function that takes a full name as an argument and returns first name and last name"
   ]
  },
  {
   "cell_type": "code",
   "execution_count": 123,
   "id": "f23f06bc",
   "metadata": {},
   "outputs": [
    {
     "name": "stdout",
     "output_type": "stream",
     "text": [
      "First Name :  Md\n",
      "last Name :  Mojammil\n"
     ]
    },
    {
     "data": {
      "text/plain": [
       "<function __main__.name(full_name)>"
      ]
     },
     "execution_count": 123,
     "metadata": {},
     "output_type": "execute_result"
    }
   ],
   "source": [
    "def name(full_name):\n",
    "    full_name = full_name.split()\n",
    "    print(\"First Name : \",full_name[0])\n",
    "    print(\"last Name : \",full_name[1])\n",
    "    return name\n",
    "\n",
    "name(\"Md Mojammil\") "
   ]
  },
  {
   "cell_type": "code",
   "execution_count": 80,
   "id": "c5ff7f2e",
   "metadata": {},
   "outputs": [
    {
     "name": "stdout",
     "output_type": "stream",
     "text": [
      "Enter Your Full Name : Md Mojammil\n",
      "First Name :  Md\n",
      "Last Name :  Mojammil\n",
      "<function name at 0x0000019022B81240>\n"
     ]
    }
   ],
   "source": [
    "# if we waqnt to make it as user defined name\n",
    "\n",
    "def name(full_name):\n",
    "    full_name = full_name.split()\n",
    "    print(\"First Name : \",full_name[0])\n",
    "    print(\"Last Name : \",full_name[1])\n",
    "    return name\n",
    "\n",
    "full_name = input(\"Enter Your Full Name : \")\n",
    "print(name(full_name))\n",
    "\n"
   ]
  },
  {
   "cell_type": "code",
   "execution_count": 81,
   "id": "7526e268",
   "metadata": {},
   "outputs": [
    {
     "name": "stdout",
     "output_type": "stream",
     "text": [
      "Enter Your Full Name : Md Mojammil\n",
      "First Name :  Md\n",
      "Last Name :  Mojammil\n",
      "Do you Want to continue : yes/no :yes\n",
      "<function name at 0x0000019022B83B50>\n",
      "Enter Your Full Name : krish Naik\n",
      "First Name :  krish\n",
      "Last Name :  Naik\n",
      "Do you Want to continue : yes/no :no\n"
     ]
    }
   ],
   "source": [
    "def name(full_name):\n",
    "    full_name = input(\"Enter Your Full Name : \")\n",
    "    full_name = full_name.split()\n",
    "    print(\"First Name : \",full_name[0])\n",
    "    print(\"Last Name : \",full_name[1])\n",
    "    return name\n",
    "\n",
    "while True:   \n",
    "    x = name(full_name)\n",
    "    y = input(\"Do you Want to continue : yes/no :\")\n",
    "    if y == 'no':\n",
    "        break\n",
    "    else:\n",
    "        print(x)\n",
    "    \n",
    "    "
   ]
  },
  {
   "cell_type": "code",
   "execution_count": null,
   "id": "223dc863",
   "metadata": {},
   "outputs": [],
   "source": []
  }
 ],
 "metadata": {
  "kernelspec": {
   "display_name": "Python 3 (ipykernel)",
   "language": "python",
   "name": "python3"
  },
  "language_info": {
   "codemirror_mode": {
    "name": "ipython",
    "version": 3
   },
   "file_extension": ".py",
   "mimetype": "text/x-python",
   "name": "python",
   "nbconvert_exporter": "python",
   "pygments_lexer": "ipython3",
   "version": "3.10.6"
  }
 },
 "nbformat": 4,
 "nbformat_minor": 5
}
