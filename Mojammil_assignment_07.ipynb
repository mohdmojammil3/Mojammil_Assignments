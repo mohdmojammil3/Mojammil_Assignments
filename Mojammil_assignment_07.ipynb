{
 "cells": [
  {
   "cell_type": "markdown",
   "id": "3861065b",
   "metadata": {},
   "source": [
    "# Ques- 1. What is a lambda function in Python, and how does it differ from a regular function?"
   ]
  },
  {
   "cell_type": "markdown",
   "id": "934554f2",
   "metadata": {},
   "source": [
    "# Ans-A lambda function is an anonymous function (i.e., defined without a name) that can take any number of arguments but, unlike normal functions, evaluates and returns only one expression.\n",
    "\n",
    "# A lambda function in Python has the following syntax:\n",
    "\n",
    "# lambda parameters: expression\n",
    "\n",
    "# The anatomy of a lambda function includes three elements:\n",
    "\n",
    "# The keyword lambda — an analog of def in normal functions\n",
    "# The parameters — support passing positional and keyword\n",
    "# arguments, just like normal functions\n",
    "# The body — the expression for given parameters being evaluated\n",
    "# with the lambda function\n",
    "\n",
    "# whereas, in regular function\n",
    "# regular function has syntex- def function_name(parameters/arguments):\n",
    "\n",
    "#                                           body_of_function\n",
    "\n",
    "#                                           return (execution end)\n",
    "\n",
    "# Easy to interpret\n",
    "\n",
    "# Can consists of any number of execution statements inside the function definition\n",
    "# To return an object from the function, return should be explicitly defined\n",
    "\n",
    "# Execution time is relatively slower for the same operation performed using lambda functions\n",
    "\n",
    "# Defined using the keyword def and holds a function name in the local namespace\n"
   ]
  },
  {
   "cell_type": "code",
   "execution_count": 81,
   "id": "dcf00a8c",
   "metadata": {
    "scrolled": true
   },
   "outputs": [
    {
     "name": "stdout",
     "output_type": "stream",
     "text": [
      "Enter The Value :27\n",
      "Cube Root : 27.0 : 3.0\n",
      "Do you want to find more Cube Root ? yes/no : yes\n",
      "Enter The Value :27\n",
      "Cube Root : 27.0 : 3.0\n",
      "Do you want to find more Cube Root ? yes/no : NO\n"
     ]
    }
   ],
   "source": [
    "def cube_root(x):\n",
    "    c = x**(1/3)\n",
    "    return c\n",
    "while True:\n",
    "    try:\n",
    "        x = float(input(\"Enter The Value :\"))\n",
    "    except ValueError:\n",
    "        print(\"Invalid Value : Please Enter Numeric Value :\")\n",
    "        continue\n",
    "    print(\"Cube Root :\",x,\":\",cube_root(x))\n",
    "    \n",
    "    next_calculation = (input(\"Do you want to find more Cube Root ? yes/no : \"))\n",
    "    next_calculation = next_calculation.lower()\n",
    "    if next_calculation == 'no':\n",
    "        break\n",
    "else:\n",
    "    print(\"Invalid Input\")"
   ]
  },
  {
   "cell_type": "markdown",
   "id": "d06da710",
   "metadata": {},
   "source": [
    "# Ques- 2. Can a lambda function in Python have multiple arguments? If yes, how can you define and use them?"
   ]
  },
  {
   "cell_type": "code",
   "execution_count": 80,
   "id": "604a8afb",
   "metadata": {},
   "outputs": [
    {
     "name": "stdout",
     "output_type": "stream",
     "text": [
      "Enter The value of x : 27\n",
      "3.0\n",
      "Let's do next calculation? (yes/no): yes\n",
      "Enter The value of x : 81\n",
      "4.3267487109222245\n",
      "Let's do next calculation? (yes/no): no\n"
     ]
    }
   ],
   "source": [
    "cube_root = lambda x: x**(1/3)\n",
    "while True:\n",
    "    try:\n",
    "        x = float(input(\"Enter The value of x : \"))\n",
    "    except ValueError:\n",
    "            print(\"Invalid Value : Plz Enter Numeric Value :\")\n",
    "            continue\n",
    "    print(cube_root(x))\n",
    "    \n",
    "    next_calculation = input(\"Let's do next calculation? (yes/no): \")\n",
    "    next_calculation = next_calculation.lower()\n",
    "    if next_calculation == \"no\": \n",
    "          break\n",
    "else:\n",
    "    print(\"Invalid Input\",next_calculation)"
   ]
  },
  {
   "cell_type": "markdown",
   "id": "e8771502",
   "metadata": {},
   "source": [
    "# Ques-3. How are lambda functions typically used in Python? Provide an example use case."
   ]
  },
  {
   "cell_type": "markdown",
   "id": "1ac7e367",
   "metadata": {},
   "source": [
    "# Ans -In Python, an anonymous function is created with the lambda keyword. More loosely, it may or not be assigned a name. Consider a two-argument anonymous function defined with lambda but not bound to a variable. "
   ]
  },
  {
   "cell_type": "code",
   "execution_count": 2,
   "id": "a1270a79",
   "metadata": {},
   "outputs": [
    {
     "name": "stdout",
     "output_type": "stream",
     "text": [
      "Enter The First Value X :4\n",
      "Enter The First Value Y :5\n",
      "Enter The First Value Z :6\n",
      "Sum :  15.0\n",
      "Do you want to find more Cube Root ? yes/no : jfj\n"
     ]
    }
   ],
   "source": [
    "# Yes -A lambda function can take any number of arguments, but can only have one expression.\n",
    "\n",
    "add = lambda x,y,z : x+y+z\n",
    "while True:\n",
    "    try:\n",
    "        x = float(input(\"Enter The First Value X :\"))\n",
    "        y = float(input(\"Enter The First Value Y :\"))\n",
    "        z = float(input(\"Enter The First Value Z :\"))\n",
    "    except ValueError:\n",
    "        print(\"Invalid Input : Please Enter The Numeric Value :\")\n",
    "        continue\n",
    "    print(\"Sum : \",(x+y+z))\n",
    "    next_calculation = (input(\"Do you want to find more Cube Root ? yes/no : \"))\n",
    "    next_calculation = next_calculation.lower()\n",
    "    if next_calculation == 'no':\n",
    "        break\n",
    "    elif next_calculation == 'no'\n",
    "    else:\n",
    "        print(\"Invalid Input\")\n",
    "    "
   ]
  },
  {
   "cell_type": "markdown",
   "id": "e2835ca0",
   "metadata": {},
   "source": [
    "# Ques- 4. What are the advantages and limitations of lambda functions compared to regular functions in Python?"
   ]
  },
  {
   "cell_type": "markdown",
   "id": "c4c0b409",
   "metadata": {},
   "source": [
    "# Ans-Advantages 1- Lambda enables you to use functions with pre-trained machine learning (ML) models to inject artiﬁcial intelligence into applications more easily.\n",
    "# 2 Easy to interpret\n",
    "# 3 Can consists of any number of execution statements inside the function definition To return an object from the function, return should be explicitly defined\n",
    "# 4 Execution time is relatively slower for the same operation performed using lambda functions"
   ]
  },
  {
   "cell_type": "markdown",
   "id": "275975b0",
   "metadata": {},
   "source": [
    "# limitation -Lambda functions can have only one expression. Lambda functions cannot have a docstring. Many times lambda functions make code difficult to read.\n",
    "# The maximum time a function can run is 15 minutes, and the default timeout is 3 seconds."
   ]
  },
  {
   "cell_type": "markdown",
   "id": "e4e1c771",
   "metadata": {},
   "source": [
    "# Ques- 5. Are lambda functions in Python able to access variables defined outside of their own scope? Explain with an example."
   ]
  },
  {
   "cell_type": "markdown",
   "id": "99640fdc",
   "metadata": {},
   "source": [
    "# Ans-NO\n",
    "# Lambda functions have their own local namespace and cannot access variables other than those in their parameter list and those in the global namespace."
   ]
  },
  {
   "cell_type": "code",
   "execution_count": 97,
   "id": "00eb6a88",
   "metadata": {},
   "outputs": [
    {
     "data": {
      "text/plain": [
       "13"
      ]
     },
     "execution_count": 97,
     "metadata": {},
     "output_type": "execute_result"
    }
   ],
   "source": [
    "x = 5\n",
    "add = lambda a,b,x : a+b+x\n",
    "add(3,5,x)"
   ]
  },
  {
   "cell_type": "code",
   "execution_count": 98,
   "id": "ead14d8b",
   "metadata": {},
   "outputs": [
    {
     "ename": "TypeError",
     "evalue": "<lambda>() takes 2 positional arguments but 3 were given",
     "output_type": "error",
     "traceback": [
      "\u001b[1;31m---------------------------------------------------------------------------\u001b[0m",
      "\u001b[1;31mTypeError\u001b[0m                                 Traceback (most recent call last)",
      "Input \u001b[1;32mIn [98]\u001b[0m, in \u001b[0;36m<cell line: 3>\u001b[1;34m()\u001b[0m\n\u001b[0;32m      1\u001b[0m x \u001b[38;5;241m=\u001b[39m \u001b[38;5;241m5\u001b[39m\n\u001b[0;32m      2\u001b[0m add \u001b[38;5;241m=\u001b[39m \u001b[38;5;28;01mlambda\u001b[39;00m a,b : a\u001b[38;5;241m+\u001b[39mb\u001b[38;5;241m+\u001b[39mx\n\u001b[1;32m----> 3\u001b[0m \u001b[43madd\u001b[49m\u001b[43m(\u001b[49m\u001b[38;5;241;43m3\u001b[39;49m\u001b[43m,\u001b[49m\u001b[38;5;241;43m5\u001b[39;49m\u001b[43m,\u001b[49m\u001b[43mx\u001b[49m\u001b[43m)\u001b[49m\n",
      "\u001b[1;31mTypeError\u001b[0m: <lambda>() takes 2 positional arguments but 3 were given"
     ]
    }
   ],
   "source": [
    "# here Error Occur\n",
    "x = 5\n",
    "add = lambda a,b : a+b+x\n",
    "add(3,5,x)"
   ]
  },
  {
   "cell_type": "markdown",
   "id": "95859bdd",
   "metadata": {},
   "source": [
    "# Ques- 6. Write a lambda function to calculate the square of a given number."
   ]
  },
  {
   "cell_type": "code",
   "execution_count": 111,
   "id": "cb9c5be1",
   "metadata": {},
   "outputs": [
    {
     "name": "stdout",
     "output_type": "stream",
     "text": [
      "4\n"
     ]
    }
   ],
   "source": [
    "square = lambda x : x*x\n",
    "print(square(2))"
   ]
  },
  {
   "cell_type": "code",
   "execution_count": null,
   "id": "3ba420be",
   "metadata": {},
   "outputs": [],
   "source": [
    "square = lambda x : x*x\n",
    "while True:\n",
    "    try:\n",
    "        x = float(input(\"Enter The Number :\"))\n",
    "    except ValueError:\n",
    "        print(\"Invalid Data Seems You Enter a String : Please Enter Number\")\n",
    "        continue\n",
    "    print(\"Suare of Number :\",x,\":\",square(x))\n",
    "    "
   ]
  },
  {
   "cell_type": "code",
   "execution_count": 118,
   "id": "dbfaf997",
   "metadata": {},
   "outputs": [
    {
     "name": "stdout",
     "output_type": "stream",
     "text": [
      "Enter The Number :hd\n",
      "Invalid Data Seems You Enter a String : Please Enter Number\n",
      "Enter The Number :4\n",
      "Suare of Number : 4.0 : 16.0\n",
      "Do You Want To Find More Suare of Number ? yes/no :yes\n",
      "Enter The Number :4\n",
      "Suare of Number : 4.0 : 16.0\n",
      "Do You Want To Find More Suare of Number ? yes/no :ass\n",
      "Enter The Number :4\n",
      "Suare of Number : 4.0 : 16.0\n",
      "Do You Want To Find More Suare of Number ? yes/no :no\n"
     ]
    }
   ],
   "source": [
    "square = lambda x : x*x\n",
    "while True:\n",
    "    try:\n",
    "        x = float(input(\"Enter The Number :\"))\n",
    "    except ValueError:\n",
    "        print(\"Invalid Data Seems You Enter a String : Please Enter Number\")\n",
    "        continue\n",
    "    print(\"Suare of Number :\",x,\":\",square(x))\n",
    "    next_sq = input(\"Do You Want To Find More Suare of Number ? yes/no :\")\n",
    "    next_sq = next_sq.lower()\n",
    "    if next_sq == 'no':\n",
    "        break\n",
    "    \n",
    "else:\n",
    "    print(\"Invalid Entry\")"
   ]
  },
  {
   "cell_type": "markdown",
   "id": "c4be7833",
   "metadata": {},
   "source": [
    "# Ques- 7. Create a lambda function to find the maximum value in a list of integers.\n"
   ]
  },
  {
   "cell_type": "code",
   "execution_count": 2,
   "id": "10f4a1e3",
   "metadata": {},
   "outputs": [
    {
     "name": "stdout",
     "output_type": "stream",
     "text": [
      "97\n"
     ]
    }
   ],
   "source": [
    "f = lambda l: l[0] if len(l) == 1 else l[0] if l[0] > f(l[1:]) else f(l[1:])\n",
    "list = [19, 7, 17, 97, 5]\n",
    "maximum = f(list)\n",
    "print(maximum)"
   ]
  },
  {
   "cell_type": "markdown",
   "id": "38d00a8a",
   "metadata": {},
   "source": [
    "# Ques- 8. Implement a lambda function to filter out all the even numbers from a list of integers."
   ]
  },
  {
   "cell_type": "code",
   "execution_count": 3,
   "id": "5729936d",
   "metadata": {},
   "outputs": [
    {
     "name": "stdout",
     "output_type": "stream",
     "text": [
      "[2, 4, 6, 8, 10]\n"
     ]
    }
   ],
   "source": [
    "num = [1,2,3,4,5,6,7,8,9,10]\n",
    "even_num = list(filter(lambda num : num%2 == 0,num))\n",
    "print(even_num)"
   ]
  },
  {
   "cell_type": "code",
   "execution_count": 14,
   "id": "30e70362",
   "metadata": {},
   "outputs": [
    {
     "name": "stdout",
     "output_type": "stream",
     "text": [
      "Enter The List of Number :1,2,3\n",
      "[2, 4, 6, 8, 10]\n"
     ]
    }
   ],
   "source": [
    "try:\n",
    "    num = int(input(\"Enter The List of Number :\"))\n",
    "except ValueError:\n",
    "    pass\n",
    "even_num = list(filter(lambda num : num%2 == 0,num))\n",
    "print(even_num)"
   ]
  },
  {
   "cell_type": "markdown",
   "id": "b4dae876",
   "metadata": {},
   "source": [
    "# Ques- 9. Write a lambda function to sort a list of strings in ascending order based on the length of each string."
   ]
  },
  {
   "cell_type": "code",
   "execution_count": 15,
   "id": "8b8178a1",
   "metadata": {},
   "outputs": [
    {
     "name": "stdout",
     "output_type": "stream",
     "text": [
      "Current Number : [2, 4, 1, 6, 3]\n",
      "Sorted Number : [1, 2, 3, 4, 6]\n"
     ]
    }
   ],
   "source": [
    "# Create list with numbers\n",
    "numbers = [2, 4, 1, 6, 3]\n",
    "print(\"Current Number :\",numbers)\n",
    "\n",
    "# Using sorted() with lambda\n",
    "sorted_numbers = sorted(numbers, key=lambda x: x)\n",
    "print(\"Sorted Number :\",sorted_numbers)"
   ]
  },
  {
   "cell_type": "markdown",
   "id": "8fb123c3",
   "metadata": {},
   "source": [
    "# Ques- 10. Create a lambda function that takes two lists as input and returns a new list containing the common elements between the two lists."
   ]
  },
  {
   "cell_type": "code",
   "execution_count": 48,
   "id": "07919a6b",
   "metadata": {},
   "outputs": [
    {
     "name": "stdout",
     "output_type": "stream",
     "text": [
      "Enter The first List Value Saperated by comma(,) :1,2,3,4,5\n",
      "Enter The second List Value Saperated by comma(,) :3,4,5,6\n",
      "Original arrays:\n",
      "1,2,3,4,5\n",
      "3,4,5,6\n",
      "\n",
      "common elements between the two lists:  ['3', ',', '4', ',', '5', ',']\n"
     ]
    }
   ],
   "source": [
    "try:\n",
    "    nums1 = input(\"Enter The first List Value Saperated by comma(,) :\")\n",
    "    nums2 = input(\"Enter The second List Value Saperated by comma(,) :\")\n",
    "except ValueError:\n",
    "    pass\n",
    "print(\"Original arrays:\")\n",
    "print(nums1)\n",
    "print(nums2)\n",
    "result = list(filter(lambda x: x in nums1, nums2)) \n",
    "print (\"\\ncommon elements between the two lists: \",result)"
   ]
  },
  {
   "cell_type": "markdown",
   "id": "d5b70eee",
   "metadata": {},
   "source": [
    "# Ques- 11. Write a recursive function to calculate the factorial of a given positive integer."
   ]
  },
  {
   "cell_type": "code",
   "execution_count": 13,
   "id": "9ca00d7e",
   "metadata": {},
   "outputs": [
    {
     "name": "stdout",
     "output_type": "stream",
     "text": [
      "Enter number: 4\n",
      "4 != 24\n",
      "Do You Want To Find More Factorial of Number ? yes/no :no\n"
     ]
    }
   ],
   "source": [
    "x = lambda num : 1 if num <= 1 else num*x(num-1)\n",
    "while True:\n",
    "    try:\n",
    "        number = float(input('Enter number: '))\n",
    "    except ValueError:\n",
    "        continue\n",
    "        print(\"Invalid Input : Plz Enter Positive Integer :\")\n",
    "    print('%d != %d' %(number, x(number)))\n",
    "    \n",
    "    next_fac = input(\"Do You Want To Find More Factorial of Number ? yes/no :\")\n",
    "    next_fac = next_fac.lower()\n",
    "    if next_fac == 'no':\n",
    "        break\n",
    "    else:\n",
    "        print(\"Invalid Entry\")\n"
   ]
  },
  {
   "cell_type": "markdown",
   "id": "3cd55975",
   "metadata": {},
   "source": [
    "# Ques-12. Implement a recursive function to compute the nth Fibonacci number."
   ]
  },
  {
   "cell_type": "code",
   "execution_count": 19,
   "id": "bec3611c",
   "metadata": {},
   "outputs": [
    {
     "name": "stdout",
     "output_type": "stream",
     "text": [
      "Enter the Value of Nth :10\n",
      "nth Fibonacci number : [0, 1, 4, 9, 16, 25, 36, 49, 64, 81, 100]\n",
      "Enter the Value of Nth :kk\n",
      "Invalid Inputs : Plz Enter numeric Data :\n"
     ]
    },
    {
     "ename": "KeyboardInterrupt",
     "evalue": "Interrupted by user",
     "output_type": "error",
     "traceback": [
      "\u001b[1;31m---------------------------------------------------------------------------\u001b[0m",
      "\u001b[1;31mKeyboardInterrupt\u001b[0m                         Traceback (most recent call last)",
      "Input \u001b[1;32mIn [19]\u001b[0m, in \u001b[0;36m<cell line: 2>\u001b[1;34m()\u001b[0m\n\u001b[0;32m      2\u001b[0m \u001b[38;5;28;01mwhile\u001b[39;00m \u001b[38;5;28;01mTrue\u001b[39;00m:\n\u001b[0;32m      3\u001b[0m     \u001b[38;5;28;01mtry\u001b[39;00m:\n\u001b[1;32m----> 4\u001b[0m         x \u001b[38;5;241m=\u001b[39m \u001b[38;5;28mint\u001b[39m(\u001b[38;5;28;43minput\u001b[39;49m\u001b[43m(\u001b[49m\u001b[38;5;124;43m\"\u001b[39;49m\u001b[38;5;124;43mEnter the Value of Nth :\u001b[39;49m\u001b[38;5;124;43m\"\u001b[39;49m\u001b[43m)\u001b[49m)\n\u001b[0;32m      5\u001b[0m     \u001b[38;5;28;01mexcept\u001b[39;00m \u001b[38;5;167;01mValueError\u001b[39;00m:\n\u001b[0;32m      6\u001b[0m         \u001b[38;5;28mprint\u001b[39m(\u001b[38;5;124m\"\u001b[39m\u001b[38;5;124mInvalid Inputs : Plz Enter numeric Data :\u001b[39m\u001b[38;5;124m\"\u001b[39m)\n",
      "File \u001b[1;32m~\\AppData\\Local\\Programs\\Python\\Python310\\lib\\site-packages\\ipykernel\\kernelbase.py:1075\u001b[0m, in \u001b[0;36mKernel.raw_input\u001b[1;34m(self, prompt)\u001b[0m\n\u001b[0;32m   1071\u001b[0m \u001b[38;5;28;01mif\u001b[39;00m \u001b[38;5;129;01mnot\u001b[39;00m \u001b[38;5;28mself\u001b[39m\u001b[38;5;241m.\u001b[39m_allow_stdin:\n\u001b[0;32m   1072\u001b[0m     \u001b[38;5;28;01mraise\u001b[39;00m StdinNotImplementedError(\n\u001b[0;32m   1073\u001b[0m         \u001b[38;5;124m\"\u001b[39m\u001b[38;5;124mraw_input was called, but this frontend does not support input requests.\u001b[39m\u001b[38;5;124m\"\u001b[39m\n\u001b[0;32m   1074\u001b[0m     )\n\u001b[1;32m-> 1075\u001b[0m \u001b[38;5;28;01mreturn\u001b[39;00m \u001b[38;5;28;43mself\u001b[39;49m\u001b[38;5;241;43m.\u001b[39;49m\u001b[43m_input_request\u001b[49m\u001b[43m(\u001b[49m\n\u001b[0;32m   1076\u001b[0m \u001b[43m    \u001b[49m\u001b[38;5;28;43mstr\u001b[39;49m\u001b[43m(\u001b[49m\u001b[43mprompt\u001b[49m\u001b[43m)\u001b[49m\u001b[43m,\u001b[49m\n\u001b[0;32m   1077\u001b[0m \u001b[43m    \u001b[49m\u001b[38;5;28;43mself\u001b[39;49m\u001b[38;5;241;43m.\u001b[39;49m\u001b[43m_parent_ident\u001b[49m\u001b[43m[\u001b[49m\u001b[38;5;124;43m\"\u001b[39;49m\u001b[38;5;124;43mshell\u001b[39;49m\u001b[38;5;124;43m\"\u001b[39;49m\u001b[43m]\u001b[49m\u001b[43m,\u001b[49m\n\u001b[0;32m   1078\u001b[0m \u001b[43m    \u001b[49m\u001b[38;5;28;43mself\u001b[39;49m\u001b[38;5;241;43m.\u001b[39;49m\u001b[43mget_parent\u001b[49m\u001b[43m(\u001b[49m\u001b[38;5;124;43m\"\u001b[39;49m\u001b[38;5;124;43mshell\u001b[39;49m\u001b[38;5;124;43m\"\u001b[39;49m\u001b[43m)\u001b[49m\u001b[43m,\u001b[49m\n\u001b[0;32m   1079\u001b[0m \u001b[43m    \u001b[49m\u001b[43mpassword\u001b[49m\u001b[38;5;241;43m=\u001b[39;49m\u001b[38;5;28;43;01mFalse\u001b[39;49;00m\u001b[43m,\u001b[49m\n\u001b[0;32m   1080\u001b[0m \u001b[43m\u001b[49m\u001b[43m)\u001b[49m\n",
      "File \u001b[1;32m~\\AppData\\Local\\Programs\\Python\\Python310\\lib\\site-packages\\ipykernel\\kernelbase.py:1120\u001b[0m, in \u001b[0;36mKernel._input_request\u001b[1;34m(self, prompt, ident, parent, password)\u001b[0m\n\u001b[0;32m   1117\u001b[0m             \u001b[38;5;28;01mbreak\u001b[39;00m\n\u001b[0;32m   1118\u001b[0m \u001b[38;5;28;01mexcept\u001b[39;00m \u001b[38;5;167;01mKeyboardInterrupt\u001b[39;00m:\n\u001b[0;32m   1119\u001b[0m     \u001b[38;5;66;03m# re-raise KeyboardInterrupt, to truncate traceback\u001b[39;00m\n\u001b[1;32m-> 1120\u001b[0m     \u001b[38;5;28;01mraise\u001b[39;00m \u001b[38;5;167;01mKeyboardInterrupt\u001b[39;00m(\u001b[38;5;124m\"\u001b[39m\u001b[38;5;124mInterrupted by user\u001b[39m\u001b[38;5;124m\"\u001b[39m) \u001b[38;5;28;01mfrom\u001b[39;00m \u001b[38;5;28mNone\u001b[39m\n\u001b[0;32m   1121\u001b[0m \u001b[38;5;28;01mexcept\u001b[39;00m \u001b[38;5;167;01mException\u001b[39;00m:\n\u001b[0;32m   1122\u001b[0m     \u001b[38;5;28mself\u001b[39m\u001b[38;5;241m.\u001b[39mlog\u001b[38;5;241m.\u001b[39mwarning(\u001b[38;5;124m\"\u001b[39m\u001b[38;5;124mInvalid Message:\u001b[39m\u001b[38;5;124m\"\u001b[39m, exc_info\u001b[38;5;241m=\u001b[39m\u001b[38;5;28;01mTrue\u001b[39;00m)\n",
      "\u001b[1;31mKeyboardInterrupt\u001b[0m: Interrupted by user"
     ]
    }
   ],
   "source": [
    "lambda_function = lambda x: [i ** 2 for i in range(x+1)]\n",
    "while True:\n",
    "    try:\n",
    "        x = int(input(\"Enter the Value of Nth :\"))\n",
    "    except ValueError:\n",
    "        print(\"Invalid Inputs : Plz Enter numeric Data :\")\n",
    "        continue\n",
    "    print(\"nth Fibonacci number :\",lambda_function(x))"
   ]
  },
  {
   "cell_type": "markdown",
   "id": "5b9a09d3",
   "metadata": {},
   "source": [
    "# Ques-13. Create a recursive function to find the sum of all the elements in a given list."
   ]
  },
  {
   "cell_type": "code",
   "execution_count": 49,
   "id": "89fecc73",
   "metadata": {},
   "outputs": [
    {
     "name": "stdout",
     "output_type": "stream",
     "text": [
      "Original list:\n",
      "[1, 2, 3]\n",
      "[4, 5, 6]\n",
      "\n",
      "Result: after adding two list\n",
      "[5, 7, 9]\n"
     ]
    }
   ],
   "source": [
    "nums1 = [1, 2, 3]\n",
    "nums2 = [4, 5, 6]\n",
    "print(\"Original list:\")\n",
    "print(nums1)\n",
    "print(nums2)\n",
    "result = map(lambda x, y: x + y, nums1, nums2)\n",
    "print(\"\\nResult: after adding two list\")\n",
    "print(list(result))"
   ]
  },
  {
   "cell_type": "markdown",
   "id": "995595f3",
   "metadata": {},
   "source": [
    "# Ques-14. Write a recursive function to determine whether a given string is a palindrome."
   ]
  },
  {
   "cell_type": "code",
   "execution_count": 31,
   "id": "fca101fa",
   "metadata": {},
   "outputs": [
    {
     "name": "stdout",
     "output_type": "stream",
     "text": [
      "Orginal list of strings:\n",
      "['krish', 'mojammil', 'Python', 'sunny', 'fukran', 'ai', 'php', 'adda', 'icici']\n",
      "\n",
      "List of palindromes:\n",
      "['php', 'adda', 'icici']\n"
     ]
    }
   ],
   "source": [
    "texts = [\"krish\", \"mojammil\", \"Python\", \"sunny\", \"fukran\", \"ai\",\"php\",\"adda\",\"icici\"]\n",
    "print(\"Orginal list of strings:\")\n",
    "print(texts) \n",
    "result = list(filter(lambda x: (x == \"\".join(reversed(x))), texts)) \n",
    "print(\"\\nList of palindromes:\")\n",
    "print(result) "
   ]
  },
  {
   "cell_type": "markdown",
   "id": "06303580",
   "metadata": {},
   "source": [
    "# Ques-15. Implement a recursive function to find the greatest common divisor (GCD) of two positive integers"
   ]
  },
  {
   "cell_type": "code",
   "execution_count": 47,
   "id": "fbac776d",
   "metadata": {},
   "outputs": [
    {
     "name": "stdout",
     "output_type": "stream",
     "text": [
      "Enter The 1st Number : 48\n",
      "Enter The 2nd Number : 60\n",
      "GCD of Given Number : 48.0 : 60.0 = 12.0\n"
     ]
    },
    {
     "ename": "KeyboardInterrupt",
     "evalue": "Interrupted by user",
     "output_type": "error",
     "traceback": [
      "\u001b[1;31m---------------------------------------------------------------------------\u001b[0m",
      "\u001b[1;31mKeyboardInterrupt\u001b[0m                         Traceback (most recent call last)",
      "Input \u001b[1;32mIn [47]\u001b[0m, in \u001b[0;36m<cell line: 6>\u001b[1;34m()\u001b[0m\n\u001b[0;32m      6\u001b[0m \u001b[38;5;28;01mwhile\u001b[39;00m \u001b[38;5;28;01mTrue\u001b[39;00m:\n\u001b[0;32m      7\u001b[0m     \u001b[38;5;28;01mtry\u001b[39;00m:\n\u001b[1;32m----> 8\u001b[0m         a \u001b[38;5;241m=\u001b[39m \u001b[38;5;28mfloat\u001b[39m(\u001b[38;5;28;43minput\u001b[39;49m\u001b[43m(\u001b[49m\u001b[38;5;124;43m\"\u001b[39;49m\u001b[38;5;124;43mEnter The 1st Number : \u001b[39;49m\u001b[38;5;124;43m\"\u001b[39;49m\u001b[43m)\u001b[49m)\n\u001b[0;32m      9\u001b[0m         b \u001b[38;5;241m=\u001b[39m \u001b[38;5;28mfloat\u001b[39m(\u001b[38;5;28minput\u001b[39m(\u001b[38;5;124m\"\u001b[39m\u001b[38;5;124mEnter The 2nd Number : \u001b[39m\u001b[38;5;124m\"\u001b[39m))\n\u001b[0;32m     10\u001b[0m     \u001b[38;5;28;01mexcept\u001b[39;00m \u001b[38;5;167;01mValueError\u001b[39;00m:\n",
      "File \u001b[1;32m~\\AppData\\Local\\Programs\\Python\\Python310\\lib\\site-packages\\ipykernel\\kernelbase.py:1075\u001b[0m, in \u001b[0;36mKernel.raw_input\u001b[1;34m(self, prompt)\u001b[0m\n\u001b[0;32m   1071\u001b[0m \u001b[38;5;28;01mif\u001b[39;00m \u001b[38;5;129;01mnot\u001b[39;00m \u001b[38;5;28mself\u001b[39m\u001b[38;5;241m.\u001b[39m_allow_stdin:\n\u001b[0;32m   1072\u001b[0m     \u001b[38;5;28;01mraise\u001b[39;00m StdinNotImplementedError(\n\u001b[0;32m   1073\u001b[0m         \u001b[38;5;124m\"\u001b[39m\u001b[38;5;124mraw_input was called, but this frontend does not support input requests.\u001b[39m\u001b[38;5;124m\"\u001b[39m\n\u001b[0;32m   1074\u001b[0m     )\n\u001b[1;32m-> 1075\u001b[0m \u001b[38;5;28;01mreturn\u001b[39;00m \u001b[38;5;28;43mself\u001b[39;49m\u001b[38;5;241;43m.\u001b[39;49m\u001b[43m_input_request\u001b[49m\u001b[43m(\u001b[49m\n\u001b[0;32m   1076\u001b[0m \u001b[43m    \u001b[49m\u001b[38;5;28;43mstr\u001b[39;49m\u001b[43m(\u001b[49m\u001b[43mprompt\u001b[49m\u001b[43m)\u001b[49m\u001b[43m,\u001b[49m\n\u001b[0;32m   1077\u001b[0m \u001b[43m    \u001b[49m\u001b[38;5;28;43mself\u001b[39;49m\u001b[38;5;241;43m.\u001b[39;49m\u001b[43m_parent_ident\u001b[49m\u001b[43m[\u001b[49m\u001b[38;5;124;43m\"\u001b[39;49m\u001b[38;5;124;43mshell\u001b[39;49m\u001b[38;5;124;43m\"\u001b[39;49m\u001b[43m]\u001b[49m\u001b[43m,\u001b[49m\n\u001b[0;32m   1078\u001b[0m \u001b[43m    \u001b[49m\u001b[38;5;28;43mself\u001b[39;49m\u001b[38;5;241;43m.\u001b[39;49m\u001b[43mget_parent\u001b[49m\u001b[43m(\u001b[49m\u001b[38;5;124;43m\"\u001b[39;49m\u001b[38;5;124;43mshell\u001b[39;49m\u001b[38;5;124;43m\"\u001b[39;49m\u001b[43m)\u001b[49m\u001b[43m,\u001b[49m\n\u001b[0;32m   1079\u001b[0m \u001b[43m    \u001b[49m\u001b[43mpassword\u001b[49m\u001b[38;5;241;43m=\u001b[39;49m\u001b[38;5;28;43;01mFalse\u001b[39;49;00m\u001b[43m,\u001b[49m\n\u001b[0;32m   1080\u001b[0m \u001b[43m\u001b[49m\u001b[43m)\u001b[49m\n",
      "File \u001b[1;32m~\\AppData\\Local\\Programs\\Python\\Python310\\lib\\site-packages\\ipykernel\\kernelbase.py:1120\u001b[0m, in \u001b[0;36mKernel._input_request\u001b[1;34m(self, prompt, ident, parent, password)\u001b[0m\n\u001b[0;32m   1117\u001b[0m             \u001b[38;5;28;01mbreak\u001b[39;00m\n\u001b[0;32m   1118\u001b[0m \u001b[38;5;28;01mexcept\u001b[39;00m \u001b[38;5;167;01mKeyboardInterrupt\u001b[39;00m:\n\u001b[0;32m   1119\u001b[0m     \u001b[38;5;66;03m# re-raise KeyboardInterrupt, to truncate traceback\u001b[39;00m\n\u001b[1;32m-> 1120\u001b[0m     \u001b[38;5;28;01mraise\u001b[39;00m \u001b[38;5;167;01mKeyboardInterrupt\u001b[39;00m(\u001b[38;5;124m\"\u001b[39m\u001b[38;5;124mInterrupted by user\u001b[39m\u001b[38;5;124m\"\u001b[39m) \u001b[38;5;28;01mfrom\u001b[39;00m \u001b[38;5;28mNone\u001b[39m\n\u001b[0;32m   1121\u001b[0m \u001b[38;5;28;01mexcept\u001b[39;00m \u001b[38;5;167;01mException\u001b[39;00m:\n\u001b[0;32m   1122\u001b[0m     \u001b[38;5;28mself\u001b[39m\u001b[38;5;241m.\u001b[39mlog\u001b[38;5;241m.\u001b[39mwarning(\u001b[38;5;124m\"\u001b[39m\u001b[38;5;124mInvalid Message:\u001b[39m\u001b[38;5;124m\"\u001b[39m, exc_info\u001b[38;5;241m=\u001b[39m\u001b[38;5;28;01mTrue\u001b[39;00m)\n",
      "\u001b[1;31mKeyboardInterrupt\u001b[0m: Interrupted by user"
     ]
    }
   ],
   "source": [
    "def hcf(a, b):\n",
    "    if(b == 0):\n",
    "        return a\n",
    "    else:\n",
    "        return hcf(b, a % b)\n",
    "while True:\n",
    "    try:\n",
    "        a = float(input(\"Enter The 1st Number : \"))\n",
    "        b = float(input(\"Enter The 2nd Number : \"))\n",
    "    except ValueError:\n",
    "        print(\"Invalid Inputs : Plz Enter Numeric Value :\")\n",
    "        continue\n",
    "    print(\"GCD of Given Number :\",a,\":\",b,\"=\",hcf(a,b))\n",
    "    "
   ]
  },
  {
   "cell_type": "code",
   "execution_count": null,
   "id": "b279179e",
   "metadata": {},
   "outputs": [],
   "source": []
  }
 ],
 "metadata": {
  "kernelspec": {
   "display_name": "Python 3 (ipykernel)",
   "language": "python",
   "name": "python3"
  },
  "language_info": {
   "codemirror_mode": {
    "name": "ipython",
    "version": 3
   },
   "file_extension": ".py",
   "mimetype": "text/x-python",
   "name": "python",
   "nbconvert_exporter": "python",
   "pygments_lexer": "ipython3",
   "version": "3.10.6"
  }
 },
 "nbformat": 4,
 "nbformat_minor": 5
}
