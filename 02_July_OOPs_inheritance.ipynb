{
 "cells": [
  {
   "cell_type": "markdown",
   "id": "8560425f",
   "metadata": {},
   "source": [
    "# 1. Explain what inheritance is in object-oriented programming and why it is used.\n"
   ]
  },
  {
   "cell_type": "markdown",
   "id": "945338f2",
   "metadata": {},
   "source": [
    "# Ans- Inheritance in object-oriented programming allows a subclass to inherit properties and behaviors from a superclass. It promotes code reusability, hierarchy, and organization by defining shared functionality in a base class and letting other classes inherit and extend it. Inherited attributes and methods can be used as is in subclasses, which reduces code duplication and makes the code more maintainable and extensible. Inheritance is a fundamental concept used to create structured and scalable codebases, enhancing flexibility and promoting polymorphism."
   ]
  },
  {
   "cell_type": "markdown",
   "id": "4bbc24d0",
   "metadata": {},
   "source": [
    "# Inheritance is used for the following reasons"
   ]
  },
  {
   "cell_type": "markdown",
   "id": "d3513812",
   "metadata": {},
   "source": [
    "# 1. Code Reusability: Base classes with shared functionality can be inherited by multiple subclasses. This avoids redundant code and promotes code reusability.\n",
    "\n",
    "# 2. Hierarchy and Organization: Inheritance establishes a hierarchical relationship, allowing subclasses to represent specialized versions of the superclass. This aids in organizing and representing entities and their relationships logically.\n",
    "\n",
    "# 3. Extensibility and Flexibility: Subclasses can extend the behavior of existing classes by adding their own attributes and methods. This simplifies adding new features without altering existing code.\n",
    "\n",
    "# 4. Polymorphism: Inheritance enables polymorphism, allowing objects of different classes to be treated as objects of a common superclass. This improves flexibility and readability in handling diverse objects."
   ]
  },
  {
   "cell_type": "markdown",
   "id": "e7c531f3",
   "metadata": {},
   "source": [
    "# 2. Discuss the concept of single inheritance and multiple inheritance, highlighting their differences and advantages.\n"
   ]
  },
  {
   "cell_type": "markdown",
   "id": "8e60d0d5",
   "metadata": {},
   "source": [
    "# Ans- Single inheritance is a type of inheritance where a class can inherit properties and behaviors from only one superclass. In other words, a class can have only one direct parent class. When a class inherits from another class, it gains access to all the attributes and methods of that parent class. Single inheritance forms a linear, one-dimensional relationship between classes.\n",
    "\n",
    "# Advantages of Single Inheritance:\n",
    "\n",
    "# 1. Simplicity: Single inheritance results in a straightforward and simple class hierarchy. Each class has only one direct parent, which makes the code easier to understand and maintain.\n",
    "\n",
    "# 2. Avoiding Diamond Problem: Single inheritance avoids the \"diamond problem,\" which can occur in multiple inheritance when two superclasses have a common superclass. This simplifies the method resolution order and avoids ambiguity in method calls.\n",
    "\n",
    "# 3. Encapsulation: Single inheritance promotes encapsulation because a class is tightly related to its direct parent. Changes in the parent class are less likely to affect other unrelated classes.\n",
    "\n",
    "# Multiple Inheritance:\n",
    "\n",
    "# Multiple inheritance is a type of inheritance where a class can inherit properties and behaviors from more than one superclass. In other words, a class can have multiple direct parent classes. When a class inherits from multiple classes, it gains access to all the attributes and methods of each parent class. Multiple inheritance forms a more complex, multi-dimensional relationship between classes.\n",
    "\n",
    "# Advantages of Multiple Inheritance:\n",
    "\n",
    "# 1. Code Reusability: Multiple inheritance allows a class to inherit functionality from multiple sources. This promotes code reusability as a class can combine features from multiple parent classes.\n",
    "\n",
    "# 2. Richness of Features: With multiple inheritance, a class can take advantage of different features and behaviors from various parent classes, enabling more flexible and feature-rich designs.\n",
    "\n",
    "# 3. Modeling Complex Relationships: Multiple inheritance is useful when modeling real-world entities that exhibit multiple relationships. It allows classes to represent complex relationships and share attributes and methods accordingly.\n",
    "\n",
    "# Differences between Single and Multiple Inheritance:\n",
    "\n",
    "# 1. Number of Superclasses: Single inheritance allows a class to inherit from only one superclass, while multiple inheritance allows a class to inherit from multiple superclasses.\n",
    "\n",
    "# 2. Class Hierarchy: Single inheritance forms a linear, one-dimensional class hierarchy, while multiple inheritance forms a more complex, multi-dimensional class hierarchy.\n",
    "\n",
    "# 3. Diamond Problem: Single inheritance avoids the diamond problem, which can occur in multiple inheritance when two superclasses have a common superclass."
   ]
  },
  {
   "cell_type": "markdown",
   "id": "24c04ff0",
   "metadata": {},
   "source": [
    "# Ques 3. Explain the terms \"base class\" and \"derived class\" in the context of inheritance.\n"
   ]
  },
  {
   "cell_type": "markdown",
   "id": "982ee266",
   "metadata": {},
   "source": [
    "# Ans- In the context of inheritance:\n",
    "\n",
    "# Base Class:\n",
    "\n",
    "# The base class (or superclass) is the class from which other classes inherit properties and behaviors.\n",
    "# It serves as a blueprint and contains common attributes and methods that can be shared among multiple derived classes.\n",
    "# The base class is not dependent on any other class and can exist independently.\n",
    "\n",
    "# Derived Class:\n",
    "\n",
    "# The derived class (or subclass) is a class that inherits properties and behaviors from a base class.\n",
    "# It extends the base class by adding its specific attributes and methods or by overriding the methods of the base class.\n",
    "# A derived class can have only one direct parent class, but it can have multiple levels of inheritance, forming a chain of classes.\n",
    "# The derived class is dependent on the base class and cannot exist without it."
   ]
  },
  {
   "cell_type": "code",
   "execution_count": 3,
   "id": "a504abd0",
   "metadata": {},
   "outputs": [
    {
     "name": "stdout",
     "output_type": "stream",
     "text": [
      "Golden\n",
      "Tom\n",
      "Woof! Woof!\n",
      "Meow!\n"
     ]
    }
   ],
   "source": [
    "class Animal:  # Base class\n",
    "    def __init__(self, name):\n",
    "        self.name = name\n",
    "\n",
    "    def make_sound(self):\n",
    "        print(\"Some generic animal sound\")\n",
    "\n",
    "class Dog(Animal):  # Derived class\n",
    "    def __init__(self, name, breed):\n",
    "        super().__init__(name)\n",
    "        self.breed = breed\n",
    "\n",
    "    def make_sound(self):\n",
    "        print(\"Woof! Woof!\")\n",
    "\n",
    "class Cat(Animal):  # Derived class\n",
    "    def __init__(self, name, color):\n",
    "        super().__init__(name)\n",
    "        self.color = color\n",
    "\n",
    "    def make_sound(self):\n",
    "        print(\"Meow!\")\n",
    "\n",
    "# Creating instances of derived classes\n",
    "dog1 = Dog(\"Golden\", \"Golden Retriever\")\n",
    "cat1 = Cat(\"Tom\", \"Grey\")\n",
    "\n",
    "# Accessing attributes and methods of the base and derived classes\n",
    "print(dog1.name)   # Output: \"Buddy\"\n",
    "print(cat1.name)   # Output: \"Whiskers\"\n",
    "\n",
    "dog1.make_sound()  # Output: \"Woof! Woof!\"\n",
    "cat1.make_sound()  # Output: \"Meow!\"\n"
   ]
  },
  {
   "cell_type": "markdown",
   "id": "477e4f34",
   "metadata": {},
   "source": [
    "# Ques 4. What is the significance of the \"protected\" access modifier in inheritance? How does it differ from \"private\" and \"public\" modifiers?\n"
   ]
  },
  {
   "cell_type": "markdown",
   "id": "62f6b92e",
   "metadata": {},
   "source": [
    "# Ans- In object-oriented programming, access modifiers are keywords that define the visibility and accessibility of class members (attributes and methods) from outside the class. In Python, there is no strict enforcement of access modifiers like in some other languages (e.g., Java), but you can use conventions to indicate the intended access level. The three main access modifiers are \"public,\" \"protected,\" and \"private.\""
   ]
  },
  {
   "cell_type": "markdown",
   "id": "1a6b97fa",
   "metadata": {},
   "source": [
    "# Public Access Modifier:\n",
    "\n",
    "# 1. Class members declared as public are accessible from anywhere, both within the class and from outside the class.\n",
    "# 2. In Python, by default, all class members are public if no access modifier is specified explicitly.\n",
    "# 3. Public members can be accessed using dot notation (object.attribute or object.method())."
   ]
  },
  {
   "cell_type": "markdown",
   "id": "edcecde8",
   "metadata": {},
   "source": [
    "# Private Access Modifier:\n",
    "\n",
    "# 1. Class members declared as private are intended to be accessed only from within the class itself.\n",
    "# 2. In Python, you can use a double underscore __ prefix to make an attribute or method private.\n",
    "# 3. Private members are not directly accessible from outside the class, but they can still be accessed using \"name mangling\" (_classname__private_member) in Python. However, it is not recommended to access private members this way, as it goes against the principle of encapsulation."
   ]
  },
  {
   "cell_type": "markdown",
   "id": "d181f61d",
   "metadata": {},
   "source": [
    "# Ques 5. What is the purpose of the \"super\" keyword in inheritance? Provide an example.\n"
   ]
  },
  {
   "cell_type": "markdown",
   "id": "5cfdfc10",
   "metadata": {},
   "source": [
    "# The super keyword in inheritance is used to call a method from the superclass within the context of a subclass. It allows us to access and invoke methods defined in the superclass, enabling cooperative method overriding. The primary purpose of super is to ensure correct initialization of both parent and child classes and facilitate behavior extension and customization in the subclass while retaining functionality from the superclass."
   ]
  },
  {
   "cell_type": "code",
   "execution_count": 5,
   "id": "472a0fea",
   "metadata": {},
   "outputs": [
    {
     "name": "stdout",
     "output_type": "stream",
     "text": [
      "Some generic animal sound\n",
      "Woof! Woof!\n"
     ]
    }
   ],
   "source": [
    "class Animal:\n",
    "    def __init__(self, name):\n",
    "        self.name = name\n",
    "\n",
    "    def make_sound(self):\n",
    "        print(\"Some generic animal sound\")\n",
    "\n",
    "\n",
    "class Dog(Animal):\n",
    "    def __init__(self, name, breed):\n",
    "        super().__init__(name)  # Calls the __init__ method of the parent class\n",
    "        self.breed = breed\n",
    "\n",
    "    def make_sound(self):\n",
    "        super().make_sound()  # Calls the make_sound method of the parent class\n",
    "        print(\"Woof! Woof!\")\n",
    "\n",
    "\n",
    "# Creating an instance of the subclass Dog\n",
    "dog1 = Dog(\"Buddy\", \"Golden Retriever\")\n",
    "\n",
    "# Calling the make_sound method of the Dog class\n",
    "dog1.make_sound()"
   ]
  },
  {
   "cell_type": "markdown",
   "id": "08cb94e7",
   "metadata": {},
   "source": [
    "# 6. Create a base class called \"Vehicle\" with attributes like \"make\", \"model\", and \"year\". Then, create a derived class called \"Car\" that inherits from \"Vehicle\" and adds an attribute called \"fuel_type\". Implement appropriate methods in both classes.\n"
   ]
  },
  {
   "cell_type": "code",
   "execution_count": 6,
   "id": "7aab8d95",
   "metadata": {},
   "outputs": [
    {
     "name": "stdout",
     "output_type": "stream",
     "text": [
      "Make: Toyota\n",
      "Model: Camry\n",
      "Year: 2022\n",
      "Fuel Type: Gasoline\n"
     ]
    }
   ],
   "source": [
    "class Vehicle:\n",
    "    def __init__(self, make, model, year):\n",
    "        self.make = make\n",
    "        self.model = model\n",
    "        self.year = year\n",
    "\n",
    "    def display_info(self):\n",
    "        print(f\"Make: {self.make}\")\n",
    "        print(f\"Model: {self.model}\")\n",
    "        print(f\"Year: {self.year}\")\n",
    "\n",
    "\n",
    "class Car(Vehicle):\n",
    "    def __init__(self, make, model, year, fuel_type):\n",
    "        super().__init__(make, model, year)\n",
    "        self.fuel_type = fuel_type\n",
    "\n",
    "    def display_info(self):\n",
    "        super().display_info()\n",
    "        print(f\"Fuel Type: {self.fuel_type}\")\n",
    "\n",
    "\n",
    "# Example usage:\n",
    "car1 = Car(\"Toyota\", \"Camry\", 2022, \"Gasoline\")\n",
    "car1.display_info()\n"
   ]
  },
  {
   "cell_type": "markdown",
   "id": "a7e3b179",
   "metadata": {},
   "source": [
    "# Ques 7. Create a base class called \"Employee\" with attributes like \"name\" and \"salary.\" Derive two classes, \"Manager\" and \"Developer,\" from \"Employee.\" Add an additional attribute called \"department\" for the \"Manager\" class and \"programming_language\" for the \"Developer\" class.\n"
   ]
  },
  {
   "cell_type": "code",
   "execution_count": 7,
   "id": "da691480",
   "metadata": {},
   "outputs": [
    {
     "name": "stdout",
     "output_type": "stream",
     "text": [
      "Manager Information:\n",
      "Name: John Doe\n",
      "Salary: $80000\n",
      "Department: HR\n",
      "\n",
      "Developer Information:\n",
      "Name: Jane Smith\n",
      "Salary: $65000\n",
      "Programming Language: Python\n"
     ]
    }
   ],
   "source": [
    "class Employee:\n",
    "    def __init__(self, name, salary):\n",
    "        self.name = name\n",
    "        self.salary = salary\n",
    "\n",
    "    def display_info(self):\n",
    "        print(f\"Name: {self.name}\")\n",
    "        print(f\"Salary: ${self.salary}\")\n",
    "\n",
    "\n",
    "class Manager(Employee):\n",
    "    def __init__(self, name, salary, department):\n",
    "        super().__init__(name, salary)\n",
    "        self.department = department\n",
    "\n",
    "    def display_info(self):\n",
    "        super().display_info()\n",
    "        print(f\"Department: {self.department}\")\n",
    "\n",
    "\n",
    "class Developer(Employee):\n",
    "    def __init__(self, name, salary, programming_language):\n",
    "        super().__init__(name, salary)\n",
    "        self.programming_language = programming_language\n",
    "\n",
    "    def display_info(self):\n",
    "        super().display_info()\n",
    "        print(f\"Programming Language: {self.programming_language}\")\n",
    "\n",
    "\n",
    "# Example usage:\n",
    "manager1 = Manager(\"John Doe\", 80000, \"HR\")\n",
    "developer1 = Developer(\"Jane Smith\", 65000, \"Python\")\n",
    "\n",
    "print(\"Manager Information:\")\n",
    "manager1.display_info()\n",
    "\n",
    "print(\"\\nDeveloper Information:\")\n",
    "developer1.display_info()\n"
   ]
  },
  {
   "cell_type": "code",
   "execution_count": null,
   "id": "7dab65dd",
   "metadata": {},
   "outputs": [],
   "source": [
    "8. Design a base class called \"Shape\" with attributes like \"colour\" and \"border_width.\"\n",
    "Create derived classes, \"Rectangle\" and \"Circle,\" that inherit from \"Shape\" and add\n",
    "specific attributes like \"length\" and \"width\" for the \"Rectangle\" class and \"radius\" for\n",
    "the \"Circle\" class.\n"
   ]
  },
  {
   "cell_type": "code",
   "execution_count": 8,
   "id": "02d74d17",
   "metadata": {},
   "outputs": [
    {
     "name": "stdout",
     "output_type": "stream",
     "text": [
      "Rectangle Information:\n",
      "Colour: Red\n",
      "Border Width: 2\n",
      "Length: 10\n",
      "Width: 5\n",
      "\n",
      "Circle Information:\n",
      "Colour: Blue\n",
      "Border Width: 1\n",
      "Radius: 7\n"
     ]
    }
   ],
   "source": [
    "class Shape:\n",
    "    def __init__(self, colour, border_width):\n",
    "        self.colour = colour\n",
    "        self.border_width = border_width\n",
    "\n",
    "    def display_info(self):\n",
    "        print(f\"Colour: {self.colour}\")\n",
    "        print(f\"Border Width: {self.border_width}\")\n",
    "\n",
    "\n",
    "class Rectangle(Shape):\n",
    "    def __init__(self, colour, border_width, length, width):\n",
    "        super().__init__(colour, border_width)\n",
    "        self.length = length\n",
    "        self.width = width\n",
    "\n",
    "    def display_info(self):\n",
    "        super().display_info()\n",
    "        print(f\"Length: {self.length}\")\n",
    "        print(f\"Width: {self.width}\")\n",
    "\n",
    "\n",
    "class Circle(Shape):\n",
    "    def __init__(self, colour, border_width, radius):\n",
    "        super().__init__(colour, border_width)\n",
    "        self.radius = radius\n",
    "\n",
    "    def display_info(self):\n",
    "        super().display_info()\n",
    "        print(f\"Radius: {self.radius}\")\n",
    "\n",
    "\n",
    "# Example usage:\n",
    "rectangle1 = Rectangle(\"Red\", 2, 10, 5)\n",
    "circle1 = Circle(\"Blue\", 1, 7)\n",
    "\n",
    "print(\"Rectangle Information:\")\n",
    "rectangle1.display_info()\n",
    "\n",
    "print(\"\\nCircle Information:\")\n",
    "circle1.display_info()\n"
   ]
  },
  {
   "cell_type": "markdown",
   "id": "66365891",
   "metadata": {},
   "source": [
    "# Ques 9. Create a base class called \"Device\" with attributes like \"brand\" and \"model.\" Derive two classes, \"Phone\" and \"Tablet,\" from \"Device.\" Add specific attributes like \"screen_size\" for the \"Phone\" class and \"battery_capacity\" for the \"Tablet\" class.\n"
   ]
  },
  {
   "cell_type": "code",
   "execution_count": 9,
   "id": "a07f92ce",
   "metadata": {},
   "outputs": [
    {
     "name": "stdout",
     "output_type": "stream",
     "text": [
      "Phone Information:\n",
      "Brand: Samsung\n",
      "Model: Galaxy S21\n",
      "Screen Size: 6.2 inches\n",
      "\n",
      "Tablet Information:\n",
      "Brand: Apple\n",
      "Model: iPad Pro\n",
      "Battery Capacity: 10,300 mAh\n"
     ]
    }
   ],
   "source": [
    "class Device:\n",
    "    def __init__(self, brand, model):\n",
    "        self.brand = brand\n",
    "        self.model = model\n",
    "\n",
    "    def display_info(self):\n",
    "        print(f\"Brand: {self.brand}\")\n",
    "        print(f\"Model: {self.model}\")\n",
    "\n",
    "\n",
    "class Phone(Device):\n",
    "    def __init__(self, brand, model, screen_size):\n",
    "        super().__init__(brand, model)\n",
    "        self.screen_size = screen_size\n",
    "\n",
    "    def display_info(self):\n",
    "        super().display_info()\n",
    "        print(f\"Screen Size: {self.screen_size}\")\n",
    "\n",
    "\n",
    "class Tablet(Device):\n",
    "    def __init__(self, brand, model, battery_capacity):\n",
    "        super().__init__(brand, model)\n",
    "        self.battery_capacity = battery_capacity\n",
    "\n",
    "    def display_info(self):\n",
    "        super().display_info()\n",
    "        print(f\"Battery Capacity: {self.battery_capacity}\")\n",
    "\n",
    "\n",
    "# Example usage:\n",
    "phone1 = Phone(\"Samsung\", \"Galaxy S21\", \"6.2 inches\")\n",
    "tablet1 = Tablet(\"Apple\", \"iPad Pro\", \"10,300 mAh\")\n",
    "\n",
    "print(\"Phone Information:\")\n",
    "phone1.display_info()\n",
    "\n",
    "print(\"\\nTablet Information:\")\n",
    "tablet1.display_info()\n"
   ]
  },
  {
   "cell_type": "markdown",
   "id": "08d9ba5e",
   "metadata": {},
   "source": [
    "# Ques 10. Create a base class called \"BankAccount\" with attributes like \"account_number\" and \"balance.\" Derive two classes, \"SavingsAccount\" and \"CheckingAccount,\" from \"BankAccount.\" Add specific methods like \"calculate_interest\" for the \"SavingsAccount\" class and \"deduct_fees\" for the \"CheckingAccount\" class.\n"
   ]
  },
  {
   "cell_type": "code",
   "execution_count": 10,
   "id": "14a6c369",
   "metadata": {},
   "outputs": [
    {
     "name": "stdout",
     "output_type": "stream",
     "text": [
      "Savings Account Information:\n",
      "Account Number: 123456789\n",
      "Balance: $5000.00\n",
      "Interest Amount: $125.00\n",
      "Updated Balance (with interest): $5125.00\n",
      "\n",
      "Checking Account Information:\n",
      "Account Number: 987654321\n",
      "Balance: $3000.00\n",
      "Fees Deducted: $10.00\n",
      "Updated Balance (after fees deduction): $2990.00\n"
     ]
    }
   ],
   "source": [
    "class BankAccount:\n",
    "    def __init__(self, account_number, balance):\n",
    "        self.account_number = account_number\n",
    "        self.balance = balance\n",
    "\n",
    "    def display_info(self):\n",
    "        print(f\"Account Number: {self.account_number}\")\n",
    "        print(f\"Balance: ${self.balance:.2f}\")\n",
    "\n",
    "\n",
    "class SavingsAccount(BankAccount):\n",
    "    def __init__(self, account_number, balance, interest_rate):\n",
    "        super().__init__(account_number, balance)\n",
    "        self.interest_rate = interest_rate\n",
    "\n",
    "    def calculate_interest(self):\n",
    "        interest_amount = self.balance * (self.interest_rate / 100)\n",
    "        self.balance += interest_amount\n",
    "        print(f\"Interest Amount: ${interest_amount:.2f}\")\n",
    "        print(f\"Updated Balance (with interest): ${self.balance:.2f}\")\n",
    "\n",
    "\n",
    "class CheckingAccount(BankAccount):\n",
    "    def __init__(self, account_number, balance, fees):\n",
    "        super().__init__(account_number, balance)\n",
    "        self.fees = fees\n",
    "\n",
    "    def deduct_fees(self):\n",
    "        self.balance -= self.fees\n",
    "        print(f\"Fees Deducted: ${self.fees:.2f}\")\n",
    "        print(f\"Updated Balance (after fees deduction): ${self.balance:.2f}\")\n",
    "\n",
    "\n",
    "# Example usage:\n",
    "savings_account1 = SavingsAccount(\"123456789\", 5000, 2.5)\n",
    "checking_account1 = CheckingAccount(\"987654321\", 3000, 10)\n",
    "\n",
    "print(\"Savings Account Information:\")\n",
    "savings_account1.display_info()\n",
    "savings_account1.calculate_interest()\n",
    "\n",
    "print(\"\\nChecking Account Information:\")\n",
    "checking_account1.display_info()\n",
    "checking_account1.deduct_fees()\n"
   ]
  },
  {
   "cell_type": "code",
   "execution_count": null,
   "id": "34a83358",
   "metadata": {},
   "outputs": [],
   "source": []
  }
 ],
 "metadata": {
  "kernelspec": {
   "display_name": "Python 3 (ipykernel)",
   "language": "python",
   "name": "python3"
  },
  "language_info": {
   "codemirror_mode": {
    "name": "ipython",
    "version": 3
   },
   "file_extension": ".py",
   "mimetype": "text/x-python",
   "name": "python",
   "nbconvert_exporter": "python",
   "pygments_lexer": "ipython3",
   "version": "3.10.6"
  }
 },
 "nbformat": 4,
 "nbformat_minor": 5
}
