{
 "cells": [
  {
   "cell_type": "markdown",
   "id": "adbf3b76",
   "metadata": {},
   "source": [
    "1.What are the two values of the Boolean data type? How do you write them?"
   ]
  },
  {
   "cell_type": "markdown",
   "id": "4786649b",
   "metadata": {},
   "source": [
    "Ans.-Boolean data type are, True and False, we write them by using capital T and F, with the rest of the word in lowercase"
   ]
  },
  {
   "cell_type": "code",
   "execution_count": 65,
   "id": "77b1529a",
   "metadata": {},
   "outputs": [
    {
     "name": "stdout",
     "output_type": "stream",
     "text": [
      "True\n",
      "True\n",
      "5\n",
      "10\n"
     ]
    }
   ],
   "source": [
    "#. EXAMPLE\n",
    "x = (1 == True)\n",
    "y = (0 == False)\n",
    "a = True + 4\n",
    "b = False + 10\n",
    "print(x)\n",
    "print(y)\n",
    "print(a)\n",
    "print(b)"
   ]
  },
  {
   "cell_type": "markdown",
   "id": "28199a66",
   "metadata": {},
   "source": [
    "2. What are the three different types of Boolean operators?"
   ]
  },
  {
   "cell_type": "markdown",
   "id": "10b48df2",
   "metadata": {},
   "source": [
    "Ans. Three different types of Boolean operators are and, or, and not"
   ]
  },
  {
   "cell_type": "code",
   "execution_count": 66,
   "id": "40eb307f",
   "metadata": {},
   "outputs": [
    {
     "name": "stdout",
     "output_type": "stream",
     "text": [
      "False True\n",
      "True True\n",
      "False\n",
      "True\n"
     ]
    }
   ],
   "source": [
    "# Example:\n",
    "x = True \n",
    "y = False\n",
    "z = True\n",
    "print(x and y,x and z) # applying \"and\" operatorb T+T=T, T+F=F\n",
    "print(x or y, x or z) # applying \"or\" operator T+F=T, T+T=T\n",
    "print( not x) # applying \"not\" operator i.e False if operands are true\n",
    "print( not y) # applying \"not\" operator i.e True if operands are false"
   ]
  },
  {
   "cell_type": "markdown",
   "id": "c87d65ab",
   "metadata": {},
   "source": [
    "3. Make a list of each Boolean operator's truth tables (i.e. every possible combination of Boolean values for the operator and what it evaluate )."
   ]
  },
  {
   "cell_type": "markdown",
   "id": "26d7256a",
   "metadata": {},
   "source": [
    "Ans. \n",
    "True and True is True.\n",
    "\n",
    "True and False is False.\n",
    "\n",
    "False and True is False.\n",
    "\n",
    "False and False is False.\n",
    "\n",
    "True or True is True.\n",
    "\n",
    "True or False is True.\n",
    "\n",
    "False or True is True.\n",
    "\n",
    "False or False is False.\n",
    "\n",
    "not True is False.\n",
    "\n",
    "not False is True."
   ]
  },
  {
   "cell_type": "markdown",
   "id": "b274eb19",
   "metadata": {},
   "source": [
    "4. What are the values of the following expressions?\n",
    "\n",
    "(5 > 4) and (3 == 5)\n",
    "\n",
    "not (5 > 4)\n",
    "\n",
    "(5 > 4) or (3 == 5)not ((5 > 4) or (3 == 5))\n",
    "\n",
    "(True and True) and (True == False)\n",
    "\n",
    "(not False) or (not True)\n"
   ]
  },
  {
   "cell_type": "markdown",
   "id": "fd16608d",
   "metadata": {},
   "source": [
    "Ans.\n",
    "(5 > 4) and (3 == 5) # Ans-False\n",
    "\n",
    "not (5 > 4) # Ans-False\n",
    "\n",
    "(5 > 4) or (3 == 5) not ((5 > 4) or (3 == 5)) #ans.True\n",
    "\n",
    "(True and True) and (True == False) # Ans_False\n",
    "\n",
    "(not False) or (not True) #.Ans_True"
   ]
  },
  {
   "cell_type": "markdown",
   "id": "1a6665ca",
   "metadata": {},
   "source": [
    "5. What are the six comparison operators?"
   ]
  },
  {
   "cell_type": "markdown",
   "id": "37b94337",
   "metadata": {},
   "source": [
    "Ans.==, !=, <, >, <=, and >="
   ]
  },
  {
   "cell_type": "markdown",
   "id": "f43cce4f",
   "metadata": {},
   "source": [
    "6. How do you tell the difference between the equal to and assignment operators?Describe a condition and when you would use one."
   ]
  },
  {
   "cell_type": "markdown",
   "id": "801001e8",
   "metadata": {},
   "source": [
    "Ans.\n",
    "== is the equal to operator that compares two values and evaluates to a Boolean, while = is the assignment operator that stores a value in a variable."
   ]
  },
  {
   "cell_type": "code",
   "execution_count": 27,
   "id": "fb6480cb",
   "metadata": {},
   "outputs": [
    {
     "name": "stdout",
     "output_type": "stream",
     "text": [
      "5 10\n",
      "the value of x1 + y1 : 15\n",
      "the value of x1 - y1 : 5\n"
     ]
    }
   ],
   "source": [
    "# Example:\n",
    "x = (1 == True)# true=1 i.e =1\n",
    "y = (1 == False)#False=1 i.e = 0\n",
    "a = True + 4\n",
    "b = False + 10\n",
    "print(a,b)\n",
    "\n",
    "# while\n",
    "x1 = 10\n",
    "y1 = 5\n",
    "\n",
    "print(\"the value of x1 + y1 :\",x1 + y1)\n",
    "\n",
    "print(\"the value of x1 - y1 :\",x1 - y1)\n"
   ]
  },
  {
   "cell_type": "markdown",
   "id": "4378eb37",
   "metadata": {},
   "source": [
    "7. Identify the three blocks in this code:"
   ]
  },
  {
   "cell_type": "code",
   "execution_count": 29,
   "id": "21f5b414",
   "metadata": {},
   "outputs": [
    {
     "name": "stdout",
     "output_type": "stream",
     "text": [
      "ham\n",
      "spam\n",
      "spam\n"
     ]
    }
   ],
   "source": [
    "# 7. Identify the three blocks in this code:\n",
    "\n",
    "spam = 0\n",
    "if spam == 10:\n",
    "    print('eggs')\n",
    "if spam > 5:\n",
    "    print('bacon')\n",
    "else:\n",
    "    print('ham')\n",
    "print('spam')\n",
    "print('spam')\n"
   ]
  },
  {
   "cell_type": "markdown",
   "id": "3f2304c9",
   "metadata": {},
   "source": [
    "Ans. The three blocks are everything inside the if statement and the lines print('bacon') and print('ham')."
   ]
  },
  {
   "cell_type": "markdown",
   "id": "d95a99c9",
   "metadata": {},
   "source": [
    "8. Write code that prints Hello if 1 is stored in spam, prints Howdy if 2 is stored in spam, and prints Greetings! if anything else is stored in spam."
   ]
  },
  {
   "cell_type": "code",
   "execution_count": 42,
   "id": "0146e895",
   "metadata": {},
   "outputs": [
    {
     "name": "stdout",
     "output_type": "stream",
     "text": [
      "Choise The digit between 1 or 2 :ijkh\n",
      "Greetings!\n"
     ]
    }
   ],
   "source": [
    "# ans.\n",
    "spam = input(\"Choise The digit between 1 or 2 :\")\n",
    "if spam == 1:\n",
    "    print('Hello')\n",
    "elif spam == 2:\n",
    "    print('Howdy')\n",
    "elif spam>=str(spam): # prints Greetings! if anything else is stored in spam.\n",
    "    print('Greetings!')\n",
    "else:\n",
    "    print('Greetings!')"
   ]
  },
  {
   "cell_type": "markdown",
   "id": "db9d88b5",
   "metadata": {},
   "source": [
    "9.If your programme is stuck in an endless loop, what keys you’ll press"
   ]
  },
  {
   "cell_type": "markdown",
   "id": "d4aa435b",
   "metadata": {},
   "source": [
    "Ans. Press CTRL-C to stop a program stuck in an infinite loop."
   ]
  },
  {
   "cell_type": "markdown",
   "id": "87689f02",
   "metadata": {},
   "source": [
    "10. How can you tell the difference between break and continue?"
   ]
  },
  {
   "cell_type": "markdown",
   "id": "da69b5dc",
   "metadata": {},
   "source": [
    "Ans. The break statement will move the execution outside and just after a loop.\n",
    "Whereas The continue statement will move the execution to the start of the loop."
   ]
  },
  {
   "cell_type": "markdown",
   "id": "3d3e4e54",
   "metadata": {},
   "source": [
    "11. In a for loop, what is the difference between range(10), range(0, 10), and range(0, 10, 1)?."
   ]
  },
  {
   "cell_type": "code",
   "execution_count": null,
   "id": "c80bc0e9",
   "metadata": {},
   "outputs": [],
   "source": [
    "Ans. range(start(inclusive),stop(exclusive),step) so according to this,\n",
    "They all do the same thing. The range(10) call ranges from 0 up to (but not including) 10, \n",
    "range(0, 10) explicitly tells the loop to start at 0, \n",
    "and range(0, 10, 1) explicitly tells the loop to increase the variable by 1 on each iteration."
   ]
  },
  {
   "cell_type": "code",
   "execution_count": 48,
   "id": "8a412126",
   "metadata": {},
   "outputs": [
    {
     "name": "stdout",
     "output_type": "stream",
     "text": [
      "0\n",
      "1\n",
      "2\n",
      "3\n",
      "4\n"
     ]
    }
   ],
   "source": [
    "#example\n",
    "for i in range(5):\n",
    "    print(i)\n"
   ]
  },
  {
   "cell_type": "code",
   "execution_count": 49,
   "id": "5377dea5",
   "metadata": {},
   "outputs": [
    {
     "name": "stdout",
     "output_type": "stream",
     "text": [
      "1\n",
      "2\n",
      "3\n",
      "4\n"
     ]
    }
   ],
   "source": [
    "for k in range(1,5):\n",
    "    print(k)"
   ]
  },
  {
   "cell_type": "code",
   "execution_count": 50,
   "id": "b497c055",
   "metadata": {},
   "outputs": [
    {
     "name": "stdout",
     "output_type": "stream",
     "text": [
      "0\n",
      "2\n",
      "4\n",
      "6\n",
      "8\n"
     ]
    }
   ],
   "source": [
    "for j in range(0,10,2):\n",
    "    print(j)"
   ]
  },
  {
   "cell_type": "markdown",
   "id": "bc9f63fe",
   "metadata": {},
   "source": [
    "12. Write a short program that prints the numbers 1 to 10 using a for loop. Then write an equivalent program that prints the numbers 1 to 10 using a while loop."
   ]
  },
  {
   "cell_type": "code",
   "execution_count": 51,
   "id": "0cd52176",
   "metadata": {},
   "outputs": [
    {
     "name": "stdout",
     "output_type": "stream",
     "text": [
      "1\n",
      "2\n",
      "3\n",
      "4\n",
      "5\n",
      "6\n",
      "7\n",
      "8\n",
      "9\n",
      "10\n"
     ]
    }
   ],
   "source": [
    "# ans\n",
    "for i in range(1,11):\n",
    "    print(i)"
   ]
  },
  {
   "cell_type": "code",
   "execution_count": 62,
   "id": "0b597446",
   "metadata": {},
   "outputs": [
    {
     "name": "stdout",
     "output_type": "stream",
     "text": [
      "1\n",
      "2\n",
      "3\n",
      "4\n",
      "5\n",
      "6\n",
      "7\n",
      "8\n",
      "9\n",
      "10\n"
     ]
    }
   ],
   "source": [
    "x = 1\n",
    "while x<=10:\n",
    "   print(x)\n",
    "   x = x + 1"
   ]
  },
  {
   "cell_type": "code",
   "execution_count": 63,
   "id": "a9100f87",
   "metadata": {},
   "outputs": [
    {
     "name": "stdout",
     "output_type": "stream",
     "text": [
      "1\n",
      "2\n",
      "3\n",
      "4\n",
      "5\n",
      "6\n",
      "7\n",
      "8\n",
      "9\n",
      "10\n"
     ]
    }
   ],
   "source": [
    "x = 0\n",
    "while x<=9:\n",
    "    x+=1\n",
    "    print(x)"
   ]
  },
  {
   "cell_type": "markdown",
   "id": "d088b24a",
   "metadata": {},
   "source": [
    "13. If you had a function named bacon() inside a module named spam, how would you call it after importing spam?"
   ]
  },
  {
   "cell_type": "markdown",
   "id": "051b7588",
   "metadata": {},
   "source": [
    "Ans .This function can be called with spam.bacon().   "
   ]
  },
  {
   "cell_type": "code",
   "execution_count": null,
   "id": "6c84b11d",
   "metadata": {},
   "outputs": [],
   "source": []
  }
 ],
 "metadata": {
  "kernelspec": {
   "display_name": "Python 3 (ipykernel)",
   "language": "python",
   "name": "python3"
  },
  "language_info": {
   "codemirror_mode": {
    "name": "ipython",
    "version": 3
   },
   "file_extension": ".py",
   "mimetype": "text/x-python",
   "name": "python",
   "nbconvert_exporter": "python",
   "pygments_lexer": "ipython3",
   "version": "3.10.6"
  }
 },
 "nbformat": 4,
 "nbformat_minor": 5
}
