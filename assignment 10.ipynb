{
 "cells": [
  {
   "cell_type": "markdown",
   "id": "5e7c3745",
   "metadata": {},
   "source": [
    "# 1. What is the role of try and exception block?\n"
   ]
  },
  {
   "cell_type": "markdown",
   "id": "3d2b6f23",
   "metadata": {},
   "source": [
    "# The try block lets you test a block of code for errors.\n",
    "\n",
    "# The except block lets you handle the error.\n",
    "\n",
    "# The else block lets you execute code when there is no error.\n",
    "\n",
    "# The finally block lets you execute code, regardless of the result of the try- and except blocks."
   ]
  },
  {
   "cell_type": "markdown",
   "id": "f0ba89e3",
   "metadata": {},
   "source": [
    "# 2. What is the syntax for a basic try-except block?\n"
   ]
  },
  {
   "cell_type": "code",
   "execution_count": null,
   "id": "60a09a55",
   "metadata": {},
   "outputs": [],
   "source": [
    "try:\n",
    "    # Code that may raise an exception\n",
    "    # ...\n",
    "except ExceptionType:\n",
    "    # Code to handle the exception\n",
    "    # .."
   ]
  },
  {
   "cell_type": "code",
   "execution_count": 1,
   "id": "2ca63e57",
   "metadata": {},
   "outputs": [
    {
     "name": "stdout",
     "output_type": "stream",
     "text": [
      "An exception occurred\n"
     ]
    }
   ],
   "source": [
    "try:\n",
    "  print(x)\n",
    "except:\n",
    "  print(\"An exception occurred\")"
   ]
  },
  {
   "cell_type": "markdown",
   "id": "946212fb",
   "metadata": {},
   "source": [
    "# 3. What happens if an exception occurs inside a try block and there is no matching except block?\n"
   ]
  },
  {
   "cell_type": "markdown",
   "id": "8fadcb18",
   "metadata": {},
   "source": [
    "# If an exception occurs inside a try block and there is no matching except block for that exception type, the program will terminate, and a traceback showing the exception details will be displayed"
   ]
  },
  {
   "cell_type": "markdown",
   "id": "3e52244b",
   "metadata": {},
   "source": [
    "# 4. What is the difference between using a bare except block and specifying a specific exception type?\n"
   ]
  },
  {
   "cell_type": "markdown",
   "id": "94692659",
   "metadata": {},
   "source": [
    "# Bare Except Block:\n",
    "# Catches any exception that occurs within its scope without specifying a specific exception type. It can hide errors and make debugging difficult, so it's generally discouraged.\n",
    "\n",
    "# Specifying a Specific Exception Type:\n",
    "# Catches only the specified exception type(s) within its scope. Provides better error management and code clarity, as each exception can be handled separately with appropriate messages and logic. This approach is recommended for robust and maintainable code."
   ]
  },
  {
   "cell_type": "markdown",
   "id": "e13392bb",
   "metadata": {},
   "source": [
    "# 5. Can you have nested try-except blocks in Python? If yes, then give an example.\n"
   ]
  },
  {
   "cell_type": "markdown",
   "id": "f03663bd",
   "metadata": {},
   "source": [
    "# Yes, we can have nested try-except blocks in Python. They allow us to handle different exceptions at different levels of code."
   ]
  },
  {
   "cell_type": "code",
   "execution_count": 5,
   "id": "130124a1",
   "metadata": {},
   "outputs": [
    {
     "name": "stdout",
     "output_type": "stream",
     "text": [
      "An error occurred: name 'num' is not defined\n"
     ]
    }
   ],
   "source": [
    "try:\n",
    "    # Inner try block\n",
    "    result = 10 / num\n",
    "    print(\"Result:\", result)\n",
    "except ZeroDivisionError:\n",
    "    print(\"Cannot divide by zero!\")\n",
    "except ValueError:\n",
    "    print(\"Invalid input. Please enter a valid number.\")\n",
    "except Exception as e:\n",
    "    # Outer except block\n",
    "    print(\"An error occurred:\", e)"
   ]
  },
  {
   "cell_type": "markdown",
   "id": "3df4e269",
   "metadata": {},
   "source": [
    "# The outer block handles exceptions related to getting user input, while the inner block handles division by zero and invalid input errors."
   ]
  },
  {
   "cell_type": "markdown",
   "id": "23b7ae93",
   "metadata": {},
   "source": [
    "# Ques -6. Can we use multiple exception blocks, if yes then give an example.\n"
   ]
  },
  {
   "cell_type": "markdown",
   "id": "3c160309",
   "metadata": {},
   "source": [
    "# Yes, we can use multiple except blocks to handle different types of exceptions. This allows us to provide specific error handling for each exception type. Here's an example:"
   ]
  },
  {
   "cell_type": "code",
   "execution_count": 8,
   "id": "2d5d54de",
   "metadata": {},
   "outputs": [
    {
     "name": "stdout",
     "output_type": "stream",
     "text": [
      "Enter a number: kk\n",
      "Invalid input. Please enter a valid number.\n"
     ]
    }
   ],
   "source": [
    "try:\n",
    "    num = int(input(\"Enter a number: \"))\n",
    "    result = 10 / num\n",
    "    print(\"Result:\", result)\n",
    "except ZeroDivisionError:\n",
    "    print(\"Cannot divide by zero!\")\n",
    "except ValueError:\n",
    "    print(\"Invalid input. Please enter a valid number.\")\n",
    "except Exception as e:\n",
    "    print(\"An error occurred:\", e)"
   ]
  },
  {
   "cell_type": "markdown",
   "id": "bc52c1d5",
   "metadata": {},
   "source": [
    "# 7. Write the reason due to which following errors are raised:\n",
    "# a. EOFError\n",
    "# b. FloatingPointError\n",
    "# c. IndexError\n",
    "# d. MemoryError\n",
    "# e. OverflowError\n",
    "# f. TabError\n",
    "# g. ValueError\n"
   ]
  },
  {
   "cell_type": "markdown",
   "id": "55b74487",
   "metadata": {},
   "source": [
    "# The reasons for the following errors:\n",
    "\n",
    "# a. EOFError: Raised when there is an attempt to read input beyond the end-of-file.\n",
    "\n",
    "# b. FloatingPointError: Raised when a floating-point operation cannot be performed, typically when dividing by zero or producing an overflow or underflow.\n",
    "\n",
    "# c. IndexError: Raised when a sequence subscript is out of range. For example, accessing an element in a list at an index that does not exist.\n",
    "\n",
    "# d. MemoryError: Raised when an operation runs out of memory or encounters problems in memory allocation.\n",
    "\n",
    "# e. OverflowError: Raised when the result of an arithmetic operation is too large to be represented. For example, an integer calculation that exceeds the maximum representable value.\n",
    "\n",
    "# f. TabError: Raised when indentation contains inconsistent tabs and spaces in a block of code.\n",
    "\n",
    "# g. ValueError: Raised when an operation or function receives an argument of the correct type but with an inappropriate value. For example, calling int(\"abc\") will raise a ValueError because \"abc\" cannot be converted to an integer."
   ]
  },
  {
   "cell_type": "markdown",
   "id": "f006667f",
   "metadata": {},
   "source": [
    "# 8. Write code for the following given scenario and add try-exception block to it.\n",
    "# a. Program to divide two numbers\n",
    "# b. Program to convert a string to an integer\n",
    "# c. Program to access an element in a list\n",
    "# d. Program to handle a specific exception\n",
    "# e. Program to handle any exception"
   ]
  },
  {
   "cell_type": "code",
   "execution_count": 10,
   "id": "1c73345c",
   "metadata": {},
   "outputs": [
    {
     "name": "stdout",
     "output_type": "stream",
     "text": [
      "Enter The Dividend :20\n",
      "Enter The Divisor :2\n",
      "Divisoin of Two Number is : 20.0 / 2.0 = 10.0\n",
      "Enter The Dividend :40\n",
      "Enter The Divisor :20\n",
      "Divisoin of Two Number is : 40.0 / 20.0 = 2.0\n",
      "Enter The Dividend :kko\n",
      "Invalid Inputs, Plz enter numeric data\n"
     ]
    },
    {
     "ename": "KeyboardInterrupt",
     "evalue": "Interrupted by user",
     "output_type": "error",
     "traceback": [
      "\u001b[1;31m---------------------------------------------------------------------------\u001b[0m",
      "\u001b[1;31mKeyboardInterrupt\u001b[0m                         Traceback (most recent call last)",
      "Input \u001b[1;32mIn [10]\u001b[0m, in \u001b[0;36m<cell line: 4>\u001b[1;34m()\u001b[0m\n\u001b[0;32m      4\u001b[0m \u001b[38;5;28;01mwhile\u001b[39;00m \u001b[38;5;28;01mTrue\u001b[39;00m:\n\u001b[0;32m      5\u001b[0m     \u001b[38;5;28;01mtry\u001b[39;00m:\n\u001b[1;32m----> 6\u001b[0m         a \u001b[38;5;241m=\u001b[39m \u001b[38;5;28mfloat\u001b[39m(\u001b[38;5;28;43minput\u001b[39;49m\u001b[43m(\u001b[49m\u001b[38;5;124;43m\"\u001b[39;49m\u001b[38;5;124;43mEnter The Dividend :\u001b[39;49m\u001b[38;5;124;43m\"\u001b[39;49m\u001b[43m)\u001b[49m)\n\u001b[0;32m      7\u001b[0m         b  \u001b[38;5;241m=\u001b[39m \u001b[38;5;28mfloat\u001b[39m(\u001b[38;5;28minput\u001b[39m(\u001b[38;5;124m\"\u001b[39m\u001b[38;5;124mEnter The Divisor :\u001b[39m\u001b[38;5;124m\"\u001b[39m))\n\u001b[0;32m      8\u001b[0m     \u001b[38;5;28;01mexcept\u001b[39;00m \u001b[38;5;167;01mValueError\u001b[39;00m:\n",
      "File \u001b[1;32m~\\AppData\\Local\\Programs\\Python\\Python310\\lib\\site-packages\\ipykernel\\kernelbase.py:1075\u001b[0m, in \u001b[0;36mKernel.raw_input\u001b[1;34m(self, prompt)\u001b[0m\n\u001b[0;32m   1071\u001b[0m \u001b[38;5;28;01mif\u001b[39;00m \u001b[38;5;129;01mnot\u001b[39;00m \u001b[38;5;28mself\u001b[39m\u001b[38;5;241m.\u001b[39m_allow_stdin:\n\u001b[0;32m   1072\u001b[0m     \u001b[38;5;28;01mraise\u001b[39;00m StdinNotImplementedError(\n\u001b[0;32m   1073\u001b[0m         \u001b[38;5;124m\"\u001b[39m\u001b[38;5;124mraw_input was called, but this frontend does not support input requests.\u001b[39m\u001b[38;5;124m\"\u001b[39m\n\u001b[0;32m   1074\u001b[0m     )\n\u001b[1;32m-> 1075\u001b[0m \u001b[38;5;28;01mreturn\u001b[39;00m \u001b[38;5;28;43mself\u001b[39;49m\u001b[38;5;241;43m.\u001b[39;49m\u001b[43m_input_request\u001b[49m\u001b[43m(\u001b[49m\n\u001b[0;32m   1076\u001b[0m \u001b[43m    \u001b[49m\u001b[38;5;28;43mstr\u001b[39;49m\u001b[43m(\u001b[49m\u001b[43mprompt\u001b[49m\u001b[43m)\u001b[49m\u001b[43m,\u001b[49m\n\u001b[0;32m   1077\u001b[0m \u001b[43m    \u001b[49m\u001b[38;5;28;43mself\u001b[39;49m\u001b[38;5;241;43m.\u001b[39;49m\u001b[43m_parent_ident\u001b[49m\u001b[43m[\u001b[49m\u001b[38;5;124;43m\"\u001b[39;49m\u001b[38;5;124;43mshell\u001b[39;49m\u001b[38;5;124;43m\"\u001b[39;49m\u001b[43m]\u001b[49m\u001b[43m,\u001b[49m\n\u001b[0;32m   1078\u001b[0m \u001b[43m    \u001b[49m\u001b[38;5;28;43mself\u001b[39;49m\u001b[38;5;241;43m.\u001b[39;49m\u001b[43mget_parent\u001b[49m\u001b[43m(\u001b[49m\u001b[38;5;124;43m\"\u001b[39;49m\u001b[38;5;124;43mshell\u001b[39;49m\u001b[38;5;124;43m\"\u001b[39;49m\u001b[43m)\u001b[49m\u001b[43m,\u001b[49m\n\u001b[0;32m   1079\u001b[0m \u001b[43m    \u001b[49m\u001b[43mpassword\u001b[49m\u001b[38;5;241;43m=\u001b[39;49m\u001b[38;5;28;43;01mFalse\u001b[39;49;00m\u001b[43m,\u001b[49m\n\u001b[0;32m   1080\u001b[0m \u001b[43m\u001b[49m\u001b[43m)\u001b[49m\n",
      "File \u001b[1;32m~\\AppData\\Local\\Programs\\Python\\Python310\\lib\\site-packages\\ipykernel\\kernelbase.py:1120\u001b[0m, in \u001b[0;36mKernel._input_request\u001b[1;34m(self, prompt, ident, parent, password)\u001b[0m\n\u001b[0;32m   1117\u001b[0m             \u001b[38;5;28;01mbreak\u001b[39;00m\n\u001b[0;32m   1118\u001b[0m \u001b[38;5;28;01mexcept\u001b[39;00m \u001b[38;5;167;01mKeyboardInterrupt\u001b[39;00m:\n\u001b[0;32m   1119\u001b[0m     \u001b[38;5;66;03m# re-raise KeyboardInterrupt, to truncate traceback\u001b[39;00m\n\u001b[1;32m-> 1120\u001b[0m     \u001b[38;5;28;01mraise\u001b[39;00m \u001b[38;5;167;01mKeyboardInterrupt\u001b[39;00m(\u001b[38;5;124m\"\u001b[39m\u001b[38;5;124mInterrupted by user\u001b[39m\u001b[38;5;124m\"\u001b[39m) \u001b[38;5;28;01mfrom\u001b[39;00m \u001b[38;5;28mNone\u001b[39m\n\u001b[0;32m   1121\u001b[0m \u001b[38;5;28;01mexcept\u001b[39;00m \u001b[38;5;167;01mException\u001b[39;00m:\n\u001b[0;32m   1122\u001b[0m     \u001b[38;5;28mself\u001b[39m\u001b[38;5;241m.\u001b[39mlog\u001b[38;5;241m.\u001b[39mwarning(\u001b[38;5;124m\"\u001b[39m\u001b[38;5;124mInvalid Message:\u001b[39m\u001b[38;5;124m\"\u001b[39m, exc_info\u001b[38;5;241m=\u001b[39m\u001b[38;5;28;01mTrue\u001b[39;00m)\n",
      "\u001b[1;31mKeyboardInterrupt\u001b[0m: Interrupted by user"
     ]
    }
   ],
   "source": [
    "# Program to divide two numbers\n",
    "def div(a,b):\n",
    "    return a/b\n",
    "while True:\n",
    "    try:\n",
    "        a = float(input(\"Enter The Dividend :\"))\n",
    "        b  = float(input(\"Enter The Divisor :\"))\n",
    "    except ValueError:\n",
    "        print(\"Invalid Inputs, Plz enter numeric data\")\n",
    "        continue\n",
    "    print(\"Divisoin of Two Number is :\",a,\"/\",b,\"=\",div(a,b))    "
   ]
  },
  {
   "cell_type": "code",
   "execution_count": 13,
   "id": "d202e674",
   "metadata": {},
   "outputs": [
    {
     "name": "stdout",
     "output_type": "stream",
     "text": [
      "Enter a number: 4\n",
      "Converted integer: 4\n",
      "<class 'int'>\n"
     ]
    }
   ],
   "source": [
    "# Program to convert a string to an integer\n",
    "try:\n",
    "    # Get the input string from the user\n",
    "    input_str = input(\"Enter a number: \")\n",
    "\n",
    "    # Convert the string to an integer using the int() function\n",
    "    num = int(input_str)\n",
    "\n",
    "    # Print the result\n",
    "    print(\"Converted integer:\", num)\n",
    "    print(type(num))\n",
    "\n",
    "except ValueError:\n",
    "    print(\"Invalid input. Please enter a valid number.\")"
   ]
  },
  {
   "cell_type": "code",
   "execution_count": 17,
   "id": "830efafd",
   "metadata": {},
   "outputs": [
    {
     "name": "stdout",
     "output_type": "stream",
     "text": [
      "Enter the index of the element you want to access: kio\n",
      "Invalid input. Please enter a valid integer index.\n"
     ]
    }
   ],
   "source": [
    "# Program to access an element in a list\n",
    "\n",
    "try:\n",
    "    # Sample list\n",
    "    my_list = ['Mojammil','Krish Naik','Shudhanshu','Sunny Savita']\n",
    "\n",
    "    # Get the index of the element to access\n",
    "    index = int(input(\"Enter the index of the element you want to access: \"))\n",
    "\n",
    "    # Access the element using the index\n",
    "    element = my_list[index]\n",
    "\n",
    "    # Print the result\n",
    "    print(\"Element at index\", index, \":\", element)\n",
    "\n",
    "except IndexError:\n",
    "    print(\"Index is out of range. Please enter a valid index.\")\n",
    "except ValueError:\n",
    "    print(\"Invalid input. Please enter a valid integer index.\")"
   ]
  },
  {
   "cell_type": "code",
   "execution_count": 19,
   "id": "325bde40",
   "metadata": {},
   "outputs": [
    {
     "name": "stdout",
     "output_type": "stream",
     "text": [
      "Enter the numerator: 1\n",
      "Enter the denominator: 0\n",
      "Error: Cannot divide by zero.\n"
     ]
    }
   ],
   "source": [
    "# Program to handle a specific exception\n",
    "\n",
    "try:\n",
    "    # Get user input for numerator and denominator\n",
    "    numerator = int(input(\"Enter the numerator: \"))\n",
    "    denominator = int(input(\"Enter the denominator: \"))\n",
    "\n",
    "    # Perform the division\n",
    "    result = numerator / denominator\n",
    "\n",
    "    # Print the result\n",
    "    print(\"Result:\", result)\n",
    "\n",
    "except ZeroDivisionError:\n",
    "    print(\"Error: Cannot divide by zero.\")\n",
    "except ValueError:\n",
    "    print(\"Error: Invalid input. Please enter valid integers.\")"
   ]
  },
  {
   "cell_type": "code",
   "execution_count": 20,
   "id": "c3880510",
   "metadata": {},
   "outputs": [
    {
     "name": "stdout",
     "output_type": "stream",
     "text": [
      "Enter a number: iulkuo\n",
      "An error occurred: invalid literal for int() with base 10: 'iulkuo'\n"
     ]
    }
   ],
   "source": [
    "try:\n",
    "    # Get user input for a number\n",
    "    num_str = input(\"Enter a number: \")\n",
    "\n",
    "    # Convert the string to an integer\n",
    "    num = int(num_str)\n",
    "\n",
    "    # Perform a division operation with the number\n",
    "    result = 100 / num\n",
    "\n",
    "    # Print the result\n",
    "    print(\"Result:\", result)\n",
    "\n",
    "except Exception as e:\n",
    "    print(\"An error occurred:\", e)"
   ]
  },
  {
   "cell_type": "code",
   "execution_count": null,
   "id": "52d5ceaf",
   "metadata": {},
   "outputs": [],
   "source": []
  }
 ],
 "metadata": {
  "kernelspec": {
   "display_name": "Python 3 (ipykernel)",
   "language": "python",
   "name": "python3"
  },
  "language_info": {
   "codemirror_mode": {
    "name": "ipython",
    "version": 3
   },
   "file_extension": ".py",
   "mimetype": "text/x-python",
   "name": "python",
   "nbconvert_exporter": "python",
   "pygments_lexer": "ipython3",
   "version": "3.10.6"
  }
 },
 "nbformat": 4,
 "nbformat_minor": 5
}
