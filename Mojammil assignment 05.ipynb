{
 "cells": [
  {
   "cell_type": "markdown",
   "id": "a9ebb9da",
   "metadata": {},
   "source": [
    "# 1. What does an empty dictionary's code look like?"
   ]
  },
  {
   "cell_type": "markdown",
   "id": "03ce33ae",
   "metadata": {},
   "source": [
    "# Ans- Two curly brackets: {}"
   ]
  },
  {
   "cell_type": "code",
   "execution_count": 12,
   "id": "f1236cc2",
   "metadata": {},
   "outputs": [
    {
     "name": "stdout",
     "output_type": "stream",
     "text": [
      "Current Dict Empty : {} <class 'dict'>\n",
      "Updated Dict : {'Name': 'Mojammil'}\n"
     ]
    }
   ],
   "source": [
    "dic = {}\n",
    "print(\"Current Dict Empty :\",dic,type(dic))\n",
    "dic2 = {\"Name\":\"Mojammil\"}\n",
    "dic.update(dic2)\n",
    "print(\"Updated Dict :\",dic)"
   ]
  },
  {
   "cell_type": "markdown",
   "id": "39db1f37",
   "metadata": {},
   "source": [
    "# 2. What is the value of a dictionary value with the key 'foo' and the value 42?"
   ]
  },
  {
   "cell_type": "markdown",
   "id": "eef840cf",
   "metadata": {},
   "source": [
    "# Ans - {'foo': 42}"
   ]
  },
  {
   "cell_type": "markdown",
   "id": "cbb02c56",
   "metadata": {},
   "source": [
    "# 3. What is the most significant distinction between a dictionary and a list?"
   ]
  },
  {
   "cell_type": "markdown",
   "id": "11c193ff",
   "metadata": {},
   "source": [
    "# Ans - dict consist of key and value pairs, in which keys are immutable while values are mutable , whereas the whole list is mutable\n",
    "# and The items stored in a dictionary are unordered, while the items in a list are ordered"
   ]
  },
  {
   "cell_type": "markdown",
   "id": "91d9acd7",
   "metadata": {},
   "source": [
    "# 4. What happens if you try to access spam['foo'] if spam is {'bar': 100}?"
   ]
  },
  {
   "cell_type": "markdown",
   "id": "a8d620af",
   "metadata": {},
   "source": [
    "# Ans -  You get a KeyError error"
   ]
  },
  {
   "cell_type": "markdown",
   "id": "42ca0920",
   "metadata": {},
   "source": [
    "# 5. If a dictionary is stored in spam, what is the difference between the expressions 'cat' in spam and 'cat' in spam.keys()?"
   ]
  },
  {
   "cell_type": "markdown",
   "id": "8afe216f",
   "metadata": {},
   "source": [
    "# Ans  - There is no difference. The operator checks whether a value exists as a key in the dictionary."
   ]
  },
  {
   "cell_type": "markdown",
   "id": "36f8d32d",
   "metadata": {},
   "source": [
    "# 6. If a dictionary is stored in spam, what is the difference between the expressions 'cat' in spam and 'cat' in spam.values()?"
   ]
  },
  {
   "cell_type": "markdown",
   "id": "ef943400",
   "metadata": {},
   "source": [
    "# ans - The 'cat' in spam checks whether there is a 'cat' key in the dictionary, while 'cat' in spam.values() checks whether there is a value 'cat' for one of the keys in spam."
   ]
  },
  {
   "cell_type": "markdown",
   "id": "da37c6df",
   "metadata": {},
   "source": [
    "# 7. What is a shortcut for the following code?\n",
    "# if 'color' not in spam:\n",
    "# spam['color'] = 'black'"
   ]
  },
  {
   "cell_type": "markdown",
   "id": "239032a5",
   "metadata": {},
   "source": [
    "# Ans - spam.setdefault('color', 'black')\n"
   ]
  },
  {
   "cell_type": "markdown",
   "id": "22a48fe5",
   "metadata": {},
   "source": [
    "# 8. How do you \"pretty print\" dictionary values using which module and function?\n"
   ]
  },
  {
   "cell_type": "markdown",
   "id": "78601e8a",
   "metadata": {},
   "source": [
    "# pprint.pprint()"
   ]
  },
  {
   "cell_type": "code",
   "execution_count": null,
   "id": "62eaefc3",
   "metadata": {},
   "outputs": [],
   "source": []
  }
 ],
 "metadata": {
  "kernelspec": {
   "display_name": "Python 3 (ipykernel)",
   "language": "python",
   "name": "python3"
  },
  "language_info": {
   "codemirror_mode": {
    "name": "ipython",
    "version": 3
   },
   "file_extension": ".py",
   "mimetype": "text/x-python",
   "name": "python",
   "nbconvert_exporter": "python",
   "pygments_lexer": "ipython3",
   "version": "3.10.6"
  }
 },
 "nbformat": 4,
 "nbformat_minor": 5
}
