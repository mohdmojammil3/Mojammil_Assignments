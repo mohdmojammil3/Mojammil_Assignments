{
 "cells": [
  {
   "cell_type": "markdown",
   "id": "1c8ca675",
   "metadata": {},
   "source": [
    "# 1. What is the role of the 'else' block in a try-except statement? Provide an example scenario where it would be useful.\n"
   ]
  },
  {
   "cell_type": "markdown",
   "id": "7fa92c4d",
   "metadata": {},
   "source": [
    "# The 'else' block in a try-except statement is used to specify a block of code that should be executed if no exception occurs within the 'try' block. It is optional and runs only when the 'try' block executes successfully without raising any exceptions."
   ]
  },
  {
   "cell_type": "markdown",
   "id": "294df5ba",
   "metadata": {},
   "source": [
    "# Let's consider a program that reads data from a file and performs some calculations on the data. If the file exists and the data can be successfully read, the program will process the data. However, if the file is not found or an error occurs while reading the data, the program should display an error message. We can use the 'else' block to execute the data processing code when there are no exceptions:"
   ]
  },
  {
   "cell_type": "code",
   "execution_count": 3,
   "id": "8e69cad3",
   "metadata": {},
   "outputs": [
    {
     "name": "stdout",
     "output_type": "stream",
     "text": [
      "Error: The file 'data.txt' was not found.\n"
     ]
    }
   ],
   "source": [
    "try:\n",
    "    with open('data.txt', 'r') as file:\n",
    "        data = file.read()\n",
    "except FileNotFoundError:\n",
    "    print(\"Error: The file 'data.txt' was not found.\")\n",
    "except IOError:\n",
    "    print(\"Error: An error occurred while reading the file.\")\n",
    "else:\n",
    "    # Process the data if no exceptions occurred\n",
    "    # For example, calculate the sum of integers in the data\n",
    "    numbers = [int(x) for x in data.split()]\n",
    "    total_sum = sum(numbers)\n",
    "    print(\"Sum of numbers in the file:\", total_sum)"
   ]
  },
  {
   "cell_type": "markdown",
   "id": "7446e59f",
   "metadata": {},
   "source": [
    "# In this example, the 'try' block attempts to read data from the file 'data.txt'. If the file is not found (FileNotFoundError) or an error occurs while reading it (IOError), the corresponding 'except' block will execute and display the appropriate error message. However, if the file is successfully read and no exceptions occur, the 'else' block will be executed, performing data processing and displaying the sum of numbers in the file."
   ]
  },
  {
   "cell_type": "markdown",
   "id": "5dcff8af",
   "metadata": {},
   "source": [
    "# 2. Can a try-except block be nested inside another try-except block? Explain with an example.\n"
   ]
  },
  {
   "cell_type": "markdown",
   "id": "41b5c2ab",
   "metadata": {},
   "source": [
    "# Yes, a try-except block can be nested inside another try-except block in Python. This is known as exception handling with nested try-except blocks. It allows for more granular and specific error handling at different levels of code."
   ]
  },
  {
   "cell_type": "code",
   "execution_count": 6,
   "id": "3102328f",
   "metadata": {},
   "outputs": [
    {
     "name": "stdout",
     "output_type": "stream",
     "text": [
      "Enter the first number: 4\n",
      "Enter the second number: 4\n",
      "Result of division: 1.0\n"
     ]
    }
   ],
   "source": [
    "try:\n",
    "    # Outer try block\n",
    "    num1 = int(input(\"Enter the first number: \"))\n",
    "    num2 = int(input(\"Enter the second number: \"))\n",
    "\n",
    "    try:\n",
    "        # Inner try block\n",
    "        result = num1 / num2\n",
    "        print(\"Result of division:\", result)\n",
    "\n",
    "    except ZeroDivisionError:\n",
    "        print(\"Error: Cannot divide by zero.\")\n",
    "\n",
    "except ValueError:\n",
    "    print(\"Error: Invalid input. Please enter valid integers.\")\n"
   ]
  },
  {
   "cell_type": "markdown",
   "id": "174fc4a9",
   "metadata": {},
   "source": [
    "# In this example, there are two try-except blocks:\n",
    "\n",
    "# Outer Try-Except Block: The outer block attempts to read two integers from the user, num1 and num2. If the user enters non-integer input, a ValueError will be raised and caught by the outer except block, displaying the message \"Error: Invalid input. Please enter valid integers.\"\n",
    "\n",
    "# Inner Try-Except Block: If the input values are valid integers, the program attempts to perform the division operation in the inner try block. If the user enters zero as the second number (num2), a ZeroDivisionError will be raised and caught by the inner except block, displaying the message \"Error: Cannot divide by zero.\"\n",
    "\n",
    "# By nesting try-except blocks, you can handle different types of exceptions at different levels of code, allowing for more precise and targeted error handling. The inner try-except block handles the specific division-related errors, while the outer try-except block handles the input-related errors. This enhances code readability and maintainability, making it easier to handle different exception scenarios in complex programs."
   ]
  },
  {
   "cell_type": "markdown",
   "id": "adca2308",
   "metadata": {},
   "source": [
    "# 3. How can you create a custom exception class in Python? Provide an example that demonstrates its usage.\n"
   ]
  },
  {
   "cell_type": "markdown",
   "id": "bf26c50a",
   "metadata": {},
   "source": [
    "# In Python, we can create a custom exception class by defining a new class that inherits from the built-in Exception class or any of its subclasses. By creating a custom exception class, we can define our own exception type with custom behavior and error messages."
   ]
  },
  {
   "cell_type": "code",
   "execution_count": 8,
   "id": "eb653c6c",
   "metadata": {},
   "outputs": [
    {
     "name": "stdout",
     "output_type": "stream",
     "text": [
      "Enter the numerator: 4\n",
      "Enter the denominator: 5\n",
      "Result: 0.8\n"
     ]
    }
   ],
   "source": [
    "# Define a custom exception class\n",
    "class CustomError(Exception):\n",
    "    def __init__(self, message):\n",
    "        self.message = message\n",
    "\n",
    "# Example function that raises the custom exception\n",
    "def divide(a, b):\n",
    "    if b == 0:\n",
    "        raise CustomError(\"Cannot divide by zero.\")\n",
    "    return a / b\n",
    "\n",
    "# Example usage of the custom exception\n",
    "try:\n",
    "    num1 = int(input(\"Enter the numerator: \"))\n",
    "    num2 = int(input(\"Enter the denominator: \"))\n",
    "\n",
    "    result = divide(num1, num2)\n",
    "    print(\"Result:\", result)\n",
    "\n",
    "except ValueError:\n",
    "    print(\"Error: Invalid input. Please enter valid integers.\")\n",
    "except CustomError as ce:\n",
    "    print(\"Error:\", ce)"
   ]
  },
  {
   "cell_type": "markdown",
   "id": "be610afa",
   "metadata": {},
   "source": [
    "# 1-We define a custom exception class CustomError, which inherits from the base Exception class.\n",
    "# 2-The CustomError class has an __init__ method that accepts a message as an argument and stores it as an instance attribute.\n",
    "# 3-The divide function takes two arguments and performs division. If the second argument (b) is zero, it raises the CustomError exception with the specified message \"Cannot divide by zero.\"\n",
    "# 4-In the main part of the code, we use a try-except block to handle possible exceptions. If the user enters non-integer input, a ValueError will be raised and caught by the ValueError except block. If the CustomError exception is raised during the division, the CustomError except block will handle it and display the custom error message."
   ]
  },
  {
   "cell_type": "markdown",
   "id": "07156e1c",
   "metadata": {},
   "source": [
    "# Ques-4. What are some common exceptions that are built-in to Python?\n"
   ]
  },
  {
   "cell_type": "markdown",
   "id": "577e2068",
   "metadata": {},
   "source": [
    "# Ans-Python has several built-in exception classes that cover common error scenarios. Here are some of the most commonly used built-in exceptions in Python:\n",
    "\n",
    "# SyntaxError: Raised when there is a syntax error in the code.\n",
    "\n",
    "# IndentationError: Raised when there is an incorrect indentation in the code, such as inconsistent use of tabs and spaces.\n",
    "\n",
    "# NameError: Raised when a variable or name is not found in the current scope.\n",
    "\n",
    "# TypeError: Raised when an operation or function is applied to an object of an inappropriate type.\n",
    "\n",
    "# ValueError: Raised when an operation or function receives an argument of the correct type but with an inappropriate value.\n",
    "\n",
    "# IndexError: Raised when a sequence subscript (index) is out of range.\n",
    "\n",
    "# KeyError: Raised when a dictionary key is not found.\n",
    "\n",
    "# ZeroDivisionError: Raised when attempting to divide by zero.\n",
    "\n",
    "# FileNotFoundError: Raised when a file or directory is requested but cannot be found.\n",
    "\n",
    "# IOError: Raised when an input/output operation fails, such as when reading or writing to a file.\n",
    "\n",
    "# OverflowError: Raised when the result of an arithmetic operation is too large to be represented.\n",
    "\n",
    "# AssertionError: Raised when an assert statement fails.\n",
    "\n",
    "# StopIteration: Raised to signal the end of an iterator.\n",
    "\n",
    "# KeyboardInterrupt: Raised when the user interrupts the program (e.g., by pressing Ctrl+C).\n",
    "\n",
    "# ImportError: Raised when an import statement cannot find the specified module.\n",
    "\n",
    "# These are just a few examples of the many built-in exceptions available in Python. Each exception serves a specific purpose, and they can be caught and handled using try-except blocks to make programs more robust and user-friendly."
   ]
  },
  {
   "cell_type": "markdown",
   "id": "8011c4c7",
   "metadata": {},
   "source": [
    "# 5. What is logging in Python, and why is it important in software development?\n"
   ]
  },
  {
   "cell_type": "markdown",
   "id": "a7e6740b",
   "metadata": {},
   "source": [
    "# Ans -Logging in Python is a module that provides a flexible and efficient way to record information, messages, and errors during the execution of a program. It allows developers to capture and store different levels of information, such as debugging messages, informational messages, warnings, and errors, to help track the behavior of the application and diagnose issues."
   ]
  },
  {
   "cell_type": "markdown",
   "id": "5e4f1abd",
   "metadata": {},
   "source": [
    "# Importance of logging in software development:\n",
    "\n",
    "# 1.Debugging and Troubleshooting: Logging helps developers understand what's happening in the code at various points during execution. It aids in identifying bugs, understanding the flow of the program, and pinpointing the source of errors.\n",
    "\n",
    "# 2.Monitoring and Maintenance: In production environments, logs provide essential information about the application's behavior. They can be used for monitoring performance, detecting anomalies, and maintaining the system.\n",
    "\n",
    "# 3.Error Tracking: Logging allows developers to record errors and exceptions that occur during the execution of a program. This helps in identifying and addressing critical issues.\n",
    "\n",
    "# 4.Auditing and Compliance: For certain applications, logging is necessary to comply with regulatory requirements and to keep a record of user actions.\n",
    "\n",
    "# 5.Historical Analysis: Logs can be used for historical analysis, allowing developers to analyze past issues, improve the system, and make data-driven decisions."
   ]
  },
  {
   "cell_type": "markdown",
   "id": "cb582a1c",
   "metadata": {},
   "source": [
    "# 6. Explain the purpose of log levels in Python logging and provide examples of when each log level would be appropriate.\n"
   ]
  },
  {
   "cell_type": "markdown",
   "id": "d63008e1",
   "metadata": {},
   "source": [
    "# Ans- Log levels in Python logging categorize log messages based on their severity. They help control the amount of information logged and are crucial for debugging, monitoring, and maintenance. Here's a brief summary of each log level and when to use them:\n",
    "\n",
    "# DEBUG: Lowest level for detailed debugging information during development and troubleshooting.\n",
    "\n",
    "# INFO: Used to confirm that things are working as expected, providing general information about the program's execution.\n",
    "\n",
    "# WARNING: Indicates potential problems that require attention but do not prevent the program from continuing.\n",
    "\n",
    "# ERROR: Indicates specific errors that caused the program to fail in some way, but it can continue execution.\n",
    "\n",
    "# CRITICAL: Highest level, indicating severe errors that prevent the program from continuing, such as critical failures.\n",
    "\n",
    "# Choosing the appropriate log level allows developers to focus on relevant information at different stages of the software's life cycle. For development and testing, use DEBUG or INFO, and for production, use WARNING, ERROR, or CRITICAL to prioritize significant issues."
   ]
  },
  {
   "cell_type": "markdown",
   "id": "bef2239a",
   "metadata": {},
   "source": [
    "# 7. What are log formatters in Python logging, and how can you customise the log message format using formatters?\n"
   ]
  },
  {
   "cell_type": "markdown",
   "id": "435c9618",
   "metadata": {},
   "source": [
    "# Log formatters in Python logging allow us to customize the appearance of log messages when they are written to log handlers. They use placeholders like %(asctime)s, %(levelname)s, and %(message)s to format the log output with timestamps, log levels, and log messages. By creating a Formatter object and setting it for log handlers, we can easily customize the log message format according to our requirements. This helps improve log readability and allows for easier analysis and monitoring of the application's behavior."
   ]
  },
  {
   "cell_type": "code",
   "execution_count": 10,
   "id": "d3018be8",
   "metadata": {},
   "outputs": [
    {
     "name": "stderr",
     "output_type": "stream",
     "text": [
      "2023-08-04 09:21:44,534 - DEBUG - This is a debug message.\n",
      "2023-08-04 09:21:44,536 - INFO - This is an info message.\n"
     ]
    }
   ],
   "source": [
    "import logging\n",
    "\n",
    "# Create a Formatter with a custom format\n",
    "formatter = logging.Formatter('%(asctime)s - %(levelname)s - %(message)s')\n",
    "\n",
    "# Create a logger and set its level\n",
    "logger = logging.getLogger('my_logger')\n",
    "logger.setLevel(logging.DEBUG)\n",
    "\n",
    "# Create a StreamHandler and set the Formatter\n",
    "stream_handler = logging.StreamHandler()\n",
    "stream_handler.setFormatter(formatter)\n",
    "\n",
    "# Add the StreamHandler to the logger\n",
    "logger.addHandler(stream_handler)\n",
    "\n",
    "# Log messages using the custom format\n",
    "logger.debug('This is a debug message.')\n",
    "logger.info('This is an info message.')"
   ]
  },
  {
   "cell_type": "markdown",
   "id": "e824ddf7",
   "metadata": {},
   "source": [
    "# 8. How can you set up logging to capture log messages from multiple modules or classes in a Python application?\n"
   ]
  },
  {
   "cell_type": "markdown",
   "id": "9e6e8a5e",
   "metadata": {},
   "source": [
    "# Ans-To capture log messages from multiple modules or classes in a Python application:\n",
    "\n",
    "# 1.Configure the root logger using basicConfig() to capture log messages from all modules by default.\n",
    "\n",
    "# 2.Create separate loggers for specific modules or classes using getLogger().\n",
    "\n",
    "# 3.Customize log levels, handlers, and formatters for each logger as needed.\n",
    "\n",
    "# 4.Add handlers to loggers to specify where log messages should be directed (e.g., console output or log files).\n",
    "\n",
    "# 5.Set appropriate log levels for each logger and handler to control the granularity of log messages.\n",
    "\n",
    "# By following these steps, we can effectively manage and analyze log messages from different parts of your application, making it easier to monitor and troubleshoot the behavior of your Python program."
   ]
  },
  {
   "cell_type": "markdown",
   "id": "3826b05c",
   "metadata": {},
   "source": [
    "# 9. What is the difference between the logging and print statements in Python? When should you use logging over print statements in a real-world application?\n"
   ]
  },
  {
   "cell_type": "markdown",
   "id": "89de9245",
   "metadata": {},
   "source": [
    "# Ans-print statements are simple and quick for debugging during development, but they provide unstructured output and are not suitable for production environments.\n",
    "# The logging module in Python is designed for structured logging, providing configurable log levels, log handlers, formatters, and output destinations.\n",
    "# Use print for quick debugging during development, but avoid using it in production code.\n",
    "# Use logging for systematic and organized logging in real-world applications, especially in production environments, to track behavior, detect errors, and monitor performance effectively.\n",
    "# logging is more maintainable, scalable, and provides better control over log output and log message format, making it suitable for long-term maintenance and troubleshooting."
   ]
  },
  {
   "cell_type": "markdown",
   "id": "5b8b2802",
   "metadata": {},
   "source": [
    "# we should use logging over print statements in a real-world application for the following reasons:\n",
    "\n",
    "# Structured Logging: Logging provides a systematic and categorized approach to recording information, warnings, errors, and events using log levels (DEBUG, INFO, WARNING, ERROR, CRITICAL).\n",
    "\n",
    "# Configurability: Logging allows you to configure log levels, format, destinations (e.g., console, files), and rotation, giving you control over log output customization.\n",
    "\n",
    "# Granularity: Different log levels enable logging at varying levels of detail, helping you focus on relevant information during different stages of the application.\n",
    "\n",
    "# Filtering: Logging enables you to filter log messages based on log levels, loggers, or other criteria, reducing log volume and enhancing log analysis.\n",
    "\n",
    "# Long-Term Maintenance: Logging offers maintainability and scalability as your application grows, providing a unified approach to handling logs throughout the codebase.\n",
    "\n",
    "# Production Use: In production environments, logging is preferred due to its structured and controlled log handling, while print statements are discouraged for their unstructured output, which can negatively impact application performance and security."
   ]
  },
  {
   "cell_type": "markdown",
   "id": "bdb9b5e6",
   "metadata": {},
   "source": [
    "# 10. Write a Python program that logs a message to a file named \"app.log\" with the\n",
    "# following requirements:\n",
    "# ● The log message should be \"Hello, World!\"\n",
    "# ● The log level should be set to \"INFO.\"\n",
    "# ● The log file should append new log entries without overwriting previous ones.\n"
   ]
  },
  {
   "cell_type": "markdown",
   "id": "63a13224",
   "metadata": {},
   "source": [
    "# Ans- To log a message to a file named \"app.log\" with the log level set to \"INFO\" and append new log entries without overwriting previous ones, use the logging module with the following configuration:"
   ]
  },
  {
   "cell_type": "code",
   "execution_count": 14,
   "id": "8e1503e5",
   "metadata": {},
   "outputs": [],
   "source": [
    "import logging\n",
    "\n",
    "logging.basicConfig(\n",
    "    filename='app.log',  # Log file name\n",
    "    filemode='a',        # Append mode\n",
    "    format='%(asctime)s - %(levelname)s - %(message)s',  # Log message format\n",
    "    level=logging.INFO   # Log level set to INFO\n",
    ")\n",
    "\n",
    "logging.info(\"Hello, World!\")  # Log the message \"Hello, World!\" with INFO level"
   ]
  },
  {
   "cell_type": "markdown",
   "id": "8800fed0",
   "metadata": {},
   "source": [
    "# This will log the message \"Hello, World!\" with an INFO level to the \"app.log\" file. Each execution will append new log entries to the existing file without overwriting the previous ones."
   ]
  },
  {
   "cell_type": "markdown",
   "id": "222c153a",
   "metadata": {},
   "source": [
    "# 11. Create a Python program that logs an error message to the console and a file named\n",
    "# \"errors.log\" if an exception occurs during the program's execution. The error\n",
    "# message should include the exception type and a timestamp."
   ]
  },
  {
   "cell_type": "markdown",
   "id": "3ade6040",
   "metadata": {},
   "source": [
    "# Ans- the Python program uses the logging module to log an error message to the console and a file named \"errors.log\" if an exception occurs during its execution. The program configures the logging to include a timestamp, log level, and the actual log message. It catches any exceptions that may occur during the main program logic and logs the error message along with the exception type and a full traceback to both the console and the \"errors.log\" file. This approach ensures that errors are properly recorded for analysis and debugging purposes."
   ]
  },
  {
   "cell_type": "code",
   "execution_count": 16,
   "id": "fa570195",
   "metadata": {},
   "outputs": [],
   "source": [
    "import logging\n",
    "import traceback\n",
    "import datetime\n",
    "\n",
    "def main():\n",
    "    # Configure logging\n",
    "    logging.basicConfig(\n",
    "        level=logging.ERROR,  # Log only ERROR level messages and above\n",
    "        format='%(asctime)s - %(levelname)s - %(message)s',  # Log message format\n",
    "        handlers=[\n",
    "            logging.StreamHandler(),  # For logging to the console\n",
    "            logging.FileHandler('errors.log'),  # For logging to the file\n",
    "        ]\n",
    "    )\n",
    "\n",
    "    try:\n",
    "        # Your main program logic here\n",
    "        result = 10 / 0  # Example code that causes an exception\n",
    "        print(\"Result:\", result)  # This line won't be executed due to the exception\n",
    "\n",
    "    except Exception as e:\n",
    "        # Log the error message along with exception type and timestamp\n",
    "        logging.error(\"Exception occurred: %s\", e)\n",
    "        logging.error(traceback.format_exc())  # Log the full traceback\n",
    "\n",
    "if __name__ == \"__main__\":\n",
    "    main()\n"
   ]
  },
  {
   "cell_type": "markdown",
   "id": "42199504",
   "metadata": {},
   "source": [
    "# In this program:\n",
    "\n",
    "# 1.We import the required modules: logging, traceback, and datetime.\n",
    "# 2.We define a main() function to encapsulate the main program logic.\n",
    "# 3.We configure logging using basicConfig with the ERROR log level to log only errors and above.\n",
    "# 4.We set the log message format to include the timestamp, log level, and the actual log message using the %(asctime)s, %(levelname)s, and %(message)s placeholders, respectively.\n",
    "# 5.We define two log handlers: one for logging to the console (StreamHandler) and another for logging to the \"errors.log\" file (FileHandler).\n",
    "# 6.Inside the try block, you should place your main program logic. We added an example that causes a division by zero exception.\n",
    "# 7.In the except block, we catch any Exception that occurs during the program's execution. We log the error message, exception type, and the full traceback to both the console and the \"errors.log\" file."
   ]
  },
  {
   "cell_type": "code",
   "execution_count": null,
   "id": "65b9e128",
   "metadata": {},
   "outputs": [],
   "source": []
  }
 ],
 "metadata": {
  "kernelspec": {
   "display_name": "Python 3 (ipykernel)",
   "language": "python",
   "name": "python3"
  },
  "language_info": {
   "codemirror_mode": {
    "name": "ipython",
    "version": 3
   },
   "file_extension": ".py",
   "mimetype": "text/x-python",
   "name": "python",
   "nbconvert_exporter": "python",
   "pygments_lexer": "ipython3",
   "version": "3.10.6"
  }
 },
 "nbformat": 4,
 "nbformat_minor": 5
}
