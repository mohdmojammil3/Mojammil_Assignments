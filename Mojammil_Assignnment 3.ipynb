{
 "cells": [
  {
   "cell_type": "markdown",
   "id": "e74cff1d",
   "metadata": {},
   "source": [
    "1. Why are functions advantageous to have in your programs?"
   ]
  },
  {
   "cell_type": "markdown",
   "id": "f1089463",
   "metadata": {},
   "source": [
    "Ans. Functions is a group of statement that performs a particular task and aslo reduce the need for duplicate code. \n",
    "This makes programs shorter, easier to read, and easier to update."
   ]
  },
  {
   "cell_type": "code",
   "execution_count": 18,
   "id": "2909a295",
   "metadata": {},
   "outputs": [
    {
     "name": "stdout",
     "output_type": "stream",
     "text": [
      "Enter The First Value :4\n",
      "Enter The 2nd Value :6\n",
      "10.0\n"
     ]
    }
   ],
   "source": [
    "# Example:\n",
    "def add():\n",
    "    a = float(input(\"Enter The First Value :\"))\n",
    "    b = float(input(\"Enter The 2nd Value :\"))\n",
    "    sum = a + b\n",
    "    return sum\n",
    "x = add()\n",
    "print(x)"
   ]
  },
  {
   "cell_type": "markdown",
   "id": "6769ca89",
   "metadata": {},
   "source": [
    "2. When does the code in a function run: when it's specified or when it's called?"
   ]
  },
  {
   "cell_type": "markdown",
   "id": "a25c6c58",
   "metadata": {},
   "source": [
    "Ans. The code in a function executes when the function is called, not when the function is defined."
   ]
  },
  {
   "cell_type": "code",
   "execution_count": 32,
   "id": "85cd588f",
   "metadata": {},
   "outputs": [
    {
     "name": "stdout",
     "output_type": "stream",
     "text": [
      "Hello\n"
     ]
    }
   ],
   "source": [
    "# example.\n",
    "def my_fun():\n",
    "    print(\"Hello\")\n",
    "\n",
    "    \n",
    "my_fun()  # calling The Function  "
   ]
  },
  {
   "cell_type": "markdown",
   "id": "f2d2cba8",
   "metadata": {},
   "source": [
    "3. What statement creates a function?"
   ]
  },
  {
   "cell_type": "markdown",
   "id": "3614ca5d",
   "metadata": {},
   "source": [
    "Ans- The def statement defines (that is, creates) a function."
   ]
  },
  {
   "cell_type": "code",
   "execution_count": 33,
   "id": "ebf45a93",
   "metadata": {},
   "outputs": [
    {
     "name": "stdout",
     "output_type": "stream",
     "text": [
      "Hello\n"
     ]
    }
   ],
   "source": [
    "def my_fun(): # def(): creates a funtion\n",
    "    print(\"Hello\")\n",
    "\n",
    "    \n",
    "my_fun()  # calling The Function  "
   ]
  },
  {
   "cell_type": "markdown",
   "id": "8e6fdb81",
   "metadata": {},
   "source": [
    "4. What is the difference between a function and a function call?"
   ]
  },
  {
   "cell_type": "markdown",
   "id": "58f92651",
   "metadata": {},
   "source": [
    "Ans-  A function consists of the def(): statement and the code in its def clause.\n",
    "A function call is what moves the program execution into the function,\n",
    "and the function call evaluates to the function’s return value."
   ]
  },
  {
   "cell_type": "markdown",
   "id": "102c977b",
   "metadata": {},
   "source": [
    "5. How many global scopes are there in a Python program? How many local scopes?"
   ]
  },
  {
   "cell_type": "markdown",
   "id": "de886eae",
   "metadata": {},
   "source": [
    "Ans. There is one global scope, and a local scope,which is created whenever a function is called."
   ]
  },
  {
   "cell_type": "code",
   "execution_count": 37,
   "id": "1d6c2746",
   "metadata": {},
   "outputs": [
    {
     "name": "stdout",
     "output_type": "stream",
     "text": [
      "25\n",
      "9\n"
     ]
    }
   ],
   "source": [
    "# example of Global Scope\n",
    "# Global variable can be use in anywhere in the program\n",
    "z = 25 # global variable\n",
    "def myfunction():\n",
    "    global z\n",
    "    print(z)\n",
    "myfunction()\n",
    "\n",
    "# example of Local Scope\n",
    "# variable can be used in scope\n",
    "def add(x,y): # passing function parameters , this could be made as user input too\n",
    "    sum = x+y # how function work or may called local variable\n",
    "    return sum \n",
    "print(add(5,4))\n"
   ]
  },
  {
   "cell_type": "markdown",
   "id": "56c1a186",
   "metadata": {},
   "source": [
    "6. What happens to variables in a local scope when the function call returns?"
   ]
  },
  {
   "cell_type": "markdown",
   "id": "5a6a2127",
   "metadata": {},
   "source": [
    "Ans - When a function returns, the local scope is destroyed, and all the variables in it are forgotten."
   ]
  },
  {
   "cell_type": "code",
   "execution_count": 38,
   "id": "e2ac96bf",
   "metadata": {},
   "outputs": [
    {
     "name": "stdout",
     "output_type": "stream",
     "text": [
      "Enter The First Value :4\n",
      "Enter The 2nd Value :6\n",
      "-2.0\n"
     ]
    }
   ],
   "source": [
    "# Exanole\n",
    "def add():\n",
    "    a = float(input(\"Enter The First Value :\"))\n",
    "    b = float(input(\"Enter The 2nd Value :\"))\n",
    "    sum = a - b\n",
    "    return sum\n",
    "x = add()\n",
    "print(x)"
   ]
  },
  {
   "cell_type": "markdown",
   "id": "7029c5b6",
   "metadata": {},
   "source": [
    "7. What is the concept of a return value? Is it possible to have a return value in an expression?"
   ]
  },
  {
   "cell_type": "markdown",
   "id": "66c4b67e",
   "metadata": {},
   "source": [
    "Ans.A return value is the value that a function call evaluates to.\n",
    "Like any value, a return value can be used as part of an expression."
   ]
  },
  {
   "cell_type": "code",
   "execution_count": 47,
   "id": "8b98bd1f",
   "metadata": {},
   "outputs": [
    {
     "name": "stdout",
     "output_type": "stream",
     "text": [
      "Enter The First Value :4\n",
      "Enter The 2nd Value :4\n",
      "Sum : 8\n",
      "8\n"
     ]
    },
    {
     "ename": "KeyboardInterrupt",
     "evalue": "Interrupted by user",
     "output_type": "error",
     "traceback": [
      "\u001b[1;31m---------------------------------------------------------------------------\u001b[0m",
      "\u001b[1;31mKeyboardInterrupt\u001b[0m                         Traceback (most recent call last)",
      "Input \u001b[1;32mIn [47]\u001b[0m, in \u001b[0;36m<cell line: 9>\u001b[1;34m()\u001b[0m\n\u001b[0;32m      8\u001b[0m x \u001b[38;5;241m=\u001b[39m \u001b[38;5;124m\"\u001b[39m\u001b[38;5;124m\"\u001b[39m\n\u001b[0;32m      9\u001b[0m \u001b[38;5;28;01mwhile\u001b[39;00m x \u001b[38;5;241m!=\u001b[39m\u001b[38;5;124m\"\u001b[39m\u001b[38;5;124mquit\u001b[39m\u001b[38;5;124m\"\u001b[39m:\n\u001b[1;32m---> 10\u001b[0m     x \u001b[38;5;241m=\u001b[39m \u001b[43madd\u001b[49m\u001b[43m(\u001b[49m\u001b[43m)\u001b[49m\n\u001b[0;32m     11\u001b[0m     \u001b[38;5;28mprint\u001b[39m(x)\n",
      "Input \u001b[1;32mIn [47]\u001b[0m, in \u001b[0;36madd\u001b[1;34m()\u001b[0m\n\u001b[0;32m      2\u001b[0m \u001b[38;5;28;01mdef\u001b[39;00m \u001b[38;5;21madd\u001b[39m():\n\u001b[1;32m----> 3\u001b[0m     a \u001b[38;5;241m=\u001b[39m \u001b[38;5;28mint\u001b[39m(\u001b[38;5;28;43minput\u001b[39;49m\u001b[43m(\u001b[49m\u001b[38;5;124;43m\"\u001b[39;49m\u001b[38;5;124;43mEnter The First Value :\u001b[39;49m\u001b[38;5;124;43m\"\u001b[39;49m\u001b[43m)\u001b[49m)\n\u001b[0;32m      4\u001b[0m     b \u001b[38;5;241m=\u001b[39m \u001b[38;5;28mint\u001b[39m(\u001b[38;5;28minput\u001b[39m(\u001b[38;5;124m\"\u001b[39m\u001b[38;5;124mEnter The 2nd Value :\u001b[39m\u001b[38;5;124m\"\u001b[39m))\n\u001b[0;32m      5\u001b[0m     \u001b[38;5;28msum\u001b[39m \u001b[38;5;241m=\u001b[39m (a \u001b[38;5;241m+\u001b[39m b)\n",
      "File \u001b[1;32m~\\AppData\\Local\\Programs\\Python\\Python310\\lib\\site-packages\\ipykernel\\kernelbase.py:1075\u001b[0m, in \u001b[0;36mKernel.raw_input\u001b[1;34m(self, prompt)\u001b[0m\n\u001b[0;32m   1071\u001b[0m \u001b[38;5;28;01mif\u001b[39;00m \u001b[38;5;129;01mnot\u001b[39;00m \u001b[38;5;28mself\u001b[39m\u001b[38;5;241m.\u001b[39m_allow_stdin:\n\u001b[0;32m   1072\u001b[0m     \u001b[38;5;28;01mraise\u001b[39;00m StdinNotImplementedError(\n\u001b[0;32m   1073\u001b[0m         \u001b[38;5;124m\"\u001b[39m\u001b[38;5;124mraw_input was called, but this frontend does not support input requests.\u001b[39m\u001b[38;5;124m\"\u001b[39m\n\u001b[0;32m   1074\u001b[0m     )\n\u001b[1;32m-> 1075\u001b[0m \u001b[38;5;28;01mreturn\u001b[39;00m \u001b[38;5;28;43mself\u001b[39;49m\u001b[38;5;241;43m.\u001b[39;49m\u001b[43m_input_request\u001b[49m\u001b[43m(\u001b[49m\n\u001b[0;32m   1076\u001b[0m \u001b[43m    \u001b[49m\u001b[38;5;28;43mstr\u001b[39;49m\u001b[43m(\u001b[49m\u001b[43mprompt\u001b[49m\u001b[43m)\u001b[49m\u001b[43m,\u001b[49m\n\u001b[0;32m   1077\u001b[0m \u001b[43m    \u001b[49m\u001b[38;5;28;43mself\u001b[39;49m\u001b[38;5;241;43m.\u001b[39;49m\u001b[43m_parent_ident\u001b[49m\u001b[43m[\u001b[49m\u001b[38;5;124;43m\"\u001b[39;49m\u001b[38;5;124;43mshell\u001b[39;49m\u001b[38;5;124;43m\"\u001b[39;49m\u001b[43m]\u001b[49m\u001b[43m,\u001b[49m\n\u001b[0;32m   1078\u001b[0m \u001b[43m    \u001b[49m\u001b[38;5;28;43mself\u001b[39;49m\u001b[38;5;241;43m.\u001b[39;49m\u001b[43mget_parent\u001b[49m\u001b[43m(\u001b[49m\u001b[38;5;124;43m\"\u001b[39;49m\u001b[38;5;124;43mshell\u001b[39;49m\u001b[38;5;124;43m\"\u001b[39;49m\u001b[43m)\u001b[49m\u001b[43m,\u001b[49m\n\u001b[0;32m   1079\u001b[0m \u001b[43m    \u001b[49m\u001b[43mpassword\u001b[49m\u001b[38;5;241;43m=\u001b[39;49m\u001b[38;5;28;43;01mFalse\u001b[39;49;00m\u001b[43m,\u001b[49m\n\u001b[0;32m   1080\u001b[0m \u001b[43m\u001b[49m\u001b[43m)\u001b[49m\n",
      "File \u001b[1;32m~\\AppData\\Local\\Programs\\Python\\Python310\\lib\\site-packages\\ipykernel\\kernelbase.py:1120\u001b[0m, in \u001b[0;36mKernel._input_request\u001b[1;34m(self, prompt, ident, parent, password)\u001b[0m\n\u001b[0;32m   1117\u001b[0m             \u001b[38;5;28;01mbreak\u001b[39;00m\n\u001b[0;32m   1118\u001b[0m \u001b[38;5;28;01mexcept\u001b[39;00m \u001b[38;5;167;01mKeyboardInterrupt\u001b[39;00m:\n\u001b[0;32m   1119\u001b[0m     \u001b[38;5;66;03m# re-raise KeyboardInterrupt, to truncate traceback\u001b[39;00m\n\u001b[1;32m-> 1120\u001b[0m     \u001b[38;5;28;01mraise\u001b[39;00m \u001b[38;5;167;01mKeyboardInterrupt\u001b[39;00m(\u001b[38;5;124m\"\u001b[39m\u001b[38;5;124mInterrupted by user\u001b[39m\u001b[38;5;124m\"\u001b[39m) \u001b[38;5;28;01mfrom\u001b[39;00m \u001b[38;5;28mNone\u001b[39m\n\u001b[0;32m   1121\u001b[0m \u001b[38;5;28;01mexcept\u001b[39;00m \u001b[38;5;167;01mException\u001b[39;00m:\n\u001b[0;32m   1122\u001b[0m     \u001b[38;5;28mself\u001b[39m\u001b[38;5;241m.\u001b[39mlog\u001b[38;5;241m.\u001b[39mwarning(\u001b[38;5;124m\"\u001b[39m\u001b[38;5;124mInvalid Message:\u001b[39m\u001b[38;5;124m\"\u001b[39m, exc_info\u001b[38;5;241m=\u001b[39m\u001b[38;5;28;01mTrue\u001b[39;00m)\n",
      "\u001b[1;31mKeyboardInterrupt\u001b[0m: Interrupted by user"
     ]
    }
   ],
   "source": [
    "# Exanole\n",
    "def add():\n",
    "    a = int(input(\"Enter The First Value :\"))\n",
    "    b = int(input(\"Enter The 2nd Value :\"))\n",
    "    sum = (a + b)\n",
    "    print(\"Sum :\",a+b)\n",
    "    return sum\n",
    "x = \"\"\n",
    "while x !=\"quit\":\n",
    "    x = add()\n",
    "    print(x)"
   ]
  },
  {
   "cell_type": "markdown",
   "id": "22206f1d",
   "metadata": {},
   "source": [
    "8. If a function does not have a return statement, what is the return value of a call to that function?"
   ]
  },
  {
   "cell_type": "markdown",
   "id": "e1e862a5",
   "metadata": {},
   "source": [
    "Ans. If there is no return statement for a function, its return value is None."
   ]
  },
  {
   "cell_type": "markdown",
   "id": "feceaf1d",
   "metadata": {},
   "source": [
    "9. How do you make a function variable refer to the global variable?"
   ]
  },
  {
   "cell_type": "markdown",
   "id": "e8d8ed5d",
   "metadata": {},
   "source": [
    "Ans. A global statement will force a variable in a function to refer to the global variable."
   ]
  },
  {
   "cell_type": "code",
   "execution_count": 49,
   "id": "e1f10ddd",
   "metadata": {},
   "outputs": [
    {
     "name": "stdout",
     "output_type": "stream",
     "text": [
      "25\n",
      "20\n"
     ]
    }
   ],
   "source": [
    "#xample\n",
    "z = 25 # global variable\n",
    "def myfunction():\n",
    "    global z\n",
    "    print(z)\n",
    "    z = 20 #assing new variable\n",
    "myfunction()\n",
    "print(z)"
   ]
  },
  {
   "cell_type": "markdown",
   "id": "3f0ba971",
   "metadata": {},
   "source": [
    "10. What is the data type of None?"
   ]
  },
  {
   "cell_type": "markdown",
   "id": "8923ea5d",
   "metadata": {},
   "source": [
    "Ans.The data type of None is NoneType."
   ]
  },
  {
   "cell_type": "markdown",
   "id": "38abafe2",
   "metadata": {},
   "source": [
    "11. What does the sentence import areallyourpetsnamederic do?"
   ]
  },
  {
   "cell_type": "markdown",
   "id": "8c1a3a73",
   "metadata": {},
   "source": [
    "Ans. That import statement imports a module named areallyourpetsnamederic. (This isn’t a real Python module, by the way.)\n"
   ]
  },
  {
   "cell_type": "markdown",
   "id": "6690632b",
   "metadata": {},
   "source": [
    "12. If you had a bacon() feature in a spam module, what would you call it after importing spam?"
   ]
  },
  {
   "cell_type": "markdown",
   "id": "4e419dc0",
   "metadata": {},
   "source": [
    "This function could be called with spam.bacon()."
   ]
  },
  {
   "cell_type": "markdown",
   "id": "e8f4f87f",
   "metadata": {},
   "source": [
    "13. What can you do to save a programme from crashing if it encounters an error?"
   ]
  },
  {
   "cell_type": "markdown",
   "id": "c94945ef",
   "metadata": {},
   "source": [
    "Ans. Place the line of code that might cause an error in a try clause."
   ]
  },
  {
   "cell_type": "markdown",
   "id": "ca86353f",
   "metadata": {},
   "source": [
    "14. What is the purpose of the try clause? What is the purpose of the except clause?\n",
    "\n"
   ]
  },
  {
   "cell_type": "markdown",
   "id": "cb0f5abb",
   "metadata": {},
   "source": [
    "Ans. The code that could potentially cause an error goes in the try clause.\n",
    "The code that executes if an error happens goes in the except clause."
   ]
  },
  {
   "cell_type": "code",
   "execution_count": null,
   "id": "1ae8ec47",
   "metadata": {},
   "outputs": [],
   "source": [
    "# Example\n",
    "try:\n",
    "    d = {\"name\":' Er.Mojammil',\"age\":\"22\"}\n",
    "    u = input(\"Enter The Key :\")\n",
    "    print(d[u])\n",
    "except KeyError:\n",
    "    print(\"You Enter Wrong Key : Key_Errror\")"
   ]
  },
  {
   "cell_type": "code",
   "execution_count": null,
   "id": "0f02df27",
   "metadata": {},
   "outputs": [],
   "source": []
  }
 ],
 "metadata": {
  "kernelspec": {
   "display_name": "Python 3 (ipykernel)",
   "language": "python",
   "name": "python3"
  },
  "language_info": {
   "codemirror_mode": {
    "name": "ipython",
    "version": 3
   },
   "file_extension": ".py",
   "mimetype": "text/x-python",
   "name": "python",
   "nbconvert_exporter": "python",
   "pygments_lexer": "ipython3",
   "version": "3.10.6"
  }
 },
 "nbformat": 4,
 "nbformat_minor": 5
}
