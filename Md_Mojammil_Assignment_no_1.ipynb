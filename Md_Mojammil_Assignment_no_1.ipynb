{
 "cells": [
  {
   "cell_type": "markdown",
   "id": "6f80b380",
   "metadata": {},
   "source": [
    "# 1. In the below elements which of them are values or an expression? eg:- values can be integer or string and expressions will be mathematical operator\n"
   ]
  },
  {
   "cell_type": "code",
   "execution_count": 26,
   "id": "c8365a64",
   "metadata": {},
   "outputs": [],
   "source": [
    "# '*' _multiplication expressinon it can be used as (7*4=28) \n",
    "#'hello'_this is string and can also be used a value in case of dictionary eg. {\"salutation\":\"hello\"}\n",
    "#'-87.8'_value\n",
    "#'-' _Subtraction Value\n",
    "#'/' _division_expression\n",
    "#'+'\t_addition expression\n",
    "#'6' _integer_value \"\"\""
   ]
  },
  {
   "cell_type": "markdown",
   "id": "782ffc25",
   "metadata": {},
   "source": [
    "# 2. What is the difference between string and variable?\n"
   ]
  },
  {
   "cell_type": "markdown",
   "id": "5980a212",
   "metadata": {},
   "source": [
    "Ans- string in python is a sequence of CHARACTER or simply a TEXT,which is enclosed with single QUOTES Or DOUBLE QUOTES.\n",
    "whereas,Variable is also known as identifier  and is used to store value. Variable may be a group of is letter and digit.\n",
    "eg.-"
   ]
  },
  {
   "cell_type": "code",
   "execution_count": 27,
   "id": "b25d7655",
   "metadata": {},
   "outputs": [
    {
     "name": "stdout",
     "output_type": "stream",
     "text": [
      "I Love Python Language because in python line of code is reduced and easy to understand\n",
      "<class 'str'> <class 'str'>\n",
      "<class 'str'>\n",
      "5\n"
     ]
    }
   ],
   "source": [
    "#string \n",
    "x = 'I Love Python Language' \n",
    "y = \"because in python line of code is reduced and easy to understand\"\n",
    "print(x,y)\n",
    "print(type(x),type(y))\n",
    "print(type(x + y))\n",
    "\n",
    "#variable\n",
    "a = 2 # here _a_is _variable\n",
    "b = 3\n",
    "c1 = a + b #here_c1_is_variable\n",
    "print(c1)"
   ]
  },
  {
   "cell_type": "markdown",
   "id": "9b7ec98d",
   "metadata": {},
   "source": [
    "# 3. Describe three different data types.\n",
    "\n",
    "Ans-Data types are the classification or categorization of data items.\n",
    "It represents the kind of value that tells what operations can be performed on a particular data\n",
    "The following are the standard or built-in data types in Python:\n",
    "\n",
    "1. Numeric data type -integer(1,2,3,),float(1.2,2.5,8.5),complex(3+2a,5+3j)\n",
    "\n",
    "2. Sequence data Type (\"String\"),[\"list\"],(\"tupple\",\"datatype\")\n",
    "\n",
    "3. Boolean data Type (Either as true and false)\n",
    "\n",
    "4. Set data Type  {'set','unordered','immutable'}\n",
    "\n",
    "5. Dictionary data Type {\"key_immutable\":\"values_mutable\",\"unordered\",\"\"}"
   ]
  },
  {
   "cell_type": "markdown",
   "id": "f84669bc",
   "metadata": {},
   "source": [
    "# 4. What is an expression made up of? What do all expressions do?\n",
    "\n",
    "Ans- Expression: An expression is a combination of operators, constants and variables.\n",
    "An expression may consist of one or more operands, and zero or more operators to produce a value\n",
    "\n",
    "eg. result = a/b*c+d-e \n",
    "\n",
    ".in the above expssion,\n",
    "\n",
    ".result__variable\n",
    "\n",
    ".a_b_c_d_e___operands\n",
    "\n",
    "./_*_+_-__expression\n"
   ]
  },
  {
   "cell_type": "markdown",
   "id": "26b170e2",
   "metadata": {},
   "source": [
    "# 5. This assignment statements, like spam = 10. What is the difference between an expression and a statement?\n",
    "\n",
    "Ans- Statements represent an action or command e.g print statements, assignment statements.\n",
    "     whereas, Expression is a combination of variables, operations and values that gives a result value.\n",
    "    \n",
    "    Here, \n",
    "    spam = 10 # this is assignment statements_here 10 is assign to variable_spam_"
   ]
  },
  {
   "cell_type": "markdown",
   "id": "8477682e",
   "metadata": {},
   "source": [
    "# 6. After running the following code, what does the variable bacon contain?\n",
    "bacon = 22\n",
    "bacon + 1\n",
    "\n",
    ".Ans is 22 because,\n",
    ".Here_bacon + 1_ in this code _=_sign is missing_bacon += 1"
   ]
  },
  {
   "cell_type": "markdown",
   "id": "6ae127b1",
   "metadata": {},
   "source": [
    "# 7. What should the values of the following two terms be?\n",
    "\n",
    "'spam' + 'spamspam'\n",
    "\n",
    "Ans-'spamspamspam'\n",
    "\n",
    "same as the above\n",
    "\n",
    "'spam' * 3\n",
    "\n",
    "Ans-'spamspamspam'\n"
   ]
  },
  {
   "cell_type": "markdown",
   "id": "bd230888",
   "metadata": {},
   "source": [
    "# 8. Why is eggs a valid variable name while 100 is invalid?\n",
    "\n",
    "Ans_because of certain limitation in python, that variable must start with Alphabet may be in lower case or in upper case, so that is why _egg_ is considered as a variable while 100 is invalid.\n",
    "\n"
   ]
  },
  {
   "cell_type": "markdown",
   "id": "f9b37434",
   "metadata": {},
   "source": [
    "# 9. What three functions can be used to get the integer, floating-point number, or string version of a value?\n",
    "\n",
    "ans - The int(), float(), and str() functions will evaluate to the \n",
    "integer,floating-point number, and string versions of the value passed to them\n"
   ]
  },
  {
   "cell_type": "markdown",
   "id": "2f3f3365",
   "metadata": {},
   "source": [
    "# 10. Why does this expression cause an error? How can you fix it?\n",
    "# 'I have eaten ' + 99 + ' burritos.'\n",
    ".Ans-The expression causes an error because 99 is an integer, \n",
    "and only strings can be concatenated to other strings with the + operator.\n",
    "The correct way is _ I have eaten ' + str(99) + ' burritos.'."
   ]
  },
  {
   "cell_type": "code",
   "execution_count": 43,
   "id": "65a9df08",
   "metadata": {},
   "outputs": [
    {
     "name": "stdout",
     "output_type": "stream",
     "text": [
      "I have eaten99burritos\n"
     ]
    },
    {
     "data": {
      "text/plain": [
       "'I have eaten 99 burritos'"
      ]
     },
     "execution_count": 43,
     "metadata": {},
     "output_type": "execute_result"
    }
   ],
   "source": [
    "print('I have eaten' + str(99) + 'burritos') # here i used print function\n",
    "# if want to put an space b/w the string we can do like this.\n",
    "'I have eaten' + str(\" 99 \") + 'burritos' #here without print function"
   ]
  },
  {
   "cell_type": "code",
   "execution_count": null,
   "id": "946138c4",
   "metadata": {},
   "outputs": [],
   "source": []
  }
 ],
 "metadata": {
  "kernelspec": {
   "display_name": "Python 3 (ipykernel)",
   "language": "python",
   "name": "python3"
  },
  "language_info": {
   "codemirror_mode": {
    "name": "ipython",
    "version": 3
   },
   "file_extension": ".py",
   "mimetype": "text/x-python",
   "name": "python",
   "nbconvert_exporter": "python",
   "pygments_lexer": "ipython3",
   "version": "3.10.6"
  }
 },
 "nbformat": 4,
 "nbformat_minor": 5
}
