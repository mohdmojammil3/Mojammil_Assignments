{
 "cells": [
  {
   "cell_type": "markdown",
   "id": "57f05105",
   "metadata": {},
   "source": [
    "# Q.1. What are keywords in python? Using the keyword library, print all the python keywords."
   ]
  },
  {
   "cell_type": "markdown",
   "id": "32046733",
   "metadata": {},
   "source": [
    "# Ans- Keywords in Python are reserved words that can not be used as a variable name, function name, or any other identifier."
   ]
  },
  {
   "cell_type": "code",
   "execution_count": 1,
   "id": "a27ea7cf",
   "metadata": {},
   "outputs": [
    {
     "name": "stdout",
     "output_type": "stream",
     "text": [
      "The list of keywords is : \n",
      "['False', 'None', 'True', 'and', 'as', 'assert', 'async', 'await', 'break', 'class', 'continue', 'def', 'del', 'elif', 'else', 'except', 'finally', 'for', 'from', 'global', 'if', 'import', 'in', 'is', 'lambda', 'nonlocal', 'not', 'or', 'pass', 'raise', 'return', 'try', 'while', 'with', 'yield']\n"
     ]
    }
   ],
   "source": [
    "# importing \"keyword\" for keyword operations\n",
    "import keyword\n",
    " \n",
    "# printing all keywords at once using \"kwlist()\"\n",
    "print(\"The list of keywords is : \")\n",
    "print(keyword.kwlist)"
   ]
  },
  {
   "cell_type": "markdown",
   "id": "212d09cc",
   "metadata": {},
   "source": [
    "# Q.2. What are the rules to create variables in python?"
   ]
  },
  {
   "cell_type": "markdown",
   "id": "9d9755a4",
   "metadata": {},
   "source": [
    "# Ans\n",
    "# Rules for Python variables:\n",
    "\n",
    "# A variable name must start with a letter or the underscore character\n",
    "# A variable name cannot start with a number\n",
    "# A variable name can only contain alpha-numeric characters and underscores (A-z, 0-9, and _ )\n",
    "# Variable names are case-sensitive (age, Age and AGE are three different variables)"
   ]
  },
  {
   "cell_type": "code",
   "execution_count": null,
   "id": "460b3916",
   "metadata": {},
   "outputs": [],
   "source": [
    "#Legal variable names:\n",
    "myvar = \"John\"\n",
    "my_var = \"John\"\n",
    "_my_var = \"John\"\n",
    "myVar = \"John\"\n",
    "MYVAR = \"John\"\n",
    "myvar2 = \"John\"\n",
    "\n",
    "#Illegal variable names:\n",
    "2myvar = \"John\"\n",
    "my-var = \"John\"\n",
    "my var = \"John\""
   ]
  },
  {
   "cell_type": "markdown",
   "id": "37baca03",
   "metadata": {},
   "source": [
    "# Q.3. What are the standards and conventions followed for the nomenclature of variables in python to improve code readability and maintainability?"
   ]
  },
  {
   "cell_type": "markdown",
   "id": "53b4226e",
   "metadata": {},
   "source": [
    "# Ans- Use grammatically correct variable names, the class name should start with an uppercase and must follow camelCase convention If more than two words are to be used. In the same way, a function name should be joined with an underscore, and it must be lowercase. In method arguments, always use self as the first argument to declare an instance variable. In the same way, use ‘cls’ for the first argument for the class method. If the function name clashes with a reserved argument, use an underscore instead of a wrong spelling. Constants are declared in all capital letters."
   ]
  },
  {
   "cell_type": "code",
   "execution_count": 18,
   "id": "f77d57a8",
   "metadata": {},
   "outputs": [
    {
     "name": "stdout",
     "output_type": "stream",
     "text": [
      "Name : Mojammil\n",
      "age : 23\n"
     ]
    }
   ],
   "source": [
    "class Myclass:\n",
    "    def __init__(self,name,age):\n",
    "        self.name = name\n",
    "        self.age = age\n",
    "    def myfunction(self):\n",
    "        print(\"my name is :\",+self.name)\n",
    "m = Myclass(\"Mojammil\",20)\n",
    "\n",
    "m.name\n",
    "#changing the age using object\n",
    "m.age = 23\n",
    "print(\"Name :\",m.name)\n",
    "print(\"age :\",m.age)\n"
   ]
  },
  {
   "cell_type": "markdown",
   "id": "92a10bf5",
   "metadata": {},
   "source": [
    "# Q.4. What will happen if a keyword is used as a variable name?"
   ]
  },
  {
   "cell_type": "markdown",
   "id": "07933795",
   "metadata": {},
   "source": [
    "# Ans If keywords were allowed as variable names, it would be very hard to tell (for the developers and the compilers) whether something was a variable or a keyword."
   ]
  },
  {
   "cell_type": "markdown",
   "id": "9e421fc8",
   "metadata": {},
   "source": [
    "# Q.5. For what purpose def keyword is used?"
   ]
  },
  {
   "cell_type": "markdown",
   "id": "f9cd73a8",
   "metadata": {},
   "source": [
    "# Ans- Python def keyword is used to define a function, it is placed before a function name that is provided by the user to create a user-defined function. In Python, a function is a logical unit of code containing a sequence of statements indented under a name given using the “def” keyword."
   ]
  },
  {
   "cell_type": "markdown",
   "id": "cda044bf",
   "metadata": {},
   "source": [
    "# Q.6. What is the operation of this special character ‘\\’?"
   ]
  },
  {
   "cell_type": "markdown",
   "id": "0e9a7b01",
   "metadata": {},
   "source": [
    "# Ans- In Python strings, the backslash (\" \\ \" )is a special character, also called the \"escape\" character. It is used in representing certain whitespace characters: \"\\t\" is a tab, \"\\n\" is a newline, and \"\\r\" is a carriage return."
   ]
  },
  {
   "cell_type": "markdown",
   "id": "0d739437",
   "metadata": {},
   "source": [
    "# Q.7. Give an example of the following conditions:\n",
    "# (i) Homogeneous list\n",
    "# (ii) Heterogeneous set\n",
    "# (iii) Homogeneous tuple"
   ]
  },
  {
   "cell_type": "code",
   "execution_count": null,
   "id": "5e8f6a1c",
   "metadata": {},
   "outputs": [],
   "source": [
    "# Homogeneous list\n",
    "# list of integers =  [1, 2, 3, 8, 33]\n",
    "# list of animals = ['dog', 'cat', 'goat']\n",
    "\n",
    "# Heterogeneous set\n",
    "# sets of integers = {1,1.2,3,3.5}\n",
    "# sets of Heterogeneous creatures = {'Eagle','Crow','Dog','Elephant','Lion'}\n",
    "\n",
    "# Homogeneous tuple\n",
    "# integers Homogeneous tuple = (1,2,3,4)\n",
    "# animals Homogeneous tuple = ('dog', 'cat', 'goat')"
   ]
  },
  {
   "cell_type": "markdown",
   "id": "8d34eccd",
   "metadata": {},
   "source": [
    "# Q.8. Explain the mutable and immutable data types with proper explanation & examples."
   ]
  },
  {
   "cell_type": "markdown",
   "id": "55ca7345",
   "metadata": {},
   "source": [
    "# List in Python\n",
    "# A list data structure is a ordered sequence of elements in Python, that is mutable, or changeable. This is because we can change the value of a list in Python by assigning a new value to our already existing list. We need not create any separate (or new) copy of the list to perform these operations. A few examples for the same are given below"
   ]
  },
  {
   "cell_type": "code",
   "execution_count": 46,
   "id": "57aa6758",
   "metadata": {},
   "outputs": [
    {
     "name": "stdout",
     "output_type": "stream",
     "text": [
      "List after appending a value =  [1, 2, 3, 4, 5, 10]\n",
      "List after extending a list =  [1, 2, 3, 4, 5, 10, 6, 11, 23]\n",
      "List after removing a value =  [1, 2, 4, 5, 10, 6, 11, 23]\n"
     ]
    }
   ],
   "source": [
    "# example to demonstrate list is a mutable data type in python\n",
    "\n",
    "# our current list\n",
    "my_list = [1,2,3,4,5]\n",
    "\n",
    "# using append operation in our list\n",
    "my_list.append(10)\n",
    "# printing our list after the operation\n",
    "print(\"List after appending a value = \",my_list)\n",
    "\n",
    "# using extend operation in our list\n",
    "my_list.extend([6,11,23])\n",
    "# printing our list after the operation\n",
    "print(\"List after extending a list = \",my_list)\n",
    "\n",
    "# after removing a value from our list\n",
    "my_list.remove(3)\n",
    "# printing our list after the operation\n",
    "print(\"List after removing a value = \",my_list)\n"
   ]
  },
  {
   "cell_type": "markdown",
   "id": "64ed7c48",
   "metadata": {},
   "source": [
    "# A set is an unordered collection of items in Python. All the elements of the set are unique in nature, that is, there are no duplicates in a set. Also, the elements of the set are immutable in nature, that is, they cannot be changed.\n",
    "\n",
    "# However, a set itself is mutable in Python. That means, we can add or remove elements from a set in Python. Hence, we can perform operations in a set that can modify the overall set."
   ]
  },
  {
   "cell_type": "code",
   "execution_count": 48,
   "id": "8d9519a9",
   "metadata": {},
   "outputs": [
    {
     "name": "stdout",
     "output_type": "stream",
     "text": [
      "Set after adding a value :  {16, 1, 2, 5, 6, 7, 11}\n",
      "Set after updating some values :  {1, 2, 5, 6, 7, 9, 11, 78, 16, 100}\n",
      "Set after removing a value :  {1, 5, 6, 7, 9, 11, 78, 16, 100}\n"
     ]
    }
   ],
   "source": [
    "# example to demonstrate \n",
    "# set is a mutable data type in python\n",
    "\n",
    "# our current set\n",
    "my_set = {1,2,6,5,7,11}\n",
    "\n",
    "# adding an element in our set\n",
    "my_set.add(16)\n",
    "# printing our set after the operation\n",
    "print(\"Set after adding a value : \",my_set)\n",
    "\n",
    "# adding multiple elements in our set\n",
    "# multiple elements (such as a list) can be added using update\n",
    "my_set.update([9,78,100])\n",
    "# printing our set after the operation\n",
    "print(\"Set after updating some values : \",my_set)\n",
    "\n",
    "# removing element from our set\n",
    "my_set.remove(2)\n",
    "# printing our set after the operation\n",
    "print(\"Set after removing a value : \",my_set)\n",
    "\n"
   ]
  },
  {
   "cell_type": "code",
   "execution_count": null,
   "id": "02a6ed60",
   "metadata": {},
   "outputs": [],
   "source": [
    "# Q.9. Write a code to create the given structure using only for loop.\n",
    "# *\n",
    "\n",
    "# ***\n",
    "\n",
    "# *****\n",
    "\n",
    "# *******\n",
    "\n",
    "# *********"
   ]
  },
  {
   "cell_type": "code",
   "execution_count": 44,
   "id": "60de375e",
   "metadata": {},
   "outputs": [
    {
     "name": "stdout",
     "output_type": "stream",
     "text": [
      "* \n",
      "\n",
      "* * * \n",
      "\n",
      "* * * * * \n",
      "\n",
      "* * * * * * * \n",
      "\n",
      "* * * * * * * * * \n",
      "\n"
     ]
    }
   ],
   "source": [
    "for i in range (1,10,2):\n",
    "    for j in range (i):\n",
    "        print(\"*\",end=\" \")\n",
    "    print(\"\\n\")"
   ]
  },
  {
   "cell_type": "markdown",
   "id": "a23d688f",
   "metadata": {},
   "source": [
    "# Q.10. Write a code to create the given structure using while loop.\n",
    "# |||||||||\n",
    "# |||||||\n",
    "# |||||\n",
    "# |||\n",
    "# |"
   ]
  },
  {
   "cell_type": "code",
   "execution_count": 45,
   "id": "7f60f583",
   "metadata": {},
   "outputs": [
    {
     "name": "stdout",
     "output_type": "stream",
     "text": [
      "| | | | | | | | | \n",
      "\n",
      "| | | | | | | \n",
      "\n",
      "| | | | | \n",
      "\n",
      "| | | \n",
      "\n",
      "| \n",
      "\n"
     ]
    }
   ],
   "source": [
    "for i in range (9,0,-2):\n",
    "    for j in range (i):\n",
    "        print(\"|\",end=\" \")\n",
    "    print(\"\\n\")"
   ]
  }
 ],
 "metadata": {
  "kernelspec": {
   "display_name": "Python 3 (ipykernel)",
   "language": "python",
   "name": "python3"
  },
  "language_info": {
   "codemirror_mode": {
    "name": "ipython",
    "version": 3
   },
   "file_extension": ".py",
   "mimetype": "text/x-python",
   "name": "python",
   "nbconvert_exporter": "python",
   "pygments_lexer": "ipython3",
   "version": "3.10.6"
  }
 },
 "nbformat": 4,
 "nbformat_minor": 5
}
