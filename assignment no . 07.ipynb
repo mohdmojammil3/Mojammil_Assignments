{
 "cells": [
  {
   "cell_type": "markdown",
   "id": "4ff63258",
   "metadata": {},
   "source": [
    "# Q.1. Create two int type variables, apply addition, subtraction, division and multiplications\n",
    "# and store the results in variables. Then print the data in the following format by calling the\n",
    "# variables:\n",
    "# First variable is __ & second variable is __.\n",
    "# Addition: __ + __ = __\n",
    "# Subtraction: __ - __ = __\n",
    "# Multiplication: __ * __ = __\n",
    "# Division: __ / __ = __"
   ]
  },
  {
   "cell_type": "code",
   "execution_count": 16,
   "id": "e379dc3b",
   "metadata": {},
   "outputs": [
    {
     "name": "stdout",
     "output_type": "stream",
     "text": [
      "Select operation.\n",
      "1. Addition: __ + __ = __\n",
      "2.Subtraction: __ - __ = __\n",
      "3.Multiplication: __ * __ = __\n",
      "4.Division: __ / __ = __\n",
      "Enter choice(1/2/3/4): 1\n",
      "Enter First variable  : 5\n",
      "Enter Second variable : 5\n",
      " Addition: 5.0 + 5.0 = 10.0\n",
      "Let's do next calculation? (yes/no): no\n"
     ]
    }
   ],
   "source": [
    "def add(a,b):\n",
    "    return a+b\n",
    "\n",
    "def sub(a,b):\n",
    "    return a-b\n",
    "\n",
    "def mul(a,b):\n",
    "    return a*b\n",
    "\n",
    "def div(a,b):\n",
    "    return a/b\n",
    "\n",
    "print(\"Select operation.\")\n",
    "print(\"1. Addition: __ + __ = __\")\n",
    "print(\"2.Subtraction: __ - __ = __\")\n",
    "print(\"3.Multiplication: __ * __ = __\")\n",
    "print(\"4.Division: __ / __ = __\")\n",
    "\n",
    "while True:\n",
    "    # take input from the user\n",
    "    choice = input(\"Enter choice(1/2/3/4): \")\n",
    "    \n",
    " # check if choice is one of the four options\n",
    "    if choice in ('1', '2', '3', '4'):\n",
    "        try:\n",
    "            a = float(input(\"Enter First variable  : \"))\n",
    "            b = float(input(\"Enter Second variable : \"))\n",
    "        except ValueError:\n",
    "            print(\"Invalid input. Please enter a number.\")\n",
    "            continue\n",
    "\n",
    "        if choice == '1':\n",
    "            print(\" Addition:\",a,\"+\",b,\"=\",add(a,b))\n",
    "\n",
    "        elif choice == '2':\n",
    "            print(\"Subtraction:\",a,\"-\",b,\"=\",sub(a,b))\n",
    "\n",
    "        elif choice == '3':\n",
    "            print(\"Multiplication:\",a,\"*\",b,\"=\",mul(a,b))\n",
    "\n",
    "        elif choice == '4':\n",
    "            print(\"Division: \",a,\"/\",b,\"=\",div(a,b))\n",
    "        \n",
    "        # check if user wants another calculation\n",
    "        # break the while loop if answer is no\n",
    "        next_calculation = input(\"Let's do next calculation? (yes/no): \")\n",
    "        next_calculation = next_calculation.lower()\n",
    "        if next_calculation == \"no\":\n",
    "          break\n",
    "    else:\n",
    "        print(\"Invalid Input\") "
   ]
  },
  {
   "cell_type": "markdown",
   "id": "588f793b",
   "metadata": {},
   "source": [
    "# Q.2. What is the difference between the following operators:\n",
    "# (i) ‘/’ & ‘//’\n",
    "# (ii) ‘**’ & ‘^’"
   ]
  },
  {
   "cell_type": "markdown",
   "id": "2cafc4e4",
   "metadata": {},
   "source": [
    "# Ans- (i) ‘/’ -Division\n",
    "# & ‘//’ -floor division\n",
    "\n",
    "# (ii) ‘**’ - Airthmetic exponential operator\n",
    "# & ‘^’ - Bitwise (xor) operator"
   ]
  },
  {
   "cell_type": "code",
   "execution_count": 37,
   "id": "067d20e6",
   "metadata": {},
   "outputs": [
    {
     "name": "stdout",
     "output_type": "stream",
     "text": [
      "Division : 10 / 2 = 5.0\n",
      "Floor Division : 10 // 2 = 5\n",
      "Airthmetic exponential operator : 10 ** 2 = 100\n",
      "Bitwise (xor) operator 10 ^ 2 = 8\n"
     ]
    }
   ],
   "source": [
    "x = 10\n",
    "y = 2\n",
    "z = x/y\n",
    "zf = x//y\n",
    "ze = x**y\n",
    "zb = x^y\n",
    "print(\"Division :\",x,\"/\",y,\"=\",z)\n",
    "print(\"Floor Division :\",x,\"//\",y,\"=\",zf)\n",
    "print(\"Airthmetic exponential operator :\",x,\"**\",y,\"=\",ze)\n",
    "print(\"Bitwise (xor) operator\",x,\"^\",y,\"=\",zb)\n",
    "\n"
   ]
  },
  {
   "cell_type": "code",
   "execution_count": 35,
   "id": "926ceadd",
   "metadata": {},
   "outputs": [
    {
     "name": "stdout",
     "output_type": "stream",
     "text": [
      "5\n"
     ]
    }
   ],
   "source": [
    "x = 6\n",
    "x = x ^ 3\n",
    "print(x)"
   ]
  },
  {
   "cell_type": "markdown",
   "id": "e81c900b",
   "metadata": {},
   "source": [
    "# Q.3. List the logical operators."
   ]
  },
  {
   "cell_type": "code",
   "execution_count": null,
   "id": "cc1a1440",
   "metadata": {},
   "outputs": [],
   "source": [
    "x = True \n",
    "y = False\n",
    "z = True\n",
    "print(x and y,x and z) # applying \"and\" operatorb T+T=T, T+F=F\n",
    "print(x or y, x or z) # applying \"or\" operator T+F=T, T+T=T\n",
    "print( not x) # applying \"not\" operator i.e False if operands are true\n",
    "print( not y) # applying \"not\" operator i.e True if operands are false"
   ]
  },
  {
   "cell_type": "markdown",
   "id": "fddb7644",
   "metadata": {},
   "source": [
    "# Q.4. Explain right shift operator and left shift operator with examples."
   ]
  },
  {
   "cell_type": "markdown",
   "id": "67ee8e35",
   "metadata": {},
   "source": [
    "# Bitwise right shift: Shifts the bits of the number to the right and fills 0 on voids left( fills 1 in the case of a negative number) as a result. Similar effect as of dividing the number with some power of two."
   ]
  },
  {
   "cell_type": "markdown",
   "id": "62bba939",
   "metadata": {},
   "source": [
    "# Bitwise left shift: Shifts the bits of the number to the left and fills 0 on voids right as a result. Similar effect as of multiplying the number with some power of two."
   ]
  },
  {
   "cell_type": "code",
   "execution_count": 48,
   "id": "3b44cfaa",
   "metadata": {},
   "outputs": [
    {
     "name": "stdout",
     "output_type": "stream",
     "text": [
      "a >> 1 = 5\n",
      "b >> 1 = -5\n",
      "a << 1 = 10\n",
      "b << 1 = -20\n"
     ]
    }
   ],
   "source": [
    "# Python program to show\n",
    "# shift operators\n",
    " \n",
    "a = 10\n",
    "b = -10\n",
    " \n",
    "# print bitwise right shift operator\n",
    "print(\"a >> 1 =\", a >> 1)\n",
    "print(\"b >> 1 =\", b >> 1)\n",
    " \n",
    "a = 5\n",
    "b = -10\n",
    " \n",
    "# print bitwise left shift operator\n",
    "print(\"a << 1 =\", a << 1)\n",
    "print(\"b << 1 =\", b << 1)"
   ]
  },
  {
   "cell_type": "markdown",
   "id": "79da2c62",
   "metadata": {},
   "source": [
    "# Q.5. Create a list containing int type data of length 15. Then write a code to check if 10 is present in the list or not."
   ]
  },
  {
   "cell_type": "code",
   "execution_count": 54,
   "id": "8eeeec36",
   "metadata": {},
   "outputs": [
    {
     "name": "stdout",
     "output_type": "stream",
     "text": [
      "exist : 10\n"
     ]
    }
   ],
   "source": [
    "# python code to Check if element exists in list or not\n",
    " \n",
    "lst=[ 1,2,3,4,5,6,7,8,9,10,11,12,13,14,15 ]\n",
    "#checking if element 10 is present\n",
    "# in the given list or not\n",
    "i=10\n",
    "# if element present then return\n",
    "# exist otherwise not exist\n",
    "if i in lst:\n",
    "    print(\"exist\",\":\",i)\n",
    "else:\n",
    "    print(\"not exist\")\n"
   ]
  },
  {
   "cell_type": "code",
   "execution_count": null,
   "id": "bbdbd1df",
   "metadata": {},
   "outputs": [],
   "source": []
  }
 ],
 "metadata": {
  "kernelspec": {
   "display_name": "Python 3 (ipykernel)",
   "language": "python",
   "name": "python3"
  },
  "language_info": {
   "codemirror_mode": {
    "name": "ipython",
    "version": 3
   },
   "file_extension": ".py",
   "mimetype": "text/x-python",
   "name": "python",
   "nbconvert_exporter": "python",
   "pygments_lexer": "ipython3",
   "version": "3.10.6"
  }
 },
 "nbformat": 4,
 "nbformat_minor": 5
}
