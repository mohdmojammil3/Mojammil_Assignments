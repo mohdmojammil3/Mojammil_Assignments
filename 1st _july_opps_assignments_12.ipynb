{
 "cells": [
  {
   "cell_type": "markdown",
   "id": "6eeccd46",
   "metadata": {},
   "source": [
    "# 1. What is the primary goal of Object-Oriented Programming (OOP)?\n"
   ]
  },
  {
   "cell_type": "markdown",
   "id": "cb9ffbf3",
   "metadata": {},
   "source": [
    "# Ans-The primary goal of Object-Oriented Programming (OOP) is to model real-world entities and their interactions in a way that promotes modularity, reusability, and maintainability of code. It is a programming paradigm that organizes data and code into objects, which are instances of classes. Each class represents a blueprint or template that defines the attributes (data) and behaviors (methods) of the objects.\n",
    "\n",
    "# The main objectives of OOP include:\n",
    "\n",
    "# 1. Encapsulation: OOP allows data and methods that operate on the data to be bundled together within a single unit called an object. This concept of bundling data and methods is known as encapsulation. It helps in hiding the internal implementation details of an object from the outside world, promoting data security and ensuring that changes to the internal representation of an object do not affect other parts of the code.\n",
    "\n",
    "# 2. Abstraction: Abstraction enables programmers to define the essential characteristics of an object while hiding the irrelevant details. It allows you to focus on what an object does rather than how it does it, making the code more manageable and easier to understand.\n",
    "\n",
    "# 3. Inheritance: Inheritance is a mechanism that allows one class (subclass or derived class) to inherit properties and behaviors from another class (superclass or base class). This promotes code reuse, as common attributes and methods can be defined in a superclass and utilized by multiple subclasses.\n",
    "\n",
    "# 4. Polymorphism: Polymorphism allows objects of different classes to be treated as objects of a common superclass. It allows methods to be written to handle objects of a generic type, which can then be used to handle objects of specific types during runtime. This enables flexible and extensible code.\n",
    "\n",
    "# Overall, OOP aims to create a structured and organized approach to software development, making it easier to design, develop, and maintain complex applications by breaking them down into smaller, more manageable objects with clear relationships and behaviors."
   ]
  },
  {
   "cell_type": "markdown",
   "id": "4423013d",
   "metadata": {},
   "source": [
    "# 2. What is an object in Python?\n"
   ]
  },
  {
   "cell_type": "markdown",
   "id": "fe69e121",
   "metadata": {},
   "source": [
    "# An object in Python is a data structure that combines data (attributes) and functions (methods) that operate on that data. Everything in Python is an object, including built-in types, user-defined classes, functions, and modules. Objects are created from classes, which serve as blueprints or templates for defining their attributes and behaviors. Each object has a unique identity, a type that determines its behavior, and can be accessed using dot notation for attributes and methods. Python's object-oriented nature allows for structured, modular, and reusable code design."
   ]
  },
  {
   "cell_type": "code",
   "execution_count": 4,
   "id": "9aa84c65",
   "metadata": {},
   "outputs": [
    {
     "name": "stdout",
     "output_type": "stream",
     "text": [
      "Krish Naiak\n",
      "32\n",
      "Mojammil\n",
      "24\n",
      "Hello, my name is Krish Naiak and I am 32 years old.\n",
      "Hello, my name is Mojammil and I am 24 years old.\n"
     ]
    }
   ],
   "source": [
    "class Person:\n",
    "    def __init__(self, name, age):\n",
    "        self.name = name\n",
    "        self.age = age\n",
    "\n",
    "    def greet(self):\n",
    "        return f\"Hello, my name is {self.name} and I am {self.age} years old.\"\n",
    "\n",
    "    # Creating two Person objects\n",
    "person1 = Person(\"Krish Naiak\", 32)\n",
    "person2 = Person(\"Mojammil\", 24)\n",
    "\n",
    "# Accessing attributes\n",
    "print(person1.name)  # Output: \"Krish Naiak\"\n",
    "print(person1.age)   # Output: 24\n",
    "print(person2.name) # output: \"Mojammil\"\n",
    "print(person2.age)  # output: 24\n",
    "\n",
    "# Calling methods\n",
    "print(person1.greet())  # Output: \"Hello, my name is Alice and I am 30 years old.\"\n",
    "print(person2.greet())  # Output: \"Hello, my name is Bob and I am 25 years old.\"\n"
   ]
  },
  {
   "cell_type": "markdown",
   "id": "36a8f8b8",
   "metadata": {},
   "source": [
    "# 3. What is a class in Python?\n"
   ]
  },
  {
   "cell_type": "markdown",
   "id": "6ce91221",
   "metadata": {},
   "source": [
    "# Ans- In Python, a class is a blueprint for creating objects. It defines the structure and behavior that objects of that class will have. A class encapsulates data (attributes) and functions (methods) that operate on that data. It allows you to create multiple instances (objects) of the same type with consistent properties and behaviors. Classes are essential for implementing object-oriented programming concepts and promoting code reusability and organization."
   ]
  },
  {
   "cell_type": "code",
   "execution_count": 5,
   "id": "0a0a5a99",
   "metadata": {},
   "outputs": [
    {
     "name": "stdout",
     "output_type": "stream",
     "text": [
      "Buddy\n",
      "2\n",
      "Woof!\n",
      "Woof!\n"
     ]
    }
   ],
   "source": [
    "class Dog: # this is class code\n",
    "    def __init__(self, name, age):\n",
    "        self.name = name\n",
    "        self.age = age\n",
    "\n",
    "    def bark(self):\n",
    "        return \"Woof!\"\n",
    "# Creating two Dog objects\n",
    "dog1 = Dog(\"Buddy\", 3)\n",
    "dog2 = Dog(\"Max\", 2)\n",
    "\n",
    "# Accessing attributes\n",
    "print(dog1.name)  # Output: \"Buddy\"\n",
    "print(dog2.age)   # Output: 2\n",
    "\n",
    "# Calling methods\n",
    "print(dog1.bark())  # Output: \"Woof!\"\n",
    "print(dog2.bark())  # Output: \"Woof!\"\n"
   ]
  },
  {
   "cell_type": "markdown",
   "id": "f3bf6e8e",
   "metadata": {},
   "source": [
    "# In the above example, Dog is a class. It has two attributes (name and age) and a method (bark). The __init__ method is a special method called the constructor, which gets executed when a new object of the class is created. It is used to initialize the object's attributes."
   ]
  },
  {
   "cell_type": "markdown",
   "id": "cda75883",
   "metadata": {},
   "source": [
    "# 4. What are attributes and methods in a class?\n"
   ]
  },
  {
   "cell_type": "markdown",
   "id": "e456f9c7",
   "metadata": {},
   "source": [
    "# In a class, attributes and methods are two fundamental components that define the behavior and characteristics of objects created from that class.\n",
    "\n",
    "# Attributes: Attributes are variables that store data associated with the objects of the class. They represent the object's state and are used to hold information specific to each object instance. Attributes can be accessed and modified using dot notation, and their values can differ between different objects of the same class. Attributes define the object's properties."
   ]
  },
  {
   "cell_type": "code",
   "execution_count": 6,
   "id": "143e86af",
   "metadata": {},
   "outputs": [
    {
     "name": "stdout",
     "output_type": "stream",
     "text": [
      "Toyota\n",
      "Camry\n",
      "2022\n"
     ]
    }
   ],
   "source": [
    "class Car:\n",
    "    def __init__(self, make, model, year):\n",
    "        self.make = make\n",
    "        self.model = model\n",
    "        self.year = year\n",
    "\n",
    "# Creating a Car object\n",
    "my_car = Car(\"Toyota\", \"Camry\", 2022)\n",
    "\n",
    "# Accessing attributes\n",
    "print(my_car.make)   # Output: \"Toyota\"\n",
    "print(my_car.model)  # Output: \"Camry\"\n",
    "print(my_car.year)   # Output: 2022\n"
   ]
  },
  {
   "cell_type": "markdown",
   "id": "5cbcbd5d",
   "metadata": {},
   "source": [
    "# Methods: Methods are functions defined within the class that operate on the object's attributes or perform specific actions related to the class. They define the object's behavior or actions that can be performed on it. Methods are accessed using dot notation and can access and modify the object's attributes or perform other operations on the object's data."
   ]
  },
  {
   "cell_type": "code",
   "execution_count": 7,
   "id": "577b5f15",
   "metadata": {},
   "outputs": [
    {
     "name": "stdout",
     "output_type": "stream",
     "text": [
      "Woof!\n",
      "21\n"
     ]
    }
   ],
   "source": [
    "class Dog:\n",
    "    def __init__(self, name, age):\n",
    "        self.name = name\n",
    "        self.age = age\n",
    "\n",
    "    def bark(self):\n",
    "        return \"Woof!\"\n",
    "\n",
    "    def age_in_human_years(self):\n",
    "        return self.age * 7\n",
    "\n",
    "# Creating a Dog object\n",
    "my_dog = Dog(\"Buddy\", 3)\n",
    "\n",
    "# Calling methods\n",
    "print(my_dog.bark())              # Output: \"Woof!\"\n",
    "print(my_dog.age_in_human_years())  # Output: 21\n"
   ]
  },
  {
   "cell_type": "markdown",
   "id": "bce333ef",
   "metadata": {},
   "source": [
    "# 5. What is the difference between class variables and instance variables in Python?\n"
   ]
  },
  {
   "cell_type": "markdown",
   "id": "0d291db2",
   "metadata": {},
   "source": [
    "# In Python, class variables and instance variables are two types of variables that are used within classes but have different scopes and purposes."
   ]
  },
  {
   "cell_type": "markdown",
   "id": "34bceb82",
   "metadata": {},
   "source": [
    "# Class Variables:\n",
    "\n",
    "# 1.Shared among all instances of a class.\n",
    "# 2.Defined at the class level, outside of any method.\n",
    "# 3.Same value for all instances of the class.\n",
    "# 4.Accessed using the class name or an instance of the class.\n",
    "# 5.Changes to the class variable affect all instances of the class."
   ]
  },
  {
   "cell_type": "code",
   "execution_count": 9,
   "id": "b33a3de3",
   "metadata": {},
   "outputs": [
    {
     "name": "stdout",
     "output_type": "stream",
     "text": [
      "0\n",
      "0\n",
      "0\n",
      "10\n",
      "0\n",
      "10\n",
      "5\n"
     ]
    }
   ],
   "source": [
    "class MyClass:\n",
    "    class_variable = 0\n",
    "\n",
    "    def __init__(self, instance_variable):\n",
    "        self.instance_variable = instance_variable\n",
    "\n",
    "# Accessing class variable\n",
    "print(MyClass.class_variable)  # Output: 0\n",
    "\n",
    "# Creating two instances\n",
    "obj1 = MyClass(1)\n",
    "obj2 = MyClass(2)\n",
    "\n",
    "# Accessing class variable through instances\n",
    "print(obj1.class_variable)     # Output: 0\n",
    "print(obj2.class_variable)     # Output: 0\n",
    "\n",
    "# Changing class variable through any instance will affect all instances\n",
    "obj1.class_variable = 10\n",
    "print(obj1.class_variable)     # Output: 10\n",
    "print(obj2.class_variable)     # Output: 0 (class variable for obj2 remains unchanged)\n",
    "\n",
    "# Changing the class variable using the class name affects all instances\n",
    "MyClass.class_variable = 5\n",
    "print(obj1.class_variable)     # Output: 10 (obj1 still has its own instance variable)\n",
    "print(obj2.class_variable)     # Output: 5 (class variable for obj2 and all other instances changes)\n"
   ]
  },
  {
   "cell_type": "markdown",
   "id": "de63ab05",
   "metadata": {},
   "source": [
    "# Instance Variables:\n",
    "\n",
    "# 1.Specific to each instance of a class.\n",
    "# 2.Defined within the class's methods, prefixed with self..\n",
    "# 3.Holds data unique to each object created from the class.\n",
    "# 4.Accessed and modified using self keyword inside the class's methods.\n",
    "# 5.Each instance has its own separate copy of instance variables."
   ]
  },
  {
   "cell_type": "code",
   "execution_count": 10,
   "id": "157f38fb",
   "metadata": {},
   "outputs": [
    {
     "name": "stdout",
     "output_type": "stream",
     "text": [
      "1\n",
      "2\n",
      "10\n",
      "20\n"
     ]
    }
   ],
   "source": [
    "class MyClass:\n",
    "    def __init__(self, instance_variable):\n",
    "        self.instance_variable = instance_variable\n",
    "\n",
    "# Creating two instances\n",
    "obj1 = MyClass(1)\n",
    "obj2 = MyClass(2)\n",
    "\n",
    "# Accessing instance variables\n",
    "print(obj1.instance_variable)  # Output: 1\n",
    "print(obj2.instance_variable)  # Output: 2\n",
    "\n",
    "# Modifying instance variables\n",
    "obj1.instance_variable = 10\n",
    "obj2.instance_variable = 20\n",
    "\n",
    "print(obj1.instance_variable)  # Output: 10\n",
    "print(obj2.instance_variable)  # Output: 20\n"
   ]
  },
  {
   "cell_type": "markdown",
   "id": "53968145",
   "metadata": {},
   "source": [
    "# 6. What is the purpose of the self parameter in Python class methods?\n"
   ]
  },
  {
   "cell_type": "markdown",
   "id": "9299ae85",
   "metadata": {},
   "source": [
    "# Ans-In Python class methods, the self parameter refers to the instance of the class itself. It allows methods to access and modify the object's attributes and call other methods. By convention, self is the first parameter in every instance method, and it helps ensure that each object maintains its own unique data and behavior."
   ]
  },
  {
   "cell_type": "code",
   "execution_count": 11,
   "id": "0a6f1090",
   "metadata": {},
   "outputs": [
    {
     "name": "stdout",
     "output_type": "stream",
     "text": [
      "15\n"
     ]
    }
   ],
   "source": [
    "class MyClass:\n",
    "    def __init__(self, x):\n",
    "        self.x = x\n",
    "\n",
    "    def add_to_x(self, value):\n",
    "        self.x += value\n",
    "\n",
    "    def print_x(self):\n",
    "        print(self.x)\n",
    "\n",
    "# Creating an instance of MyClass\n",
    "obj = MyClass(10)\n",
    "\n",
    "# Calling methods on the instance\n",
    "obj.add_to_x(5)\n",
    "obj.print_x()  # Output: 15"
   ]
  },
  {
   "cell_type": "markdown",
   "id": "2cb602a7",
   "metadata": {},
   "source": [
    "# 7. For a library management system, you have to design the \"Book\" class with OOP principles in mind. The “Book” class will have following attributes:\n",
    "# a. title: Represents the title of the book.\n",
    "# b. author: Represents the author(s) of the book.\n",
    "# c. isbn: Represents the ISBN (International Standard Book Number) of the book.\n",
    "# d. publication_year: Represents the year of publication of the book.\n",
    "# e. available_copies: Represents the number of copies available for checkout.\n",
    "# The class will also include the following methods:\n",
    "# a. check_out(self): Decrements the available copies by one if there are copies\n",
    "# available for checkout.\n",
    "# b. return_book(self): Increments the available copies by one when a book is\n",
    "# returned.\n",
    "# c. display_book_info(self): Displays the information about the book, including its\n",
    "# attributes and the number of available copies.\n",
    "\n"
   ]
  },
  {
   "cell_type": "code",
   "execution_count": 17,
   "id": "e5a72cdf",
   "metadata": {},
   "outputs": [
    {
     "name": "stdout",
     "output_type": "stream",
     "text": [
      "Book Information:\n",
      "Title: Data Science Master\n",
      "Author(s): Krish Naiak Sir\n",
      "ISBN: 978-8210979611\n",
      "Publication Year: 2019\n",
      "Available Copies: 3\n",
      "Book 'Data Science Master' checked out successfully.\n",
      "Book 'Data Science Master' returned successfully.\n",
      "Book 'Data Science Master' checked out successfully.\n"
     ]
    }
   ],
   "source": [
    "class Book: # class name book\n",
    "    def __init__(self, title, author, isbn, publication_year, available_copies): #contructor\n",
    "        self.title = title\n",
    "        self.author = author\n",
    "        self.isbn = isbn\n",
    "        self.publication_year = publication_year\n",
    "        self.available_copies = available_copies\n",
    "\n",
    "    def check_out(self):\n",
    "        if self.available_copies > 0:\n",
    "            self.available_copies -= 1\n",
    "            print(f\"Book '{self.title}' checked out successfully.\")\n",
    "        else:\n",
    "            print(f\"Sorry, no copies of '{self.title}' are available for checkout.\")\n",
    "\n",
    "    def return_book(self):\n",
    "        self.available_copies += 1\n",
    "        print(f\"Book '{self.title}' returned successfully.\")\n",
    "\n",
    "    def display_book_info(self):\n",
    "        print(\"Book Information:\")\n",
    "        print(f\"Title: {self.title}\")\n",
    "        print(f\"Author(s): {self.author}\")\n",
    "        print(f\"ISBN: {self.isbn}\")\n",
    "        print(f\"Publication Year: {self.publication_year}\")\n",
    "        print(f\"Available Copies: {self.available_copies}\")\n",
    "\n",
    "\n",
    "# Example usage:\n",
    "\n",
    "# Creating a Book object\n",
    "book1 = Book(\"Data Science Master\", \"Krish Naiak Sir\", \"978-8210979611\", 2019, 3)\n",
    "\n",
    "# Displaying book information\n",
    "book1.display_book_info()\n",
    "\n",
    "# Checking out a book\n",
    "book1.check_out()\n",
    "\n",
    "# Returning the book\n",
    "book1.return_book()\n",
    "\n",
    "# Checking out a book (when no copies are available)\n",
    "book1.check_out()\n"
   ]
  },
  {
   "cell_type": "markdown",
   "id": "7e842673",
   "metadata": {},
   "source": [
    "# 8. For a ticket booking system, you have to design the \"Ticket\" class with OOP principles in mind. The “Ticket” class should have the following attributes:\n",
    "# a. ticket_id: Represents the unique identifier for the ticket.\n",
    "# b. event_name: Represents the name of the event.\n",
    "# c. event_date: Represents the date of the event.\n",
    "# d. venue: Represents the venue of the event.\n",
    "# e. seat_number: Represents the seat number associated with the ticket.\n",
    "# f. price: Represents the price of the ticket.\n",
    "# g. is_reserved: Represents the reservation status of the ticket.\n",
    "# The class also includes the following methods:\n",
    "# a. reserve_ticket(self): Marks the ticket as reserved if it is not already reserved.\n",
    "# b. cancel_reservation(self): Cancels the reservation of the ticket if it is already\n",
    "# reserved.\n",
    "# c. display_ticket_info(self): Displays the information about the ticket, including its\n",
    "# attributes and reservation status.\n",
    "\n"
   ]
  },
  {
   "cell_type": "code",
   "execution_count": 13,
   "id": "1182d17c",
   "metadata": {},
   "outputs": [
    {
     "name": "stdout",
     "output_type": "stream",
     "text": [
      "Ticket Information:\n",
      "Ticket ID: 1001\n",
      "Event Name: Concert Night\n",
      "Event Date: 2023-08-15\n",
      "Venue: Music Arena\n",
      "Seat Number: A12\n",
      "Price: 50\n",
      "Reservation Status: Not Reserved\n",
      "Ticket 1001 reserved successfully.\n",
      "Reservation for Ticket 1001 cancelled.\n",
      "Ticket 1001 reserved successfully.\n"
     ]
    }
   ],
   "source": [
    "class Ticket:\n",
    "    def __init__(self, ticket_id, event_name, event_date, venue, seat_number, price):\n",
    "        self.ticket_id = ticket_id\n",
    "        self.event_name = event_name\n",
    "        self.event_date = event_date\n",
    "        self.venue = venue\n",
    "        self.seat_number = seat_number\n",
    "        self.price = price\n",
    "        self.is_reserved = False\n",
    "\n",
    "    def reserve_ticket(self):\n",
    "        if not self.is_reserved:\n",
    "            self.is_reserved = True\n",
    "            print(f\"Ticket {self.ticket_id} reserved successfully.\")\n",
    "        else:\n",
    "            print(f\"Ticket {self.ticket_id} is already reserved.\")\n",
    "\n",
    "    def cancel_reservation(self):\n",
    "        if self.is_reserved:\n",
    "            self.is_reserved = False\n",
    "            print(f\"Reservation for Ticket {self.ticket_id} cancelled.\")\n",
    "        else:\n",
    "            print(f\"Ticket {self.ticket_id} is not reserved.\")\n",
    "\n",
    "    def display_ticket_info(self):\n",
    "        print(\"Ticket Information:\")\n",
    "        print(f\"Ticket ID: {self.ticket_id}\")\n",
    "        print(f\"Event Name: {self.event_name}\")\n",
    "        print(f\"Event Date: {self.event_date}\")\n",
    "        print(f\"Venue: {self.venue}\")\n",
    "        print(f\"Seat Number: {self.seat_number}\")\n",
    "        print(f\"Price: {self.price}\")\n",
    "        print(f\"Reservation Status: {'Reserved' if self.is_reserved else 'Not Reserved'}\")\n",
    "\n",
    "\n",
    "# Example usage:\n",
    "\n",
    "# Creating a Ticket object\n",
    "ticket1 = Ticket(1001, \"Concert Night\", \"2023-08-15\", \"Music Arena\", \"A12\", 50)\n",
    "\n",
    "# Displaying ticket information\n",
    "ticket1.display_ticket_info()\n",
    "\n",
    "# Reserving the ticket\n",
    "ticket1.reserve_ticket()\n",
    "\n",
    "# Canceling the reservation\n",
    "ticket1.cancel_reservation()\n",
    "\n",
    "# Trying to reserve the ticket again\n",
    "ticket1.reserve_ticket()\n"
   ]
  },
  {
   "cell_type": "markdown",
   "id": "17d28043",
   "metadata": {},
   "source": [
    "# 9. You are creating a shopping cart for an e-commerce website. Using OOP to model the \"ShoppingCart\" functionality the class should contain following attributes and methods:\n",
    "# a. items: Represents the list of items in the shopping cart.\n",
    "# The class also includes the following methods:\n",
    "\n",
    "# a. add_item(self, item): Adds an item to the shopping cart by appending it to the\n",
    "# list of items.\n",
    "# b. remove_item(self, item): Removes an item from the shopping cart if it exists in\n",
    "# the list.\n",
    "# c. view_cart(self): Displays the items currently present in the shopping cart.\n",
    "# d. clear_cart(self): Clears all items from the shopping cart by reassigning an\n",
    "# empty list to the items attribute.\n",
    "\n"
   ]
  },
  {
   "cell_type": "code",
   "execution_count": 20,
   "id": "a942150c",
   "metadata": {},
   "outputs": [
    {
     "name": "stdout",
     "output_type": "stream",
     "text": [
      "Phone added to the shopping cart.\n",
      "Laptop added to the shopping cart.\n",
      "Headphones added to the shopping cart.\n",
      "Shopping Cart Contents:\n",
      "- Phone\n",
      "- Laptop\n",
      "- Headphones\n",
      "Laptop removed from the shopping cart.\n",
      "Shopping Cart Contents:\n",
      "- Phone\n",
      "- Headphones\n",
      "Shopping Cart cleared.\n",
      "Shopping Cart is empty.\n"
     ]
    }
   ],
   "source": [
    "class ShoppingCart:\n",
    "    def __init__(self):\n",
    "        self.items = []\n",
    "\n",
    "    def add_item(self, item):\n",
    "        self.items.append(item)\n",
    "        print(f\"{item} added to the shopping cart.\")\n",
    "\n",
    "    def remove_item(self, item):\n",
    "        if item in self.items:\n",
    "            self.items.remove(item)\n",
    "            print(f\"{item} removed from the shopping cart.\")\n",
    "        else:\n",
    "            print(f\"{item} is not in the shopping cart.\")\n",
    "\n",
    "    def view_cart(self):\n",
    "        if self.items:\n",
    "            print(\"Shopping Cart Contents:\")\n",
    "            for item in self.items:\n",
    "                print(f\"- {item}\")\n",
    "        else:\n",
    "            print(\"Shopping Cart is empty.\")\n",
    "\n",
    "    def clear_cart(self):\n",
    "        self.items = []\n",
    "        print(\"Shopping Cart cleared.\")\n",
    "\n",
    "\n",
    "# Example usage:\n",
    "\n",
    "# Creating a ShoppingCart object\n",
    "cart = ShoppingCart()\n",
    "\n",
    "# Adding items to the cart\n",
    "cart.add_item(\"Phone\")\n",
    "cart.add_item(\"Laptop\")\n",
    "cart.add_item(\"Headphones\")\n",
    "\n",
    "# Viewing the cart\n",
    "cart.view_cart()\n",
    "\n",
    "# Removing an item from the cart\n",
    "cart.remove_item(\"Laptop\")\n",
    "\n",
    "# Viewing the updated cart\n",
    "cart.view_cart()\n",
    "\n",
    "# Clearing the cart\n",
    "cart.clear_cart()\n",
    "\n",
    "# Viewing the empty cart\n",
    "cart.view_cart()\n"
   ]
  },
  {
   "cell_type": "markdown",
   "id": "84675637",
   "metadata": {},
   "source": [
    "# 10. Imagine a school management system. You have to design the \"Student\" class using\n",
    "# OOP concepts.The “Student” class has the following attributes:\n",
    "# a. name: Represents the name of the student.\n",
    "# b. age: Represents the age of the student.\n",
    "# c. grade: Represents the grade or class of the student.\n",
    "# d. student_id: Represents the unique identifier for the student.\n",
    "# e. attendance: Represents the attendance record of the student.\n",
    "# The class should also include the following methods:\n",
    "# a. update_attendance(self, date, status): Updates the attendance record of the\n",
    "# student for a given date with the provided status (e.g., present or absent).\n",
    "# b. get_attendance(self): Returns the attendance record of the student.\n",
    "# c. get_average_attendance(self): Calculates and returns the average\n",
    "# attendance percentage of the student based on their attendance record."
   ]
  },
  {
   "cell_type": "code",
   "execution_count": 23,
   "id": "a79a2351",
   "metadata": {},
   "outputs": [
    {
     "name": "stdout",
     "output_type": "stream",
     "text": [
      "Name : Mojammil\n",
      "Age : 14\n",
      "Class : 10th\n",
      "student_id : 1453\n",
      "Attendance for 2023-08-04 updated: present\n",
      "Attendance for 2023-08-05 updated: absent\n",
      "Attendance for 2023-08-06 updated: present\n",
      "Attendance Record: {'2023-08-04': 'present', '2023-08-05': 'absent', '2023-08-06': 'present'}\n",
      "Average Attendance: 66.67%\n"
     ]
    }
   ],
   "source": [
    "class Student:\n",
    "    def __init__(self, name, age, grade, student_id):\n",
    "        self.name = name\n",
    "        self.age = age\n",
    "        self.grade = grade\n",
    "        self.student_id = student_id\n",
    "        self.attendance = {}  # Attendance record will be stored as a dictionary with date as key and status as value\n",
    "\n",
    "    def update_attendance(self, date, status):\n",
    "        self.attendance[date] = status\n",
    "        print(f\"Attendance for {date} updated: {status}\")\n",
    "\n",
    "    def get_attendance(self):\n",
    "        return self.attendance\n",
    "\n",
    "    def get_average_attendance(self):\n",
    "        total_days = len(self.attendance)\n",
    "        if total_days == 0:\n",
    "            return 0.0\n",
    "        present_days = sum(1 for status in self.attendance.values() if status == 'present')\n",
    "        attendance_percentage = (present_days / total_days) * 100\n",
    "        return round(attendance_percentage, 2)\n",
    "\n",
    "\n",
    "# Example usage:\n",
    "\n",
    "# Creating a Student object\n",
    "student1 = Student(\"Mojammil\", 14, \"10th\", \"1453\")\n",
    "\n",
    "# Creating a Student Details\n",
    "print(\"Name :\",student1.name)\n",
    "print(\"Age :\",student1.age)\n",
    "print(\"Class :\",student1.grade)\n",
    "print(\"student_id :\",student1.student_id)\n",
    "\n",
    "# Updating attendance\n",
    "student1.update_attendance(\"2023-08-04\", \"present\")\n",
    "student1.update_attendance(\"2023-08-05\", \"absent\")\n",
    "student1.update_attendance(\"2023-08-06\", \"present\")\n",
    "\n",
    "# Getting attendance record\n",
    "attendance_record = student1.get_attendance()\n",
    "print(\"Attendance Record:\", attendance_record)\n",
    "\n",
    "# Getting average attendance\n",
    "average_attendance = student1.get_average_attendance()\n",
    "print(f\"Average Attendance: {average_attendance}%\")\n"
   ]
  },
  {
   "cell_type": "code",
   "execution_count": null,
   "id": "f35fb6c6",
   "metadata": {},
   "outputs": [],
   "source": []
  }
 ],
 "metadata": {
  "kernelspec": {
   "display_name": "Python 3 (ipykernel)",
   "language": "python",
   "name": "python3"
  },
  "language_info": {
   "codemirror_mode": {
    "name": "ipython",
    "version": 3
   },
   "file_extension": ".py",
   "mimetype": "text/x-python",
   "name": "python",
   "nbconvert_exporter": "python",
   "pygments_lexer": "ipython3",
   "version": "3.10.6"
  }
 },
 "nbformat": 4,
 "nbformat_minor": 5
}
